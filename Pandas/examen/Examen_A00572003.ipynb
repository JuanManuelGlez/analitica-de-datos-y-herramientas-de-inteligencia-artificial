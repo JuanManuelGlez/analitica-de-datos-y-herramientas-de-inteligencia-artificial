{
 "cells": [
  {
   "cell_type": "markdown",
   "metadata": {},
   "source": [
    "# Examen UF2\n",
    "## Juan Manuel González Ascencio - A00572003\n",
    "-----\n",
    "Lee el documento .csv y pasa los datos a un DataFrame, posteriormente, despliega su información general: índices, columnas, nulos, tamaño en memoria.\n",
    "\n"
   ]
  },
  {
   "cell_type": "code",
   "execution_count": 79,
   "metadata": {},
   "outputs": [],
   "source": [
    "import pandas as pd\n",
    "import numpy as np \n",
    "import sqlite3"
   ]
  },
  {
   "cell_type": "code",
   "execution_count": 63,
   "metadata": {},
   "outputs": [
    {
     "name": "stdout",
     "output_type": "stream",
     "text": [
      "<class 'pandas.core.frame.DataFrame'>\n",
      "RangeIndex: 497 entries, 0 to 496\n",
      "Data columns (total 6 columns):\n",
      " #   Column     Non-Null Count  Dtype  \n",
      "---  ------     --------------  -----  \n",
      " 0   embarazos  419 non-null    float64\n",
      " 1   plasma     488 non-null    float64\n",
      " 2   presion    497 non-null    int64  \n",
      " 3   masa       497 non-null    float64\n",
      " 4   edad       497 non-null    int64  \n",
      " 5   estado     497 non-null    object \n",
      "dtypes: float64(3), int64(2), object(1)\n",
      "memory usage: 23.4+ KB\n",
      "None\n"
     ]
    }
   ],
   "source": [
    "df = pd.read_csv('df-1.csv')\n",
    "print(df.info())\n"
   ]
  },
  {
   "cell_type": "markdown",
   "metadata": {},
   "source": [
    "Imprime el total de registros no nulos en la columna “embarazos”.\n",
    "\n",
    "Utiliza en el código la expresión “El dataframe tiene ___ registros no nulos en la columna embarazos”\n",
    "\n"
   ]
  },
  {
   "cell_type": "code",
   "execution_count": 64,
   "metadata": {},
   "outputs": [
    {
     "name": "stdout",
     "output_type": "stream",
     "text": [
      "El dataframe tiene  419  registros no nulos en la columna embarazos\n"
     ]
    }
   ],
   "source": [
    "print(\"El dataframe tiene \",df['embarazos'].count(), \" registros no nulos en la columna embarazos\")"
   ]
  },
  {
   "cell_type": "markdown",
   "metadata": {},
   "source": [
    "Borra a los pacientes con los índices 5, 20 y 60 e imprime el conteo de registros no nulos por columna con el total actualizado."
   ]
  },
  {
   "cell_type": "code",
   "execution_count": 65,
   "metadata": {},
   "outputs": [
    {
     "name": "stdout",
     "output_type": "stream",
     "text": [
      "<class 'pandas.core.frame.DataFrame'>\n",
      "Index: 494 entries, 0 to 496\n",
      "Data columns (total 6 columns):\n",
      " #   Column     Non-Null Count  Dtype  \n",
      "---  ------     --------------  -----  \n",
      " 0   embarazos  416 non-null    float64\n",
      " 1   plasma     485 non-null    float64\n",
      " 2   presion    494 non-null    int64  \n",
      " 3   masa       494 non-null    float64\n",
      " 4   edad       494 non-null    int64  \n",
      " 5   estado     494 non-null    object \n",
      "dtypes: float64(3), int64(2), object(1)\n",
      "memory usage: 27.0+ KB\n",
      "None\n"
     ]
    }
   ],
   "source": [
    "#Borra a los pacientes con los índices 5, 20 y 60 e imprime el conteo de registros no nulos por columna con el total actualizado.\n",
    "df = df.drop([5,20,60])\n",
    "\n",
    "print(df.info())\n"
   ]
  },
  {
   "cell_type": "markdown",
   "metadata": {},
   "source": [
    "Agrega los siguientes datos al dataframe:\n",
    "\n",
    "Despliega una descripción estadística del dataframe actualizado (redondeado a 2 dígitos) y completa la información para la variable edad:\n",
    "\n"
   ]
  },
  {
   "cell_type": "code",
   "execution_count": 66,
   "metadata": {},
   "outputs": [
    {
     "data": {
      "text/html": [
       "<div>\n",
       "<style scoped>\n",
       "    .dataframe tbody tr th:only-of-type {\n",
       "        vertical-align: middle;\n",
       "    }\n",
       "\n",
       "    .dataframe tbody tr th {\n",
       "        vertical-align: top;\n",
       "    }\n",
       "\n",
       "    .dataframe thead th {\n",
       "        text-align: right;\n",
       "    }\n",
       "</style>\n",
       "<table border=\"1\" class=\"dataframe\">\n",
       "  <thead>\n",
       "    <tr style=\"text-align: right;\">\n",
       "      <th></th>\n",
       "      <th>embarazos</th>\n",
       "      <th>plasma</th>\n",
       "      <th>presion</th>\n",
       "      <th>masa</th>\n",
       "      <th>edad</th>\n",
       "      <th>estado</th>\n",
       "    </tr>\n",
       "  </thead>\n",
       "  <tbody>\n",
       "    <tr>\n",
       "      <th>0</th>\n",
       "      <td>6.0</td>\n",
       "      <td>148.0</td>\n",
       "      <td>72</td>\n",
       "      <td>33.6</td>\n",
       "      <td>50</td>\n",
       "      <td>positive</td>\n",
       "    </tr>\n",
       "    <tr>\n",
       "      <th>1</th>\n",
       "      <td>1.0</td>\n",
       "      <td>85.0</td>\n",
       "      <td>66</td>\n",
       "      <td>26.6</td>\n",
       "      <td>31</td>\n",
       "      <td>negative</td>\n",
       "    </tr>\n",
       "    <tr>\n",
       "      <th>2</th>\n",
       "      <td>8.0</td>\n",
       "      <td>183.0</td>\n",
       "      <td>64</td>\n",
       "      <td>23.3</td>\n",
       "      <td>32</td>\n",
       "      <td>positive</td>\n",
       "    </tr>\n",
       "    <tr>\n",
       "      <th>3</th>\n",
       "      <td>1.0</td>\n",
       "      <td>89.0</td>\n",
       "      <td>66</td>\n",
       "      <td>28.1</td>\n",
       "      <td>21</td>\n",
       "      <td>negative</td>\n",
       "    </tr>\n",
       "    <tr>\n",
       "      <th>4</th>\n",
       "      <td>NaN</td>\n",
       "      <td>137.0</td>\n",
       "      <td>40</td>\n",
       "      <td>43.1</td>\n",
       "      <td>33</td>\n",
       "      <td>positive</td>\n",
       "    </tr>\n",
       "    <tr>\n",
       "      <th>...</th>\n",
       "      <td>...</td>\n",
       "      <td>...</td>\n",
       "      <td>...</td>\n",
       "      <td>...</td>\n",
       "      <td>...</td>\n",
       "      <td>...</td>\n",
       "    </tr>\n",
       "    <tr>\n",
       "      <th>487</th>\n",
       "      <td>NaN</td>\n",
       "      <td>173.0</td>\n",
       "      <td>78</td>\n",
       "      <td>46.5</td>\n",
       "      <td>58</td>\n",
       "      <td>negative</td>\n",
       "    </tr>\n",
       "    <tr>\n",
       "      <th>488</th>\n",
       "      <td>4.0</td>\n",
       "      <td>99.0</td>\n",
       "      <td>72</td>\n",
       "      <td>25.6</td>\n",
       "      <td>28</td>\n",
       "      <td>negative</td>\n",
       "    </tr>\n",
       "    <tr>\n",
       "      <th>489</th>\n",
       "      <td>8.0</td>\n",
       "      <td>194.0</td>\n",
       "      <td>80</td>\n",
       "      <td>26.1</td>\n",
       "      <td>67</td>\n",
       "      <td>negative</td>\n",
       "    </tr>\n",
       "    <tr>\n",
       "      <th>490</th>\n",
       "      <td>2.0</td>\n",
       "      <td>83.0</td>\n",
       "      <td>65</td>\n",
       "      <td>36.8</td>\n",
       "      <td>24</td>\n",
       "      <td>negative</td>\n",
       "    </tr>\n",
       "    <tr>\n",
       "      <th>491</th>\n",
       "      <td>2.0</td>\n",
       "      <td>89.0</td>\n",
       "      <td>90</td>\n",
       "      <td>33.5</td>\n",
       "      <td>42</td>\n",
       "      <td>negative</td>\n",
       "    </tr>\n",
       "  </tbody>\n",
       "</table>\n",
       "<p>489 rows × 6 columns</p>\n",
       "</div>"
      ],
      "text/plain": [
       "     embarazos  plasma  presion  masa  edad    estado\n",
       "0          6.0   148.0       72  33.6    50  positive\n",
       "1          1.0    85.0       66  26.6    31  negative\n",
       "2          8.0   183.0       64  23.3    32  positive\n",
       "3          1.0    89.0       66  28.1    21  negative\n",
       "4          NaN   137.0       40  43.1    33  positive\n",
       "..         ...     ...      ...   ...   ...       ...\n",
       "487        NaN   173.0       78  46.5    58  negative\n",
       "488        4.0    99.0       72  25.6    28  negative\n",
       "489        8.0   194.0       80  26.1    67  negative\n",
       "490        2.0    83.0       65  36.8    24  negative\n",
       "491        2.0    89.0       90  33.5    42  negative\n",
       "\n",
       "[489 rows x 6 columns]"
      ]
     },
     "execution_count": 66,
     "metadata": {},
     "output_type": "execute_result"
    }
   ],
   "source": [
    "df.head(-5)"
   ]
  },
  {
   "cell_type": "code",
   "execution_count": 67,
   "metadata": {},
   "outputs": [
    {
     "data": {
      "text/html": [
       "<div>\n",
       "<style scoped>\n",
       "    .dataframe tbody tr th:only-of-type {\n",
       "        vertical-align: middle;\n",
       "    }\n",
       "\n",
       "    .dataframe tbody tr th {\n",
       "        vertical-align: top;\n",
       "    }\n",
       "\n",
       "    .dataframe thead th {\n",
       "        text-align: right;\n",
       "    }\n",
       "</style>\n",
       "<table border=\"1\" class=\"dataframe\">\n",
       "  <thead>\n",
       "    <tr style=\"text-align: right;\">\n",
       "      <th></th>\n",
       "      <th>embarazos</th>\n",
       "      <th>plasma</th>\n",
       "      <th>presion</th>\n",
       "      <th>masa</th>\n",
       "      <th>edad</th>\n",
       "      <th>estado</th>\n",
       "    </tr>\n",
       "  </thead>\n",
       "  <tbody>\n",
       "    <tr>\n",
       "      <th>0</th>\n",
       "      <td>6.0</td>\n",
       "      <td>148.0</td>\n",
       "      <td>72</td>\n",
       "      <td>33.6</td>\n",
       "      <td>50</td>\n",
       "      <td>positive</td>\n",
       "    </tr>\n",
       "    <tr>\n",
       "      <th>1</th>\n",
       "      <td>1.0</td>\n",
       "      <td>85.0</td>\n",
       "      <td>66</td>\n",
       "      <td>26.6</td>\n",
       "      <td>31</td>\n",
       "      <td>negative</td>\n",
       "    </tr>\n",
       "    <tr>\n",
       "      <th>2</th>\n",
       "      <td>8.0</td>\n",
       "      <td>183.0</td>\n",
       "      <td>64</td>\n",
       "      <td>23.3</td>\n",
       "      <td>32</td>\n",
       "      <td>positive</td>\n",
       "    </tr>\n",
       "    <tr>\n",
       "      <th>3</th>\n",
       "      <td>1.0</td>\n",
       "      <td>89.0</td>\n",
       "      <td>66</td>\n",
       "      <td>28.1</td>\n",
       "      <td>21</td>\n",
       "      <td>negative</td>\n",
       "    </tr>\n",
       "    <tr>\n",
       "      <th>4</th>\n",
       "      <td>NaN</td>\n",
       "      <td>137.0</td>\n",
       "      <td>40</td>\n",
       "      <td>43.1</td>\n",
       "      <td>33</td>\n",
       "      <td>positive</td>\n",
       "    </tr>\n",
       "    <tr>\n",
       "      <th>...</th>\n",
       "      <td>...</td>\n",
       "      <td>...</td>\n",
       "      <td>...</td>\n",
       "      <td>...</td>\n",
       "      <td>...</td>\n",
       "      <td>...</td>\n",
       "    </tr>\n",
       "    <tr>\n",
       "      <th>492</th>\n",
       "      <td>6.0</td>\n",
       "      <td>166.0</td>\n",
       "      <td>74</td>\n",
       "      <td>26.6</td>\n",
       "      <td>66</td>\n",
       "      <td>negative</td>\n",
       "    </tr>\n",
       "    <tr>\n",
       "      <th>493</th>\n",
       "      <td>5.0</td>\n",
       "      <td>110.0</td>\n",
       "      <td>68</td>\n",
       "      <td>26.0</td>\n",
       "      <td>30</td>\n",
       "      <td>negative</td>\n",
       "    </tr>\n",
       "    <tr>\n",
       "      <th>494</th>\n",
       "      <td>2.0</td>\n",
       "      <td>81.0</td>\n",
       "      <td>72</td>\n",
       "      <td>30.1</td>\n",
       "      <td>25</td>\n",
       "      <td>negative</td>\n",
       "    </tr>\n",
       "    <tr>\n",
       "      <th>495</th>\n",
       "      <td>7.0</td>\n",
       "      <td>195.0</td>\n",
       "      <td>70</td>\n",
       "      <td>25.1</td>\n",
       "      <td>55</td>\n",
       "      <td>positive</td>\n",
       "    </tr>\n",
       "    <tr>\n",
       "      <th>496</th>\n",
       "      <td>6.0</td>\n",
       "      <td>154.0</td>\n",
       "      <td>74</td>\n",
       "      <td>29.3</td>\n",
       "      <td>39</td>\n",
       "      <td>negative</td>\n",
       "    </tr>\n",
       "  </tbody>\n",
       "</table>\n",
       "<p>497 rows × 6 columns</p>\n",
       "</div>"
      ],
      "text/plain": [
       "     embarazos  plasma  presion  masa  edad    estado\n",
       "0          6.0   148.0       72  33.6    50  positive\n",
       "1          1.0    85.0       66  26.6    31  negative\n",
       "2          8.0   183.0       64  23.3    32  positive\n",
       "3          1.0    89.0       66  28.1    21  negative\n",
       "4          NaN   137.0       40  43.1    33  positive\n",
       "..         ...     ...      ...   ...   ...       ...\n",
       "492        6.0   166.0       74  26.6    66  negative\n",
       "493        5.0   110.0       68  26.0    30  negative\n",
       "494        2.0    81.0       72  30.1    25  negative\n",
       "495        7.0   195.0       70  25.1    55  positive\n",
       "496        6.0   154.0       74  29.3    39  negative\n",
       "\n",
       "[497 rows x 6 columns]"
      ]
     },
     "execution_count": 67,
     "metadata": {},
     "output_type": "execute_result"
    }
   ],
   "source": [
    "#Agega un registro con los siguientes valores [2, 81, 72, 30.1, 25, \"negative\"]\n",
    "#dict = {'embarazos':[2,7,6], \n",
    "#        'plasma':[81,195,154], \n",
    "#        'presion':[72,70,74],\n",
    "#        'masa':[30.1,25.1,29.3],\n",
    "#        'edad':[25,55,39],\n",
    "#        'estado':['negative','positive','negative']} \n",
    "       \n",
    "#df.loc[len(df.index)] = [2, 81, 72, 30.1, 25, \"negative\"]\n",
    "#df.loc[len(df.index)] = [7, 195, 70, 25.1, 55, \"positive\"]\n",
    "#df.loc[len(df.index)] = [6, 154, 74, 29.3, 39, \"negative\"]\n",
    "\n",
    "df2 = pd.DataFrame({'embarazos':[2,7,6], \n",
    "        'plasma':[81,195,154], \n",
    "        'presion':[72,70,74],\n",
    "        'masa':[30.1,25.1,29.3],\n",
    "        'edad':[25,55,39],\n",
    "        'estado':['negative','positive','negative']} )\n",
    "\n",
    "pd.concat([df,df2] , ignore_index=True)"
   ]
  },
  {
   "cell_type": "code",
   "execution_count": 68,
   "metadata": {},
   "outputs": [
    {
     "data": {
      "text/plain": [
       "count    494.000000\n",
       "mean      33.101215\n",
       "std       11.631507\n",
       "min       21.000000\n",
       "25%       24.000000\n",
       "50%       29.000000\n",
       "75%       39.750000\n",
       "max       81.000000\n",
       "Name: edad, dtype: float64"
      ]
     },
     "execution_count": 68,
     "metadata": {},
     "output_type": "execute_result"
    }
   ],
   "source": [
    "df.edad.describe()"
   ]
  },
  {
   "cell_type": "markdown",
   "metadata": {},
   "source": [
    "Reemplaza los valores nulos de la columna “embarazos” por 0 y los de la columna “plasma” por la mediana de los pacientes."
   ]
  },
  {
   "cell_type": "code",
   "execution_count": 70,
   "metadata": {},
   "outputs": [],
   "source": [
    "#Reemplaza los valores nulos de la columna “embarazos” por 0 y los de la columna “plasma” por la mediana de los pacientes.\n",
    "df['embarazos'].fillna(0, inplace=True)\n",
    "df['plasma'].fillna(df['plasma'].median(), inplace=True)"
   ]
  },
  {
   "cell_type": "code",
   "execution_count": 72,
   "metadata": {},
   "outputs": [
    {
     "name": "stdout",
     "output_type": "stream",
     "text": [
      "El promedio de embarazos es:  3.8036437246963564\n",
      "El promedio de plasma es:  121.52024291497976\n"
     ]
    }
   ],
   "source": [
    "#promedio de embarazos\n",
    "print(\"El promedio de embarazos es: \", df['embarazos'].mean())\n",
    "#promedio de plasma\n",
    "print(\"El promedio de plasma es: \", df['plasma'].mean())"
   ]
  },
  {
   "cell_type": "markdown",
   "metadata": {},
   "source": [
    "Imprime los tres pacientes con la presión arterial más alta y rellena los campos con los valores en orden"
   ]
  },
  {
   "cell_type": "code",
   "execution_count": 75,
   "metadata": {},
   "outputs": [
    {
     "name": "stdout",
     "output_type": "stream",
     "text": [
      "     embarazos  plasma  presion  masa  edad    estado\n",
      "106        1.0    96.0      122  22.4    27  negative\n",
      "43         9.0   171.0      110  45.4    54  positive\n",
      "177        0.0   129.0      110  67.1    26  positive\n"
     ]
    }
   ],
   "source": [
    "print(df.sort_values(by='presion', ascending=False).head(3))"
   ]
  },
  {
   "cell_type": "markdown",
   "metadata": {},
   "source": [
    "Imprime el total de pacientes que no tienen diabetes"
   ]
  },
  {
   "cell_type": "code",
   "execution_count": 76,
   "metadata": {},
   "outputs": [
    {
     "name": "stdout",
     "output_type": "stream",
     "text": [
      "El total de pacientes que no tienen diabetes es:  313\n"
     ]
    }
   ],
   "source": [
    "#Imprime el total de pacientes que no tienen diabetes\n",
    "print(\"El total de pacientes que no tienen diabetes es: \", df[df['estado'] == 'negative'].shape[0])"
   ]
  },
  {
   "cell_type": "markdown",
   "metadata": {},
   "source": [
    "En promedio, ¿Quién tiene la presión arterial más alta, los pacientes con diabetes (positive) o los que no tienen (negative)?\n",
    "\n",
    "Nota: Para responder a la pregunta codifica de manera que se despliegue \"Los pacientes con/sin diabetes tienen mayor presión: XX.XX\""
   ]
  },
  {
   "cell_type": "code",
   "execution_count": 77,
   "metadata": {},
   "outputs": [
    {
     "name": "stdout",
     "output_type": "stream",
     "text": [
      "Los pacientes con diabetes tienen mayor presión:  69.72375690607734\n",
      "Los pacientes sin diabetes tienen mayor presión:  68.3035143769968\n"
     ]
    }
   ],
   "source": [
    "print(\"Los pacientes con diabetes tienen mayor presión: \", df[df['estado'] == 'positive']['presion'].mean())\n",
    "print(\"Los pacientes sin diabetes tienen mayor presión: \", df[df['estado'] == 'negative']['presion'].mean())\n",
    "\n"
   ]
  },
  {
   "cell_type": "markdown",
   "metadata": {},
   "source": [
    "Genera una consulta (mask) y responde a la pregunta ¿Cuántos pacientes diabéticos tienen entre 20 y 40 años?\n",
    "\n"
   ]
  },
  {
   "cell_type": "code",
   "execution_count": 78,
   "metadata": {},
   "outputs": [
    {
     "name": "stdout",
     "output_type": "stream",
     "text": [
      "Los pacientes diabéticos que tienen entre 20 y 40 años son:  120\n"
     ]
    }
   ],
   "source": [
    "#Genera una consulta (mask) y responde a la pregunta ¿Cuántos pacientes diabéticos tienen entre 20 y 40 años?\n",
    "\n",
    "mask = (df['estado'] == 'positive') & (df['edad'] >= 20) & (df['edad'] <= 40)\n",
    "print(\"Los pacientes diabéticos que tienen entre 20 y 40 años son: \", df[mask].shape[0])"
   ]
  },
  {
   "cell_type": "markdown",
   "metadata": {},
   "source": [
    "Ahora trabajaremos con otra fuente de información: `Mental Health Survey Data Download Mental Health Survey Data`. Estos son datos recolectados por la Open Source Mental Illness (OSMI) usando respuestas a cuestionarios de los años 2014, 2016, 2017, 2018 y 2019. Cada cuestionario mide comportamientos de salud mental y frecuencia de desórdenes de salud mental en el lugar de trabajo.\n",
    "\n",
    "La base de datos SQLite contiene 3 tablas: Survey, Question, y Answer:\n",
    "\n",
    "- Survey (PRIMARY KEY INT SurveyID, TEXT Description)\n",
    "- Question (PRIMARY KEY QuestionID, TEXT QuestionText)\n",
    "- Answer (PRIMARY/FOREIGN KEY SurveyID, PRIMARY KEY UserID, PRIMARY/FOREIGN KEY QuestionID, TEXT AnswerText) \n",
    " \n",
    "\n",
    "Algunas consideraciones:\n",
    "\n",
    "- SurveyID es simplemente el año de la encuesta, es decir, 2014, 2016, 2017, 2018, 2019.\n",
    "- La misma pregunta se puede utilizar para varias encuestas.\n",
    "- La tabla de respuestas es una tabla compuesta con varias claves primarias. SurveyID y QuestionID son FOREIGN KEYS.\n",
    "- Algunas preguntas pueden contener varias respuestas, por lo que el mismo usuario puede aparecer más de una vez para ese ID de pregunta.\n",
    " \n",
    "Lee las tablas del archivo .sqlite en DataFrames, posteriormente, completa la siguiente información de cada dataframe:"
   ]
  },
  {
   "cell_type": "code",
   "execution_count": 86,
   "metadata": {},
   "outputs": [
    {
     "name": "stdout",
     "output_type": "stream",
     "text": [
      "5\n",
      "105\n",
      "2\n",
      "2\n"
     ]
    }
   ],
   "source": [
    "#Lee las tablas del archivo .sqlite en DataFrames\n",
    "conn = sqlite3.connect('mental_health-1.sqlite')\n",
    "df1 = pd.read_sql_query(\"SELECT * FROM Survey\", conn)\n",
    "dfPreguntas = pd.read_sql_query(\"SELECT * FROM Question\", conn)\n",
    "dfRespuestas = pd.read_sql_query(\"SELECT * FROM Answer\", conn)\n",
    "#Imprime el total de registros de cada tabla\n",
    "print(df1.shape[0])\n",
    "print(dfPreguntas.shape[0])\n",
    "\n",
    "#Total de columnas\n",
    "print(df1.shape[1])\n",
    "print(dfPreguntas.shape[1])\n",
    "\n"
   ]
  },
  {
   "cell_type": "markdown",
   "metadata": {},
   "source": [
    "Crea un nuevo DataFrame que integre los textos del dataframe de preguntas junto con el DataFrame de respuestas.\n",
    "\n"
   ]
  },
  {
   "cell_type": "code",
   "execution_count": 98,
   "metadata": {},
   "outputs": [
    {
     "name": "stdout",
     "output_type": "stream",
     "text": [
      "236898\n",
      "6\n"
     ]
    },
    {
     "data": {
      "text/html": [
       "<div>\n",
       "<style scoped>\n",
       "    .dataframe tbody tr th:only-of-type {\n",
       "        vertical-align: middle;\n",
       "    }\n",
       "\n",
       "    .dataframe tbody tr th {\n",
       "        vertical-align: top;\n",
       "    }\n",
       "\n",
       "    .dataframe thead th {\n",
       "        text-align: right;\n",
       "    }\n",
       "</style>\n",
       "<table border=\"1\" class=\"dataframe\">\n",
       "  <thead>\n",
       "    <tr style=\"text-align: right;\">\n",
       "      <th></th>\n",
       "      <th>questiontext</th>\n",
       "      <th>questionid</th>\n",
       "      <th>AnswerText</th>\n",
       "      <th>SurveyID</th>\n",
       "      <th>UserID</th>\n",
       "      <th>QuestionID</th>\n",
       "    </tr>\n",
       "  </thead>\n",
       "  <tbody>\n",
       "    <tr>\n",
       "      <th>0</th>\n",
       "      <td>What is your age?</td>\n",
       "      <td>1</td>\n",
       "      <td>-1</td>\n",
       "      <td>2014</td>\n",
       "      <td>391</td>\n",
       "      <td>1</td>\n",
       "    </tr>\n",
       "    <tr>\n",
       "      <th>1</th>\n",
       "      <td>What is your age?</td>\n",
       "      <td>1</td>\n",
       "      <td>-1</td>\n",
       "      <td>2014</td>\n",
       "      <td>716</td>\n",
       "      <td>1</td>\n",
       "    </tr>\n",
       "    <tr>\n",
       "      <th>2</th>\n",
       "      <td>What is your age?</td>\n",
       "      <td>1</td>\n",
       "      <td>-1</td>\n",
       "      <td>2014</td>\n",
       "      <td>1128</td>\n",
       "      <td>1</td>\n",
       "    </tr>\n",
       "    <tr>\n",
       "      <th>3</th>\n",
       "      <td>What is your age?</td>\n",
       "      <td>1</td>\n",
       "      <td>-1</td>\n",
       "      <td>2017</td>\n",
       "      <td>3447</td>\n",
       "      <td>1</td>\n",
       "    </tr>\n",
       "    <tr>\n",
       "      <th>4</th>\n",
       "      <td>What is your age?</td>\n",
       "      <td>1</td>\n",
       "      <td>-1</td>\n",
       "      <td>2017</td>\n",
       "      <td>3449</td>\n",
       "      <td>1</td>\n",
       "    </tr>\n",
       "  </tbody>\n",
       "</table>\n",
       "</div>"
      ],
      "text/plain": [
       "        questiontext  questionid AnswerText  SurveyID  UserID  QuestionID\n",
       "0  What is your age?           1         -1      2014     391           1\n",
       "1  What is your age?           1         -1      2014     716           1\n",
       "2  What is your age?           1         -1      2014    1128           1\n",
       "3  What is your age?           1         -1      2017    3447           1\n",
       "4  What is your age?           1         -1      2017    3449           1"
      ]
     },
     "execution_count": 98,
     "metadata": {},
     "output_type": "execute_result"
    }
   ],
   "source": [
    "#Crea un nuevo DataFrame que integre los textos del dataframe de preguntas junto con el DataFrame de respuestas\n",
    "\n",
    "df4=pd.read_sql_query(\"SELECT * FROM Question INNER JOIN Answer ON Question.QuestionID = Answer.QuestionID\", conn)\n",
    "\n",
    "#Imprime el total de registros del nuevo DataFrame\n",
    "print(df4.shape[0])\n",
    "#Total de columnas\n",
    "print(df4.shape[1])\n",
    "\n",
    "df4.head()"
   ]
  },
  {
   "cell_type": "markdown",
   "metadata": {},
   "source": [
    "Mediante agrupamiento, despliega el total de usuarios que respondieron por año.\n",
    "\n"
   ]
  },
  {
   "cell_type": "code",
   "execution_count": 101,
   "metadata": {},
   "outputs": [
    {
     "data": {
      "text/plain": [
       "SurveyID\n",
       "2014    32760\n",
       "2016    88238\n",
       "2017    57456\n",
       "2018    31692\n",
       "2019    26752\n",
       "dtype: int64"
      ]
     },
     "execution_count": 101,
     "metadata": {},
     "output_type": "execute_result"
    }
   ],
   "source": [
    "#Mediante agrupamiento, despliega el total de usuarios que respondieron por año SurrveyID es el año\n",
    "dfRespuestas.groupby('SurveyID').size()\n"
   ]
  },
  {
   "cell_type": "markdown",
   "metadata": {},
   "source": [
    "Usa una operación de filtrado para desplegar solo las filas de aquellos grupos de encuestas en las que el total de participación por año fue menor a 40,000.\n",
    "\n",
    " "
   ]
  },
  {
   "cell_type": "code",
   "execution_count": 112,
   "metadata": {},
   "outputs": [
    {
     "data": {
      "text/html": [
       "<div>\n",
       "<style scoped>\n",
       "    .dataframe tbody tr th:only-of-type {\n",
       "        vertical-align: middle;\n",
       "    }\n",
       "\n",
       "    .dataframe tbody tr th {\n",
       "        vertical-align: top;\n",
       "    }\n",
       "\n",
       "    .dataframe thead th {\n",
       "        text-align: right;\n",
       "    }\n",
       "</style>\n",
       "<table border=\"1\" class=\"dataframe\">\n",
       "  <thead>\n",
       "    <tr style=\"text-align: right;\">\n",
       "      <th></th>\n",
       "      <th>AnswerText</th>\n",
       "      <th>SurveyID</th>\n",
       "      <th>UserID</th>\n",
       "      <th>QuestionID</th>\n",
       "    </tr>\n",
       "  </thead>\n",
       "  <tbody>\n",
       "    <tr>\n",
       "      <th>0</th>\n",
       "      <td>37</td>\n",
       "      <td>2014</td>\n",
       "      <td>1</td>\n",
       "      <td>1</td>\n",
       "    </tr>\n",
       "    <tr>\n",
       "      <th>1</th>\n",
       "      <td>44</td>\n",
       "      <td>2014</td>\n",
       "      <td>2</td>\n",
       "      <td>1</td>\n",
       "    </tr>\n",
       "    <tr>\n",
       "      <th>2</th>\n",
       "      <td>32</td>\n",
       "      <td>2014</td>\n",
       "      <td>3</td>\n",
       "      <td>1</td>\n",
       "    </tr>\n",
       "    <tr>\n",
       "      <th>3</th>\n",
       "      <td>31</td>\n",
       "      <td>2014</td>\n",
       "      <td>4</td>\n",
       "      <td>1</td>\n",
       "    </tr>\n",
       "    <tr>\n",
       "      <th>4</th>\n",
       "      <td>31</td>\n",
       "      <td>2014</td>\n",
       "      <td>5</td>\n",
       "      <td>1</td>\n",
       "    </tr>\n",
       "    <tr>\n",
       "      <th>...</th>\n",
       "      <td>...</td>\n",
       "      <td>...</td>\n",
       "      <td>...</td>\n",
       "      <td>...</td>\n",
       "    </tr>\n",
       "    <tr>\n",
       "      <th>230336</th>\n",
       "      <td>-1</td>\n",
       "      <td>2019</td>\n",
       "      <td>4214</td>\n",
       "      <td>89</td>\n",
       "    </tr>\n",
       "    <tr>\n",
       "      <th>230337</th>\n",
       "      <td>White</td>\n",
       "      <td>2019</td>\n",
       "      <td>4215</td>\n",
       "      <td>89</td>\n",
       "    </tr>\n",
       "    <tr>\n",
       "      <th>230338</th>\n",
       "      <td>-1</td>\n",
       "      <td>2019</td>\n",
       "      <td>4216</td>\n",
       "      <td>89</td>\n",
       "    </tr>\n",
       "    <tr>\n",
       "      <th>230339</th>\n",
       "      <td>-1</td>\n",
       "      <td>2019</td>\n",
       "      <td>4217</td>\n",
       "      <td>89</td>\n",
       "    </tr>\n",
       "    <tr>\n",
       "      <th>230340</th>\n",
       "      <td>White</td>\n",
       "      <td>2019</td>\n",
       "      <td>4218</td>\n",
       "      <td>89</td>\n",
       "    </tr>\n",
       "  </tbody>\n",
       "</table>\n",
       "<p>91204 rows × 4 columns</p>\n",
       "</div>"
      ],
      "text/plain": [
       "       AnswerText  SurveyID  UserID  QuestionID\n",
       "0              37      2014       1           1\n",
       "1              44      2014       2           1\n",
       "2              32      2014       3           1\n",
       "3              31      2014       4           1\n",
       "4              31      2014       5           1\n",
       "...           ...       ...     ...         ...\n",
       "230336         -1      2019    4214          89\n",
       "230337      White      2019    4215          89\n",
       "230338         -1      2019    4216          89\n",
       "230339         -1      2019    4217          89\n",
       "230340      White      2019    4218          89\n",
       "\n",
       "[91204 rows x 4 columns]"
      ]
     },
     "execution_count": 112,
     "metadata": {},
     "output_type": "execute_result"
    }
   ],
   "source": [
    "#Usa una operación de filtrado para desplegar solo las filas de aquellos grupos de encuestas en las que el total de participación por año fue menor a 40,000.\n",
    "\n",
    "dfRespuestas.groupby('SurveyID').filter(lambda x: x['UserID'].count() < 40000)"
   ]
  },
  {
   "cell_type": "markdown",
   "metadata": {},
   "source": [
    "Genera un nuevo DataFrame con las respuestas a la pregunta número 3 (país) y codifica para generar una nueva variable numérica asociada llamada \"enc_pais\".\n",
    "\n"
   ]
  },
  {
   "cell_type": "code",
   "execution_count": 115,
   "metadata": {},
   "outputs": [
    {
     "name": "stderr",
     "output_type": "stream",
     "text": [
      "/tmp/ipykernel_7655/4276650393.py:4: SettingWithCopyWarning: \n",
      "A value is trying to be set on a copy of a slice from a DataFrame.\n",
      "Try using .loc[row_indexer,col_indexer] = value instead\n",
      "\n",
      "See the caveats in the documentation: https://pandas.pydata.org/pandas-docs/stable/user_guide/indexing.html#returning-a-view-versus-a-copy\n",
      "  dfPreguntas3['enc_pais'] = pd.factorize(dfPreguntas3['AnswerText'])[0]\n"
     ]
    },
    {
     "data": {
      "text/html": [
       "<div>\n",
       "<style scoped>\n",
       "    .dataframe tbody tr th:only-of-type {\n",
       "        vertical-align: middle;\n",
       "    }\n",
       "\n",
       "    .dataframe tbody tr th {\n",
       "        vertical-align: top;\n",
       "    }\n",
       "\n",
       "    .dataframe thead th {\n",
       "        text-align: right;\n",
       "    }\n",
       "</style>\n",
       "<table border=\"1\" class=\"dataframe\">\n",
       "  <thead>\n",
       "    <tr style=\"text-align: right;\">\n",
       "      <th></th>\n",
       "      <th>AnswerText</th>\n",
       "      <th>SurveyID</th>\n",
       "      <th>UserID</th>\n",
       "      <th>QuestionID</th>\n",
       "      <th>enc_pais</th>\n",
       "    </tr>\n",
       "  </thead>\n",
       "  <tbody>\n",
       "    <tr>\n",
       "      <th>204640</th>\n",
       "      <td>India</td>\n",
       "      <td>2019</td>\n",
       "      <td>4214</td>\n",
       "      <td>3</td>\n",
       "      <td>18</td>\n",
       "    </tr>\n",
       "    <tr>\n",
       "      <th>204641</th>\n",
       "      <td>United States of America</td>\n",
       "      <td>2019</td>\n",
       "      <td>4215</td>\n",
       "      <td>3</td>\n",
       "      <td>48</td>\n",
       "    </tr>\n",
       "    <tr>\n",
       "      <th>204642</th>\n",
       "      <td>India</td>\n",
       "      <td>2019</td>\n",
       "      <td>4216</td>\n",
       "      <td>3</td>\n",
       "      <td>18</td>\n",
       "    </tr>\n",
       "    <tr>\n",
       "      <th>204643</th>\n",
       "      <td>India</td>\n",
       "      <td>2019</td>\n",
       "      <td>4217</td>\n",
       "      <td>3</td>\n",
       "      <td>18</td>\n",
       "    </tr>\n",
       "    <tr>\n",
       "      <th>204644</th>\n",
       "      <td>United States of America</td>\n",
       "      <td>2019</td>\n",
       "      <td>4218</td>\n",
       "      <td>3</td>\n",
       "      <td>48</td>\n",
       "    </tr>\n",
       "  </tbody>\n",
       "</table>\n",
       "</div>"
      ],
      "text/plain": [
       "                      AnswerText  SurveyID  UserID  QuestionID  enc_pais\n",
       "204640                     India      2019    4214           3        18\n",
       "204641  United States of America      2019    4215           3        48\n",
       "204642                     India      2019    4216           3        18\n",
       "204643                     India      2019    4217           3        18\n",
       "204644  United States of America      2019    4218           3        48"
      ]
     },
     "execution_count": 115,
     "metadata": {},
     "output_type": "execute_result"
    }
   ],
   "source": [
    "#Genera un nuevo DataFrame con las respuestas a la pregunta número 3 (país) y codifica para generar una nueva variable numérica asociada llamada \"enc_pais\".\n",
    "\n",
    "dfPreguntas3 = dfRespuestas[dfRespuestas['QuestionID'] == 3]\n",
    "dfPreguntas3['enc_pais'] = pd.factorize(dfPreguntas3['AnswerText'])[0]\n",
    "\n",
    "\n",
    "#ultimos 5 registros\n",
    "dfPreguntas3.tail()"
   ]
  },
  {
   "cell_type": "markdown",
   "metadata": {},
   "source": [
    "Agrega a ese DataFrame las respuestas a la pregunta 1 (Edad). NOTA: Cuidado con los índices."
   ]
  },
  {
   "cell_type": "code",
   "execution_count": 127,
   "metadata": {},
   "outputs": [
    {
     "data": {
      "text/html": [
       "<div>\n",
       "<style scoped>\n",
       "    .dataframe tbody tr th:only-of-type {\n",
       "        vertical-align: middle;\n",
       "    }\n",
       "\n",
       "    .dataframe tbody tr th {\n",
       "        vertical-align: top;\n",
       "    }\n",
       "\n",
       "    .dataframe thead th {\n",
       "        text-align: right;\n",
       "    }\n",
       "</style>\n",
       "<table border=\"1\" class=\"dataframe\">\n",
       "  <thead>\n",
       "    <tr style=\"text-align: right;\">\n",
       "      <th></th>\n",
       "      <th>pais</th>\n",
       "      <th>SurveyID_x</th>\n",
       "      <th>UserID</th>\n",
       "      <th>QuestionID_x</th>\n",
       "      <th>enc_pais</th>\n",
       "      <th>edad</th>\n",
       "      <th>SurveyID_y</th>\n",
       "      <th>QuestionID_y</th>\n",
       "      <th>AnswerText</th>\n",
       "      <th>SurveyID</th>\n",
       "      <th>QuestionID</th>\n",
       "    </tr>\n",
       "  </thead>\n",
       "  <tbody>\n",
       "    <tr>\n",
       "      <th>4213</th>\n",
       "      <td>India</td>\n",
       "      <td>2019</td>\n",
       "      <td>4214</td>\n",
       "      <td>3</td>\n",
       "      <td>18</td>\n",
       "      <td>NaN</td>\n",
       "      <td>2019</td>\n",
       "      <td>1</td>\n",
       "      <td>27</td>\n",
       "      <td>2019</td>\n",
       "      <td>1</td>\n",
       "    </tr>\n",
       "    <tr>\n",
       "      <th>4214</th>\n",
       "      <td>United States of America</td>\n",
       "      <td>2019</td>\n",
       "      <td>4215</td>\n",
       "      <td>3</td>\n",
       "      <td>48</td>\n",
       "      <td>NaN</td>\n",
       "      <td>2019</td>\n",
       "      <td>1</td>\n",
       "      <td>48</td>\n",
       "      <td>2019</td>\n",
       "      <td>1</td>\n",
       "    </tr>\n",
       "    <tr>\n",
       "      <th>4215</th>\n",
       "      <td>India</td>\n",
       "      <td>2019</td>\n",
       "      <td>4216</td>\n",
       "      <td>3</td>\n",
       "      <td>18</td>\n",
       "      <td>NaN</td>\n",
       "      <td>2019</td>\n",
       "      <td>1</td>\n",
       "      <td>50</td>\n",
       "      <td>2019</td>\n",
       "      <td>1</td>\n",
       "    </tr>\n",
       "    <tr>\n",
       "      <th>4216</th>\n",
       "      <td>India</td>\n",
       "      <td>2019</td>\n",
       "      <td>4217</td>\n",
       "      <td>3</td>\n",
       "      <td>18</td>\n",
       "      <td>NaN</td>\n",
       "      <td>2019</td>\n",
       "      <td>1</td>\n",
       "      <td>30</td>\n",
       "      <td>2019</td>\n",
       "      <td>1</td>\n",
       "    </tr>\n",
       "    <tr>\n",
       "      <th>4217</th>\n",
       "      <td>United States of America</td>\n",
       "      <td>2019</td>\n",
       "      <td>4218</td>\n",
       "      <td>3</td>\n",
       "      <td>48</td>\n",
       "      <td>NaN</td>\n",
       "      <td>2019</td>\n",
       "      <td>1</td>\n",
       "      <td>24</td>\n",
       "      <td>2019</td>\n",
       "      <td>1</td>\n",
       "    </tr>\n",
       "  </tbody>\n",
       "</table>\n",
       "</div>"
      ],
      "text/plain": [
       "                          pais  SurveyID_x  UserID  QuestionID_x  enc_pais  \\\n",
       "4213                     India        2019    4214             3        18   \n",
       "4214  United States of America        2019    4215             3        48   \n",
       "4215                     India        2019    4216             3        18   \n",
       "4216                     India        2019    4217             3        18   \n",
       "4217  United States of America        2019    4218             3        48   \n",
       "\n",
       "     edad  SurveyID_y  QuestionID_y AnswerText  SurveyID  QuestionID  \n",
       "4213  NaN        2019             1         27      2019           1  \n",
       "4214  NaN        2019             1         48      2019           1  \n",
       "4215  NaN        2019             1         50      2019           1  \n",
       "4216  NaN        2019             1         30      2019           1  \n",
       "4217  NaN        2019             1         24      2019           1  "
      ]
     },
     "execution_count": 127,
     "metadata": {},
     "output_type": "execute_result"
    }
   ],
   "source": [
    "#Agrega a ese DataFrame las respuestas a la pregunta 1 (Edad). NOTA: Cuidado con los índices.\n",
    "dfPreguntas3['edad'] = dfRespuestas[dfRespuestas['QuestionID'] == 1]['AnswerText']\n",
    "dfPreguntas3.tail()\n",
    "\n"
   ]
  },
  {
   "cell_type": "code",
   "execution_count": 129,
   "metadata": {},
   "outputs": [
    {
     "data": {
      "text/html": [
       "<div>\n",
       "<style scoped>\n",
       "    .dataframe tbody tr th:only-of-type {\n",
       "        vertical-align: middle;\n",
       "    }\n",
       "\n",
       "    .dataframe tbody tr th {\n",
       "        vertical-align: top;\n",
       "    }\n",
       "\n",
       "    .dataframe thead th {\n",
       "        text-align: right;\n",
       "    }\n",
       "</style>\n",
       "<table border=\"1\" class=\"dataframe\">\n",
       "  <thead>\n",
       "    <tr style=\"text-align: right;\">\n",
       "      <th></th>\n",
       "      <th>pais</th>\n",
       "      <th>SurveyID_x</th>\n",
       "      <th>UserID</th>\n",
       "      <th>QuestionID_x</th>\n",
       "      <th>enc_pais</th>\n",
       "      <th>edad</th>\n",
       "      <th>SurveyID_y</th>\n",
       "      <th>QuestionID_y</th>\n",
       "      <th>Edad</th>\n",
       "      <th>SurveyID</th>\n",
       "      <th>QuestionID</th>\n",
       "    </tr>\n",
       "  </thead>\n",
       "  <tbody>\n",
       "    <tr>\n",
       "      <th>4213</th>\n",
       "      <td>India</td>\n",
       "      <td>2019</td>\n",
       "      <td>4214</td>\n",
       "      <td>3</td>\n",
       "      <td>18</td>\n",
       "      <td>NaN</td>\n",
       "      <td>2019</td>\n",
       "      <td>1</td>\n",
       "      <td>27</td>\n",
       "      <td>2019</td>\n",
       "      <td>1</td>\n",
       "    </tr>\n",
       "    <tr>\n",
       "      <th>4214</th>\n",
       "      <td>United States of America</td>\n",
       "      <td>2019</td>\n",
       "      <td>4215</td>\n",
       "      <td>3</td>\n",
       "      <td>48</td>\n",
       "      <td>NaN</td>\n",
       "      <td>2019</td>\n",
       "      <td>1</td>\n",
       "      <td>48</td>\n",
       "      <td>2019</td>\n",
       "      <td>1</td>\n",
       "    </tr>\n",
       "    <tr>\n",
       "      <th>4215</th>\n",
       "      <td>India</td>\n",
       "      <td>2019</td>\n",
       "      <td>4216</td>\n",
       "      <td>3</td>\n",
       "      <td>18</td>\n",
       "      <td>NaN</td>\n",
       "      <td>2019</td>\n",
       "      <td>1</td>\n",
       "      <td>50</td>\n",
       "      <td>2019</td>\n",
       "      <td>1</td>\n",
       "    </tr>\n",
       "    <tr>\n",
       "      <th>4216</th>\n",
       "      <td>India</td>\n",
       "      <td>2019</td>\n",
       "      <td>4217</td>\n",
       "      <td>3</td>\n",
       "      <td>18</td>\n",
       "      <td>NaN</td>\n",
       "      <td>2019</td>\n",
       "      <td>1</td>\n",
       "      <td>30</td>\n",
       "      <td>2019</td>\n",
       "      <td>1</td>\n",
       "    </tr>\n",
       "    <tr>\n",
       "      <th>4217</th>\n",
       "      <td>United States of America</td>\n",
       "      <td>2019</td>\n",
       "      <td>4218</td>\n",
       "      <td>3</td>\n",
       "      <td>48</td>\n",
       "      <td>NaN</td>\n",
       "      <td>2019</td>\n",
       "      <td>1</td>\n",
       "      <td>24</td>\n",
       "      <td>2019</td>\n",
       "      <td>1</td>\n",
       "    </tr>\n",
       "  </tbody>\n",
       "</table>\n",
       "</div>"
      ],
      "text/plain": [
       "                          pais  SurveyID_x  UserID  QuestionID_x  enc_pais  \\\n",
       "4213                     India        2019    4214             3        18   \n",
       "4214  United States of America        2019    4215             3        48   \n",
       "4215                     India        2019    4216             3        18   \n",
       "4216                     India        2019    4217             3        18   \n",
       "4217  United States of America        2019    4218             3        48   \n",
       "\n",
       "     edad  SurveyID_y  QuestionID_y Edad  SurveyID  QuestionID  \n",
       "4213  NaN        2019             1   27      2019           1  \n",
       "4214  NaN        2019             1   48      2019           1  \n",
       "4215  NaN        2019             1   50      2019           1  \n",
       "4216  NaN        2019             1   30      2019           1  \n",
       "4217  NaN        2019             1   24      2019           1  "
      ]
     },
     "execution_count": 129,
     "metadata": {},
     "output_type": "execute_result"
    }
   ],
   "source": [
    "#renombrar columnas\n",
    "dfPreguntas3.rename(columns={'AnswerText':'Edad'}, inplace=True)\n",
    "dfPreguntas3.tail()\n"
   ]
  },
  {
   "cell_type": "code",
   "execution_count": 134,
   "metadata": {},
   "outputs": [
    {
     "name": "stdout",
     "output_type": "stream",
     "text": [
      "count    1260.000000\n",
      "mean       32.134921\n",
      "std        11.392592\n",
      "min       -29.000000\n",
      "25%        27.000000\n",
      "50%        31.000000\n",
      "75%        36.000000\n",
      "max       329.000000\n",
      "Name: edad, dtype: float64\n"
     ]
    }
   ],
   "source": [
    "#Mediante alguna técnica de binning, genera una nueva variable categórica para generar 4 rangos de edades basados en cuartiles.\n",
    "dfPreguntas3['rango_edad'] = pd.qcut(dfPreguntas3['edad'], 4, labels=['1','2','3','4'])\n",
    "\n",
    "#Indica a continuación los límites dados por los bins resultantes:\n",
    "print(dfPreguntas3['edad'].describe())\n"
   ]
  },
  {
   "cell_type": "markdown",
   "metadata": {},
   "source": [
    "Con las variables numéricas del DataFrame anterior (i.e., DatosIniciales), aplica una transformación de modo que todas las variables tengan una desviación estándar \n",
    " 1\n",
    "\n"
   ]
  },
  {
   "cell_type": "code",
   "execution_count": 138,
   "metadata": {},
   "outputs": [
    {
     "data": {
      "text/html": [
       "<div>\n",
       "<style scoped>\n",
       "    .dataframe tbody tr th:only-of-type {\n",
       "        vertical-align: middle;\n",
       "    }\n",
       "\n",
       "    .dataframe tbody tr th {\n",
       "        vertical-align: top;\n",
       "    }\n",
       "\n",
       "    .dataframe thead th {\n",
       "        text-align: right;\n",
       "    }\n",
       "</style>\n",
       "<table border=\"1\" class=\"dataframe\">\n",
       "  <thead>\n",
       "    <tr style=\"text-align: right;\">\n",
       "      <th></th>\n",
       "      <th>embarazos</th>\n",
       "      <th>plasma</th>\n",
       "      <th>presion</th>\n",
       "      <th>masa</th>\n",
       "      <th>edad</th>\n",
       "    </tr>\n",
       "  </thead>\n",
       "  <tbody>\n",
       "    <tr>\n",
       "      <th>count</th>\n",
       "      <td>494.000000</td>\n",
       "      <td>494.000000</td>\n",
       "      <td>494.000000</td>\n",
       "      <td>494.000000</td>\n",
       "      <td>494.000000</td>\n",
       "    </tr>\n",
       "    <tr>\n",
       "      <th>mean</th>\n",
       "      <td>0.223744</td>\n",
       "      <td>0.616854</td>\n",
       "      <td>0.564130</td>\n",
       "      <td>0.477872</td>\n",
       "      <td>0.201687</td>\n",
       "    </tr>\n",
       "    <tr>\n",
       "      <th>std</th>\n",
       "      <td>0.197473</td>\n",
       "      <td>0.162893</td>\n",
       "      <td>0.158054</td>\n",
       "      <td>0.120814</td>\n",
       "      <td>0.193858</td>\n",
       "    </tr>\n",
       "    <tr>\n",
       "      <th>min</th>\n",
       "      <td>0.000000</td>\n",
       "      <td>0.000000</td>\n",
       "      <td>0.000000</td>\n",
       "      <td>0.000000</td>\n",
       "      <td>0.000000</td>\n",
       "    </tr>\n",
       "    <tr>\n",
       "      <th>25%</th>\n",
       "      <td>0.058824</td>\n",
       "      <td>0.507614</td>\n",
       "      <td>0.524590</td>\n",
       "      <td>0.404247</td>\n",
       "      <td>0.050000</td>\n",
       "    </tr>\n",
       "    <tr>\n",
       "      <th>50%</th>\n",
       "      <td>0.176471</td>\n",
       "      <td>0.598985</td>\n",
       "      <td>0.573770</td>\n",
       "      <td>0.476900</td>\n",
       "      <td>0.133333</td>\n",
       "    </tr>\n",
       "    <tr>\n",
       "      <th>75%</th>\n",
       "      <td>0.352941</td>\n",
       "      <td>0.720812</td>\n",
       "      <td>0.655738</td>\n",
       "      <td>0.545455</td>\n",
       "      <td>0.312500</td>\n",
       "    </tr>\n",
       "    <tr>\n",
       "      <th>max</th>\n",
       "      <td>1.000000</td>\n",
       "      <td>1.000000</td>\n",
       "      <td>1.000000</td>\n",
       "      <td>1.000000</td>\n",
       "      <td>1.000000</td>\n",
       "    </tr>\n",
       "  </tbody>\n",
       "</table>\n",
       "</div>"
      ],
      "text/plain": [
       "        embarazos      plasma     presion        masa        edad\n",
       "count  494.000000  494.000000  494.000000  494.000000  494.000000\n",
       "mean     0.223744    0.616854    0.564130    0.477872    0.201687\n",
       "std      0.197473    0.162893    0.158054    0.120814    0.193858\n",
       "min      0.000000    0.000000    0.000000    0.000000    0.000000\n",
       "25%      0.058824    0.507614    0.524590    0.404247    0.050000\n",
       "50%      0.176471    0.598985    0.573770    0.476900    0.133333\n",
       "75%      0.352941    0.720812    0.655738    0.545455    0.312500\n",
       "max      1.000000    1.000000    1.000000    1.000000    1.000000"
      ]
     },
     "execution_count": 138,
     "metadata": {},
     "output_type": "execute_result"
    }
   ],
   "source": [
    "df.head()\n",
    "\n",
    "#Con las variables numéricas del DataFrame anterior (i.e., DatosIniciales), aplica una transformación de modo que todas las variables tengan una desviación estándar aproximadamente igual a 1.\n",
    "from sklearn.preprocessing import minmax_scale\n",
    "df['embarazos'] = minmax_scale(df['embarazos'])\n",
    "df['plasma'] = minmax_scale(df['plasma'])\n",
    "df['presion'] = minmax_scale(df['presion'])\n",
    "df['masa'] = minmax_scale(df['masa'])\n",
    "df['edad'] = minmax_scale(df['edad'])\n",
    "\n",
    "df.describe()\n"
   ]
  }
 ],
 "metadata": {
  "kernelspec": {
   "display_name": "Python 3",
   "language": "python",
   "name": "python3"
  },
  "language_info": {
   "codemirror_mode": {
    "name": "ipython",
    "version": 3
   },
   "file_extension": ".py",
   "mimetype": "text/x-python",
   "name": "python",
   "nbconvert_exporter": "python",
   "pygments_lexer": "ipython3",
   "version": "3.11.6"
  }
 },
 "nbformat": 4,
 "nbformat_minor": 2
}
