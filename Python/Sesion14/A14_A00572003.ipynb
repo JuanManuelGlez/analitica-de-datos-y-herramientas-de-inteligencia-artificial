{
 "cells": [
  {
   "cell_type": "markdown",
   "metadata": {},
   "source": [
    "# Actividad 14 - Programación orientada a objetos\n",
    "## Juan Manuel González Ascencio - A00572003\n"
   ]
  },
  {
   "cell_type": "code",
   "execution_count": 7,
   "metadata": {},
   "outputs": [
    {
     "name": "stdout",
     "output_type": "stream",
     "text": [
      "---Coche 1---\n",
      "Color: Rojo\n",
      "Aceleracion: 20\n",
      "Velocidad: 0\n",
      "Ruedas: 4\n",
      "---Coche 2---\n",
      "Color: Azul\n",
      "Aceleracion: 30\n",
      "Velocidad: 0\n",
      "Ruedas: 4\n"
     ]
    }
   ],
   "source": [
    "class Coche:\n",
    "\n",
    "    ruedas = 4\n",
    "\n",
    "    def __init__(self, color, aceleracion):\n",
    "        self.color = color\n",
    "        self.aceleracion = aceleracion\n",
    "        self.velocidad = 0\n",
    "\n",
    "    def acelerar(self):\n",
    "        self.velocidad += self.aceleracion\n",
    "\n",
    "    def frenar(self):\n",
    "        v = self.velocidad - self.aceleracion\n",
    "        if v < 0:\n",
    "            v=0\n",
    "        self.velocidad = v\n",
    "\n",
    "    #Metodo mostrar informacion \n",
    "    def mostrar_informacion(self):\n",
    "        print(f\"Color: {self.color}\")\n",
    "        print(f\"Aceleracion: {self.aceleracion}\")\n",
    "        print(f\"Velocidad: {self.velocidad}\")\n",
    "        print(f\"Ruedas: {self.ruedas}\")\n",
    "\n",
    "    #Creamos dos objetos de coche \n",
    "c1 = Coche(\"Rojo\", 20)\n",
    "#print(c1.color)\n",
    "#print(c1.ruedas)\n",
    "c2 = Coche(\"Azul\", 30)\n",
    "#print(c2.color)\n",
    "#print(c2.ruedas)\n",
    "\n",
    "#Creamos el main \n",
    "\n",
    "def main():\n",
    "    print(\"---Coche 1---\")\n",
    "    Coche.mostrar_informacion(c1)\n",
    "    print(\"---Coche 2---\")\n",
    "    Coche.mostrar_informacion(c2)\n",
    "\n",
    "main()"
   ]
  }
 ],
 "metadata": {
  "kernelspec": {
   "display_name": "Python 3",
   "language": "python",
   "name": "python3"
  },
  "language_info": {
   "codemirror_mode": {
    "name": "ipython",
    "version": 3
   },
   "file_extension": ".py",
   "mimetype": "text/x-python",
   "name": "python",
   "nbconvert_exporter": "python",
   "pygments_lexer": "ipython3",
   "version": "3.11.6"
  }
 },
 "nbformat": 4,
 "nbformat_minor": 2
}
