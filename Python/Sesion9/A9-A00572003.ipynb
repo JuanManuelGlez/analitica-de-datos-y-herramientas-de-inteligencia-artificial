{
 "cells": [
  {
   "cell_type": "markdown",
   "metadata": {},
   "source": [
    "# actividad 9 - archivos\n",
    "# juan manuel gonzález ascencio - a00572003\n"
   ]
  },
  {
   "cell_type": "code",
   "execution_count": 1,
   "metadata": {},
   "outputs": [],
   "source": [
    "# La función escribe_en_archivo (nombre) que recibe el nombre del archivo de texto. La función deberá pedir al usuario cuatro oraciones o frases y las agregará en el archivo de texto.\n",
    "\n",
    "def escribe_en_archivo(nombre):\n",
    "    file = open(nombre, \"w\")\n",
    "    for i in range(4):\n",
    "        frase = input(\"Escribe una frase: \")\n",
    "        file.write(frase + \"\\n\")\n",
    "    file.close()\n",
    "\n",
    "def main():\n",
    "    nombre = input(\"Escribe el nombre del archivo: \")\n",
    "    escribe_en_archivo(nombre)\n",
    "\n",
    "main()\n",
    "        "
   ]
  },
  {
   "cell_type": "code",
   "execution_count": 5,
   "metadata": {},
   "outputs": [
    {
     "name": "stdout",
     "output_type": "stream",
     "text": [
      "9\n"
     ]
    }
   ],
   "source": [
    "#función cuenta_digitos (nombre) que recibe el nombre del archivo de texto y regrese el número de dígitos contenidos en un archivo de texto.\n",
    "\n",
    "def cuenta_digitos(nombre):\n",
    "    file = open(nombre, \"r\")\n",
    "    texto = file.read()\n",
    "    file.close()\n",
    "    contador = 0\n",
    "    digitos = \"0123456789\"\n",
    "    for i in texto:\n",
    "        if i in(digitos):\n",
    "            contador += 1\n",
    "    return contador\n",
    "\n",
    "def main():\n",
    "    nombre = input(\"Escribe el nombre del archivo: \")\n",
    "    print(cuenta_digitos(nombre))\n",
    "\n",
    "main()\n"
   ]
  },
  {
   "cell_type": "code",
   "execution_count": 6,
   "metadata": {},
   "outputs": [
    {
     "name": "stdout",
     "output_type": "stream",
     "text": [
      "79\n"
     ]
    }
   ],
   "source": [
    "def cuenta_caracteres(nombre):\n",
    "    file = open(nombre, \"r\")\n",
    "    texto = file.read()\n",
    "    file.close()\n",
    "    contador = 0\n",
    "    digitos = \"0123456789qwertyuiopasdfghjklzxcvbnmñQWERTYUIOPASDFGHJKLZXCVBNMÑ,.-_()=+*%&$#?¿!¡/|@{}[]<>;:\"\n",
    "    for i in texto:\n",
    "        if i in(digitos):\n",
    "            contador += 1\n",
    "    return contador\n",
    "\n",
    "def main():\n",
    "    nombre = input(\"Escribe el nombre del archivo: \")\n",
    "    print(cuenta_caracteres(nombre))\n",
    "\n",
    "main()"
   ]
  }
 ],
 "metadata": {
  "kernelspec": {
   "display_name": "Python 3",
   "language": "python",
   "name": "python3"
  },
  "language_info": {
   "codemirror_mode": {
    "name": "ipython",
    "version": 3
   },
   "file_extension": ".py",
   "mimetype": "text/x-python",
   "name": "python",
   "nbconvert_exporter": "python",
   "pygments_lexer": "ipython3",
   "version": "3.11.6"
  }
 },
 "nbformat": 4,
 "nbformat_minor": 2
}
