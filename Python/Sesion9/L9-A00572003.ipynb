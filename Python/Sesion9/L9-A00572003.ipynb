{
 "cells": [
  {
   "cell_type": "markdown",
   "metadata": {},
   "source": [
    "# laboratorio 9 - archivos\n",
    "## juan manuel gonzález - a00572003.\n"
   ]
  },
  {
   "cell_type": "code",
   "execution_count": 2,
   "metadata": {},
   "outputs": [],
   "source": [
    "#La función captura_alumnos (n) que recibe el número n de alumnos. La función deberá pedir al usuario nombre, apellido1 y apellido2 de los n alumnos, con el siguiente formato: PEDRO LOPEZ SUAREZ. La función deberá pedir los datos de los alumnos a almacenar y los escribirá en un archivo de texto llamado alumnos.txt. \n",
    "\n",
    "def captura_alumnos(n):\n",
    "    file = open(\"alumnos.txt\", \"w\")\n",
    "    for i in range(n):\n",
    "        nombre = input(\"Nombre del alumno: \")\n",
    "        apellido1 = input(\"Primer apellido del alumno: \")\n",
    "        apellido2 = input(\"Segundo apellido del alumno: \")\n",
    "        file.write(f\"{nombre} {apellido1} {apellido2}\\n\")\n",
    "        file.write(\"\\n\")\n",
    "    file.close()\n",
    "\n",
    "def main():\n",
    "    n = int(input(\"Número de alumnos: \"))\n",
    "    captura_alumnos(n)\n",
    "\n",
    "main()\n",
    "\n",
    "    "
   ]
  },
  {
   "cell_type": "code",
   "execution_count": 4,
   "metadata": {},
   "outputs": [
    {
     "name": "stdout",
     "output_type": "stream",
     "text": [
      "juan  gonzalez ascencio\n",
      "\n"
     ]
    }
   ],
   "source": [
    "#La función busca_apellido (apellido) que recibe el apellido a buscar en el archivo de texto de alumnos.txt. La función deberá imprimir todos los alumnos (nombre apellido1 apellido2) que coincidan con el apellido buscado.\n",
    "\n",
    "def busca_apellido(apellido):\n",
    "    file = open(\"alumnos.txt\", \"r\")\n",
    "    for linea in file:\n",
    "        if apellido in linea:\n",
    "            print(linea)\n",
    "    file.close()\n",
    "\n",
    "def main():\n",
    "    apellido = input(\"Apellido a buscar: \")\n",
    "    busca_apellido(apellido)\n",
    "\n",
    "main()"
   ]
  },
  {
   "cell_type": "code",
   "execution_count": 7,
   "metadata": {},
   "outputs": [],
   "source": [
    "#La función copia_archivo (nombre_o, nombre_d) que recibe el nombre del archivo de texto origen y el nombre del archivo de texto destino. La función debe copiar todo el contenido del archivo origen al archivo destino, cuyo contenido final será la conversión de los caracteres a minúsculas de cada uno de los caracteres del archivo de origen.\n",
    "\n",
    "def copia_archivo(nombre_o, nombre_d):\n",
    "    file_o = open(nombre_o, \"r\")\n",
    "    file_d = open(nombre_d, \"w\")\n",
    "    for linea in file_o:\n",
    "        file_d.write(linea.lower())\n",
    "    file_o.close()\n",
    "    file_d.close()\n",
    "\n",
    "def main():\n",
    "    nombre_o = input(\"Nombre del archivo origen: \")\n",
    "    nombre_d = input(\"Nombre del archivo destino: \")\n",
    "    copia_archivo(nombre_o, nombre_d)\n",
    "\n",
    "main()"
   ]
  },
  {
   "cell_type": "code",
   "execution_count": 9,
   "metadata": {},
   "outputs": [
    {
     "name": "stdout",
     "output_type": "stream",
     "text": [
      "26\n"
     ]
    }
   ],
   "source": [
    "#La función cuenta_consonantes (nombre) que recibe el nombre del archivo de texto y regrese el número de consonantes mayúsculas y minúsculas contenidas en un archivo de texto.\n",
    "\n",
    "def cuenta_consonantes(nombre):\n",
    "    file = open(nombre, \"r\")\n",
    "    consonantes = 0\n",
    "    for linea in file:\n",
    "        for letra in linea:\n",
    "            if letra.lower() in \"bcdfghjklmnpqrstvwxyz\":\n",
    "                consonantes += 1\n",
    "    file.close()\n",
    "    return consonantes\n",
    "\n",
    "def main():\n",
    "    nombre = input(\"Nombre del archivo: \")\n",
    "    print(cuenta_consonantes(nombre))\n",
    "\n",
    "\n",
    "main()"
   ]
  }
 ],
 "metadata": {
  "kernelspec": {
   "display_name": "Python 3",
   "language": "python",
   "name": "python3"
  },
  "language_info": {
   "codemirror_mode": {
    "name": "ipython",
    "version": 3
   },
   "file_extension": ".py",
   "mimetype": "text/x-python",
   "name": "python",
   "nbconvert_exporter": "python",
   "pygments_lexer": "ipython3",
   "version": "3.11.6"
  }
 },
 "nbformat": 4,
 "nbformat_minor": 2
}
