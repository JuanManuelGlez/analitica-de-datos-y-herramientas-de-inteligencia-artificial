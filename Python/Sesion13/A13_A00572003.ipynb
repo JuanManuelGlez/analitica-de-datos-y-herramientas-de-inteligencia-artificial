{
 "cells": [
  {
   "cell_type": "markdown",
   "metadata": {},
   "source": [
    "# Actividad 13 - Funciones de orden superior y listas de compresión\n",
    "## Juan Manuel González Ascencio - A00572003"
   ]
  },
  {
   "cell_type": "code",
   "execution_count": 1,
   "metadata": {},
   "outputs": [
    {
     "name": "stdout",
     "output_type": "stream",
     "text": [
      "6\n",
      "1.5\n"
     ]
    }
   ],
   "source": [
    "#Definir una función de orden superior llamada operar, que recibe como parámetro dos enteros y una función. En el cuerpo de la función llamar a la función que llega como parámetro y enviar los dos primeros parámetros. La función retorna un entero.\n",
    "\n",
    "def operar(a, b, f):\n",
    "    return f(a, b)\n",
    "\n",
    "def multiplicacion(a, b):\n",
    "    return a * b\n",
    "\n",
    "def division(a, b):\n",
    "    return a / b\n",
    "\n",
    "def main():\n",
    "    a = int(input(\"Ingrese un número: \"))\n",
    "    b = int(input(\"Ingrese otro número: \"))\n",
    "    print(operar(a, b, multiplicacion))\n",
    "    print(operar(a, b, division))\n",
    "\n",
    "main()\n",
    "\n"
   ]
  },
  {
   "cell_type": "code",
   "execution_count": 2,
   "metadata": {},
   "outputs": [
    {
     "name": "stdout",
     "output_type": "stream",
     "text": [
      "[3, 21, 30]\n"
     ]
    }
   ],
   "source": [
    "#A partir de una lista de números enteros, obtener unicamente una lista los números múltiplos de 3, empleando para ello la función de orden superior de python filter() y la función lambda.\n",
    "\n",
    "def main():\n",
    "    lista = [2, 3, 10, 21, 50, 30]\n",
    "    lista = list(filter(lambda x: x % 3 == 0, lista))\n",
    "    print(lista)\n",
    "\n",
    "main()\n"
   ]
  },
  {
   "cell_type": "code",
   "execution_count": 3,
   "metadata": {},
   "outputs": [
    {
     "name": "stdout",
     "output_type": "stream",
     "text": [
      "[-5, -23, -50]\n"
     ]
    }
   ],
   "source": [
    "#A partir de una lista de números enteros positivos y negativos, obtener unicamente una lista los números negativos, empleando para ello la función de orden superior de python filter() y la función lambda\n",
    "\n",
    "def main():\n",
    "    numeros = [2, -5, 10, -23, -50, 33]\n",
    "    numeros = list(filter(lambda x: x < 0, numeros))\n",
    "    print(numeros)\n",
    "\n",
    "main()\n"
   ]
  },
  {
   "cell_type": "code",
   "execution_count": 4,
   "metadata": {},
   "outputs": [
    {
     "name": "stdout",
     "output_type": "stream",
     "text": [
      "['juan', 'Gabriela', 'Liliana']\n"
     ]
    }
   ],
   "source": [
    "#A partir de una lista de strings, obtener unicamente una lista con los strings que comiencen con consonantes, empleando para ello la función de orden superior de python filter() y la función lambda.\n",
    "\n",
    "def main():\n",
    "    lista = [\"juan\", \"Ana\", \"Ernesto\", \"octavio\", \"Gabriela\", \"ulises\", \"Liliana\"]\n",
    "    lista = list(filter(lambda x: x[0].lower() not in \"aeiou\", lista))\n",
    "    print(lista)\n",
    "\n",
    "main()\n"
   ]
  },
  {
   "cell_type": "code",
   "execution_count": 5,
   "metadata": {},
   "outputs": [
    {
     "name": "stdout",
     "output_type": "stream",
     "text": [
      "[66, 168, 312, 504, 750]\n"
     ]
    }
   ],
   "source": [
    "#A partir de tres listas de números enteros del mismo tamaño, obtenga una lista con la multiplicación de las tres listas, empleando para ello la función de orden superior de python map() y la función lambda.\n",
    "\n",
    "def main():\n",
    "    numeros1 = [1, 2, 3, 4, 5]\n",
    "    numeros2 = [6, 7, 8, 9, 10]\n",
    "    numeros3 = [11, 12, 13, 14, 15]\n",
    "\n",
    "    resultado = list(map(lambda x, y, z: x * y * z, numeros1, numeros2, numeros3))\n",
    "    print(resultado)\n",
    "\n",
    "main()"
   ]
  },
  {
   "cell_type": "code",
   "execution_count": 6,
   "metadata": {},
   "outputs": [
    {
     "name": "stdout",
     "output_type": "stream",
     "text": [
      "120\n"
     ]
    }
   ],
   "source": [
    "#A partir de una lista de números enteros realizar la multiplicación acumulada de cada uno de los elementos que componen la lista usando la función de orden superior reduce y la función lambda\n",
    "\n",
    "from functools import reduce\n",
    "\n",
    "def main():\n",
    "    numeros = [1, 2, 3, 4, 5]\n",
    "    resultado = reduce(lambda x, y: x * y, numeros)\n",
    "    print(resultado)\n",
    "\n",
    "main()\n"
   ]
  },
  {
   "cell_type": "markdown",
   "metadata": {},
   "source": [
    "## Listas de compresión"
   ]
  },
  {
   "cell_type": "code",
   "execution_count": 7,
   "metadata": {},
   "outputs": [
    {
     "name": "stdout",
     "output_type": "stream",
     "text": [
      "[1, 3, 5, 7]\n"
     ]
    }
   ],
   "source": [
    "#La función impares_menores_numero que recibe un número. La función deberá regresar una lista de números impares menores al número que llega como parámetro de una lista de números de entre 1 y 20. Realiza esta función con el método tradicional.\n",
    "\n",
    "def impares_menores_numero(numero):\n",
    "    impares = []\n",
    "    for i in range(1, 20):\n",
    "        if i % 2 != 0 and i < numero:\n",
    "            impares.append(i)\n",
    "    return impares\n",
    "\n",
    "def main():\n",
    "    numero = int(input(\"Ingrese un número: \"))\n",
    "    print(impares_menores_numero(numero))\n",
    "\n",
    "main()"
   ]
  },
  {
   "cell_type": "code",
   "execution_count": 8,
   "metadata": {},
   "outputs": [
    {
     "name": "stdout",
     "output_type": "stream",
     "text": [
      "[1, 3, 5, 7]\n"
     ]
    }
   ],
   "source": [
    "#Define la función impares_menores_numero haciendo uso de listas de comprensión.\n",
    "\n",
    "def impares_menores_numero(numero):\n",
    "    return [i for i in range(1, 20) if i % 2 != 0 and i < numero]\n",
    "\n",
    "def main():\n",
    "    numero = int(input(\"Ingrese un número: \"))\n",
    "    print(impares_menores_numero(numero))\n",
    "\n",
    "main()\n"
   ]
  },
  {
   "cell_type": "code",
   "execution_count": 9,
   "metadata": {},
   "outputs": [
    {
     "name": "stdout",
     "output_type": "stream",
     "text": [
      "['manzana', 'uva', 'mango', 'fresa']\n"
     ]
    }
   ],
   "source": [
    "#La función frutas_permitidas que recibe una lista de frutas y el nombre de una fruta. La función deberá regresar una nueva lista de frutas que contegan todas las frutas a excepción de la fruta que llegó como parámetro. Realiza esta función con el método tradicional.\n",
    "\n",
    "def frutas_permitidas(frutas, fruta):\n",
    "    permitidas = []\n",
    "    for f in frutas:\n",
    "        if f != fruta:\n",
    "            permitidas.append(f)\n",
    "    return permitidas\n",
    "\n",
    "def main():\n",
    "    frutas = [\"manzana\", \"pera\", \"uva\", \"mango\", \"fresa\"]\n",
    "    fruta = input(\"Ingrese una fruta: \")\n",
    "    print(frutas_permitidas(frutas, fruta))\n",
    "\n",
    "main()"
   ]
  },
  {
   "cell_type": "code",
   "execution_count": 10,
   "metadata": {},
   "outputs": [
    {
     "name": "stdout",
     "output_type": "stream",
     "text": [
      "['manzana', 'uva', 'mango', 'fresa']\n"
     ]
    }
   ],
   "source": [
    "#Define la función frutas_permitidas2 haciendo uso de listas de comprensión.\n",
    "\n",
    "def frutas_permitidas(frutas, fruta):\n",
    "    return [f for f in frutas if f != fruta]\n",
    "\n",
    "def main():\n",
    "    frutas = [\"manzana\", \"pera\", \"uva\", \"mango\", \"fresa\"]\n",
    "    fruta = input(\"Ingrese una fruta: \")\n",
    "    print(frutas_permitidas(frutas, fruta))\n",
    "\n",
    "main()"
   ]
  },
  {
   "cell_type": "code",
   "execution_count": 11,
   "metadata": {},
   "outputs": [
    {
     "name": "stdout",
     "output_type": "stream",
     "text": [
      "['manzana', 'pera', 'uva', 'mango', 'fresa']\n"
     ]
    }
   ],
   "source": [
    "#a función frutas_minusculas que recibe una lista de frutas y regresa una nueva lista de frutas en minúsculas. Realiza esta función con el método tradicional.\n",
    "\n",
    "def frutas_minusculas(frutas):\n",
    "    minusculas = []\n",
    "    for f in frutas:\n",
    "        minusculas.append(f.lower())\n",
    "    return minusculas\n",
    "\n",
    "def main():\n",
    "    frutas = [\"Manzana\", \"Pera\", \"Uva\", \"Mango\", \"Fresa\"]\n",
    "    print(frutas_minusculas(frutas))\n",
    "\n",
    "main()"
   ]
  },
  {
   "cell_type": "code",
   "execution_count": 12,
   "metadata": {},
   "outputs": [
    {
     "name": "stdout",
     "output_type": "stream",
     "text": [
      "['manzana', 'pera', 'uva', 'mango', 'fresa']\n"
     ]
    }
   ],
   "source": [
    "#Define la función frutas_minusculas haciendo uso de listas de comprensión.\n",
    "\n",
    "def frutas_minusculas(frutas):\n",
    "    return [f.lower() for f in frutas]\n",
    "\n",
    "def main():\n",
    "    frutas = [\"Manzana\", \"Pera\", \"Uva\", \"Mango\", \"Fresa\"]\n",
    "    print(frutas_minusculas(frutas))\n",
    "\n",
    "main()"
   ]
  }
 ],
 "metadata": {
  "kernelspec": {
   "display_name": "Python 3",
   "language": "python",
   "name": "python3"
  },
  "language_info": {
   "codemirror_mode": {
    "name": "ipython",
    "version": 3
   },
   "file_extension": ".py",
   "mimetype": "text/x-python",
   "name": "python",
   "nbconvert_exporter": "python",
   "pygments_lexer": "ipython3",
   "version": "3.11.6"
  }
 },
 "nbformat": 4,
 "nbformat_minor": 2
}
