{
 "cells": [
  {
   "cell_type": "markdown",
   "metadata": {},
   "source": [
    "# Laboratorio 13 - Funciones de orden superior y listas de compresión\n",
    "## Juan Manuel González Ascencio - A00572003."
   ]
  },
  {
   "cell_type": "code",
   "execution_count": 1,
   "metadata": {},
   "outputs": [
    {
     "name": "stdout",
     "output_type": "stream",
     "text": [
      "La suma de los números es: 8\n",
      "La resta de los números es: 2\n"
     ]
    }
   ],
   "source": [
    "#Definir una función de orden superior llamada operar, que recibe como parámetro dos enteros y una función. En el cuerpo de la función llamar a la función que llega como parámetro y enviar los dos primeros parámetros. La función retorna un entero\n",
    "\n",
    "def operar(a, b, f):\n",
    "    return f(a, b)\n",
    "\n",
    "def suma(a, b):\n",
    "    return a + b\n",
    "\n",
    "def resta(a, b):\n",
    "    return a - b\n",
    "\n",
    "def main():\n",
    "    x = int(input(\"Ingrese un número: \"))\n",
    "    y = int(input(\"Ingrese otro número: \"))\n",
    "    res = operar(x, y, suma)\n",
    "    print(f\"La suma de los números es: {res}\")\n",
    "    res = operar(x, y, resta)\n",
    "    print(f\"La resta de los números es: {res}\")\n",
    "\n",
    "main()"
   ]
  },
  {
   "cell_type": "code",
   "execution_count": 2,
   "metadata": {},
   "outputs": [],
   "source": [
    "#A partir de un string, obtener unicamente una lista con los caracteres que sean minúsculas, empleando para ello la función de orden superior de python filter() y la función lambda.\n",
    "\n",
    "def main():\n",
    "    string = \"Hola A Todos Y Todas, Bonito Día!!\"\n",
    "    res = list(filter(lambda x: x.islower(), string))\n",
    "    print(res)\n",
    "\n",
    "main()\n"
   ]
  },
  {
   "cell_type": "code",
   "execution_count": 4,
   "metadata": {},
   "outputs": [
    {
     "name": "stdout",
     "output_type": "stream",
     "text": [
      "['Ana', 'Ernesto', 'octavio', 'ulises']\n"
     ]
    }
   ],
   "source": [
    "#A partir de una lista de strings, obtener unicamente una lista con los strings que comiencen con vocales, empleando para ello la función de orden superior de python filter() y la función lambda.\n",
    "\n",
    "def main():\n",
    "    lista = [\"juan\", \"Ana\", \"Ernesto\", \"octavio\", \"Gabriela\", \"ulises\", \"Liliana\"]\n",
    "    res = list(filter(lambda x: x[0].lower() in \"aeiou\", lista))\n",
    "    print(res)\n",
    "\n",
    "main()"
   ]
  },
  {
   "cell_type": "code",
   "execution_count": 5,
   "metadata": {},
   "outputs": [
    {
     "name": "stdout",
     "output_type": "stream",
     "text": [
      "[3, 6, 9, 12, 15, 18, 21, 24, 27]\n"
     ]
    }
   ],
   "source": [
    "#A partir de una lista de números enteros, obtenga una lista de números triplicado su valor, empleando para ello la función de orden superior de python map() y la función lambda.  \n",
    "\n",
    "def main():\n",
    "    lista = [1, 2, 3, 4, 5, 6, 7, 8, 9]\n",
    "    res = list(map(lambda x: x*3, lista))\n",
    "    print(res)  \n",
    "\n",
    "main()\n"
   ]
  },
  {
   "cell_type": "code",
   "execution_count": 7,
   "metadata": {},
   "outputs": [
    {
     "name": "stdout",
     "output_type": "stream",
     "text": [
      "[5, 6, 7, 8, 9, 10]\n"
     ]
    }
   ],
   "source": [
    "#La función mayor_numero que recibe un número. La función deberá regresar una lista de números mayores al número que llega como parámetro de una lista de números de entre 1 y 10. Dentro de la función genera una lista con números del 1 al 10 utilizando una lista de compresión. Realiza esta función con el método tradicional.\n",
    "\n",
    "def mayor_numero(n):\n",
    "    lista = []\n",
    "    for i in range(1, 11):\n",
    "        if i > n:\n",
    "            lista.append(i)\n",
    "    return lista\n",
    "\n",
    "def main():\n",
    "    n = int(input(\"Ingrese un número: \"))\n",
    "    res = mayor_numero(n)\n",
    "    print(res)\n",
    "\n",
    "main()\n"
   ]
  },
  {
   "cell_type": "code",
   "execution_count": 8,
   "metadata": {},
   "outputs": [
    {
     "name": "stdout",
     "output_type": "stream",
     "text": [
      "[5, 6, 7, 8, 9, 10]\n"
     ]
    }
   ],
   "source": [
    "#Define la función mayor_numero2 haciendo uso de listas de compresión.\n",
    "\n",
    "def mayor2(n):\n",
    "    lista = [i for i in range(1, 11) if i > n]\n",
    "    return lista\n",
    "\n",
    "def main():\n",
    "    n = int(input(\"Ingrese un número: \"))\n",
    "    res = mayor2(n)\n",
    "    print(res)\n",
    "\n",
    "main()\n"
   ]
  },
  {
   "cell_type": "code",
   "execution_count": 9,
   "metadata": {},
   "outputs": [
    {
     "name": "stdout",
     "output_type": "stream",
     "text": [
      "['pera', 'fresa']\n"
     ]
    }
   ],
   "source": [
    "#La función frutas_con_letra que recibe una lista de frutas y una letra. La función deberá regresar una nueva lista de frutas que contegan la letra que llegó como parámetro. Realiza esta función con el método tradicional.\n",
    "\n",
    "def frutas_con_letra(lista, letra):\n",
    "    res = []\n",
    "    for fruta in lista:\n",
    "        if letra in fruta:\n",
    "            res.append(fruta)\n",
    "    return res\n",
    "\n",
    "def main():\n",
    "    lista = [\"manzana\", \"pera\", \"mango\", \"fresa\", \"kiwi\", \"uva\", \"PAPAYA\", \"piña\"]\n",
    "    letra = input(\"Ingrese una letra: \")\n",
    "    res = frutas_con_letra(lista, letra)\n",
    "    print(res)\n",
    "\n",
    "main()"
   ]
  },
  {
   "cell_type": "code",
   "execution_count": 10,
   "metadata": {},
   "outputs": [
    {
     "name": "stdout",
     "output_type": "stream",
     "text": [
      "['pera', 'fresa']\n"
     ]
    }
   ],
   "source": [
    "#Define la función frutas_con_letra2 haciendo uso de listas de comprensión\n",
    "\n",
    "def frutas_con_letra2(lista, letra):\n",
    "    res = [fruta for fruta in lista if letra in fruta]\n",
    "    return res\n",
    "\n",
    "def main():\n",
    "    lista = [\"manzana\", \"pera\", \"mango\", \"fresa\", \"kiwi\", \"uva\", \"PAPAYA\", \"piña\"]\n",
    "    letra = input(\"Ingrese una letra: \")\n",
    "    res = frutas_con_letra2(lista, letra)\n",
    "    print(res)\n",
    "\n",
    "main()\n"
   ]
  },
  {
   "cell_type": "code",
   "execution_count": 12,
   "metadata": {},
   "outputs": [
    {
     "name": "stdout",
     "output_type": "stream",
     "text": [
      "['manzana', 'pera', 'mango', 'fresa', 'kiwi', 'uva', 'PAPAYA', 'piña']\n"
     ]
    }
   ],
   "source": [
    "#La función sustituye_fruta que recibe una lista de frutas, fruta1 y fruta2. La función deberá regresar una nueva lista de frutas donde se sustituya la fruta1 por la fruta2. Realiza esta función con el método tradicional\n",
    "\n",
    "def sustituye_fruta(lista, fruta1, fruta2):\n",
    "    res = []\n",
    "    for fruta in lista:\n",
    "        if fruta == fruta1:\n",
    "            res.append(fruta2)\n",
    "        else:\n",
    "            res.append(fruta)\n",
    "    return res\n",
    "\n",
    "def main():\n",
    "    lista = [\"manzana\", \"pera\", \"mango\", \"fresa\", \"kiwi\", \"uva\", \"PAPAYA\", \"piña\"]\n",
    "    fruta1 = input(\"Ingrese una fruta: \")\n",
    "    fruta2 = input(\"Ingrese otra fruta: \")\n",
    "    res = sustituye_fruta(lista, fruta1, fruta2)\n",
    "    print(res)\n",
    "\n",
    "main()\n"
   ]
  },
  {
   "cell_type": "code",
   "execution_count": 13,
   "metadata": {},
   "outputs": [
    {
     "name": "stdout",
     "output_type": "stream",
     "text": [
      "['manzana', 'pera', 'maracuya', 'fresa', 'kiwi', 'uva', 'PAPAYA', 'piña']\n"
     ]
    }
   ],
   "source": [
    "#Define la función sustituye_fruta2 haciendo uso de listas de comprensión.\n",
    "\n",
    "def sustituye_fruta2(lista, fruta1, fruta2):\n",
    "    res = [fruta2 if fruta == fruta1 else fruta for fruta in lista]\n",
    "    return res\n",
    "\n",
    "def main():\n",
    "    lista = [\"manzana\", \"pera\", \"mango\", \"fresa\", \"kiwi\", \"uva\", \"PAPAYA\", \"piña\"]\n",
    "    fruta1 = input(\"Ingrese una fruta: \")\n",
    "    fruta2 = input(\"Ingrese otra fruta: \")\n",
    "    res = sustituye_fruta2(lista, fruta1, fruta2)\n",
    "    print(res)\n",
    "\n",
    "main()"
   ]
  }
 ],
 "metadata": {
  "kernelspec": {
   "display_name": "Python 3",
   "language": "python",
   "name": "python3"
  },
  "language_info": {
   "codemirror_mode": {
    "name": "ipython",
    "version": 3
   },
   "file_extension": ".py",
   "mimetype": "text/x-python",
   "name": "python",
   "nbconvert_exporter": "python",
   "pygments_lexer": "ipython3",
   "version": "3.11.6"
  }
 },
 "nbformat": 4,
 "nbformat_minor": 2
}
