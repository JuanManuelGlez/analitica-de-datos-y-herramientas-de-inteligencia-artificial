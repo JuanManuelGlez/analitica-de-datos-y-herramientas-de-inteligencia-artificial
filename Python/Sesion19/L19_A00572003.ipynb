{
 "cells": [
  {
   "cell_type": "markdown",
   "metadata": {},
   "source": [
    "# Laboratorio 19 - RE\n",
    "## Juan Manuel González Ascencio - A00572003"
   ]
  },
  {
   "cell_type": "code",
   "execution_count": 1,
   "metadata": {},
   "outputs": [],
   "source": [
    "import re"
   ]
  },
  {
   "cell_type": "code",
   "execution_count": 10,
   "metadata": {},
   "outputs": [
    {
     "name": "stdout",
     "output_type": "stream",
     "text": [
      "La fecha es valida:  True\n"
     ]
    }
   ],
   "source": [
    "#Define la función es_valida_fecha, que recibe un string con una fecha y regrese True si la fecha es válida, de lo contrario regresa False\n",
    "\n",
    "def es_valida_fecha(fecha):\n",
    "    patron = \"(0?[1-9]|[12][0-9]|3[01])-(0?[1-9]|1[0-2])-((19|20)\\d\\d)\"\n",
    "    resultado = re.match(patron, fecha)\n",
    "    if resultado != None:\n",
    "        return True\n",
    "    else:\n",
    "        return False\n",
    "\n",
    "def main ():\n",
    "    fecha = input(\"Introduce una fecha: \")\n",
    "    res  = es_valida_fecha(fecha)\n",
    "    print(\"La fecha es valida: \",res)\n",
    "\n",
    "main()"
   ]
  },
  {
   "cell_type": "code",
   "execution_count": 13,
   "metadata": {},
   "outputs": [
    {
     "name": "stdout",
     "output_type": "stream",
     "text": [
      "La fecha es valida:  False\n"
     ]
    }
   ],
   "source": [
    "def urls(fecha):\n",
    "    patron = \"https?:\\/\\/(www\\.)?[a-zA-z0-9._]+\\.(com|net|com\\.mx)$\"\n",
    "    resultado = re.match(patron, fecha)\n",
    "    if resultado != None:\n",
    "        return True\n",
    "    else:\n",
    "        return False\n",
    "\n",
    "def main ():\n",
    "    fecha = input(\"Introduce un URL: \")\n",
    "    res  = urls(fecha)\n",
    "    print(\"La fecha es valida: \",res)\n",
    "\n",
    "main()"
   ]
  }
 ],
 "metadata": {
  "kernelspec": {
   "display_name": "Python 3",
   "language": "python",
   "name": "python3"
  },
  "language_info": {
   "codemirror_mode": {
    "name": "ipython",
    "version": 3
   },
   "file_extension": ".py",
   "mimetype": "text/x-python",
   "name": "python",
   "nbconvert_exporter": "python",
   "pygments_lexer": "ipython3",
   "version": "3.11.6"
  }
 },
 "nbformat": 4,
 "nbformat_minor": 2
}
