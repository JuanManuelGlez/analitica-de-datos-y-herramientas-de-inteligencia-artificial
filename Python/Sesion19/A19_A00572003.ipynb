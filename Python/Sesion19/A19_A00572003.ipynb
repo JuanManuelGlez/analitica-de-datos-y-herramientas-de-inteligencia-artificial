{
 "cells": [
  {
   "cell_type": "markdown",
   "metadata": {},
   "source": [
    "# Actividad 19 - RE\n",
    "## Juan Manuel González Ascencio - A00572003"
   ]
  },
  {
   "cell_type": "code",
   "execution_count": 1,
   "metadata": {},
   "outputs": [],
   "source": [
    "import re"
   ]
  },
  {
   "cell_type": "code",
   "execution_count": 3,
   "metadata": {},
   "outputs": [
    {
     "name": "stdout",
     "output_type": "stream",
     "text": [
      "['niño', 'piña', 'piñón', 'ñangale']\n"
     ]
    }
   ],
   "source": [
    "#Define la función filtra, que recibe un string con un conjunto de palabras y regresa una lista con las palabras que contengan ñ (eñes). Utiliza la función findall\n",
    "\n",
    "\n",
    "def filtra(texto):\n",
    "    return re.findall('\\w*[ñÑ]+\\w*', texto)\n",
    "\n",
    "def main():\n",
    "    texto = \" El niño juega con la piña y come piñón ñangale\"\n",
    "    print(filtra(texto))\n",
    "\n",
    "main()"
   ]
  },
  {
   "cell_type": "code",
   "execution_count": 17,
   "metadata": {},
   "outputs": [
    {
     "name": "stdout",
     "output_type": "stream",
     "text": [
      "False\n"
     ]
    }
   ],
   "source": [
    "#Define la función es_valido_mail, que recibe un string con una dirección de correo electrónico y regrese True si la dirección IP es válida, de lo contrario regresa False. Utiliza la función match. Define la función main, pide un correo y manda llamar a la función es_valido_mail.\n",
    " \n",
    "def es_valido_mail(correo):\n",
    "    if re.match('[a-zA-Z0-9.-]+@[a-zA-Z0-9.-]+\\.[a-zA-Z]+', correo):\n",
    "        return True\n",
    "    else:\n",
    "        return False\n",
    "\n",
    "def main():\n",
    "    correo = input(\"Ingresa un correo: \")\n",
    "    print(es_valido_mail(correo))\n",
    "\n",
    "main()\n",
    "\n"
   ]
  },
  {
   "cell_type": "code",
   "execution_count": 6,
   "metadata": {},
   "outputs": [
    {
     "name": "stdout",
     "output_type": "stream",
     "text": [
      "Hola Salom*n, ANDR*S e Ad*n, buen D*A\n"
     ]
    }
   ],
   "source": [
    "#Define la función reemplaza_acentos que recibe un texto y regresa el texto remplazando todas las vocales acentuadas por asteriscos. Utiliza la función sub. Define la función main, pide un texto y manda llamar a la función reemplaza_acentos e imprime el nuevo texto\n",
    "\n",
    "def reemplaza_acentos(texto):\n",
    "    return re.sub('[áéíóúÁÉÍÓÚ]', '*', texto)\n",
    "\n",
    "def main():\n",
    "    texto = input(\"Ingresa un texto: \")\n",
    "    print(reemplaza_acentos(texto))\n",
    "\n",
    "main()"
   ]
  },
  {
   "cell_type": "code",
   "execution_count": 7,
   "metadata": {},
   "outputs": [
    {
     "name": "stdout",
     "output_type": "stream",
     "text": [
      "442.130.12.80\n"
     ]
    }
   ],
   "source": [
    "#Define la función reemplaza_espacios_slashes que recibe un teléfono y sustituye los espacios y slashes por puntos. Define la función main, pide un texto y manda llamar a la función reemplaza_espacios_slashes e imprime el nuevo texto. Utiliza la función sub.\n",
    " \n",
    "def reemplaza_espacios_slashes(texto):\n",
    "    return re.sub('[ /]', '.', texto)\n",
    "\n",
    "def main():\n",
    "    texto = input(\"Ingresa un texto: \")\n",
    "    print(reemplaza_espacios_slashes(texto))\n",
    "\n",
    "main()"
   ]
  },
  {
   "cell_type": "code",
   "execution_count": 10,
   "metadata": {},
   "outputs": [
    {
     "name": "stdout",
     "output_type": "stream",
     "text": [
      "False\n"
     ]
    }
   ],
   "source": [
    "#Define la función encuentra_palabra que reciba una palabra y un texto y regrese True si encuentra la palabra en el texto. Define la función main, pide una palabra y un texto y manda llamar a la función encuentra_palabra e imprime el resultado de la función. Usa la función search.\n",
    "\n",
    "def encuentra_palabra(palabra, texto):\n",
    "    if re.search(palabra, texto):\n",
    "        return True\n",
    "    else:\n",
    "        return False\n",
    "\n",
    "def main():\n",
    "    palabra = input(\"Ingresa una palabra: \")\n",
    "    texto = input(\"Ingresa un texto: \")\n",
    "    print(encuentra_palabra(palabra, texto))\n",
    "\n",
    "main()"
   ]
  },
  {
   "cell_type": "code",
   "execution_count": 13,
   "metadata": {},
   "outputs": [
    {
     "name": "stdout",
     "output_type": "stream",
     "text": [
      "True\n"
     ]
    }
   ],
   "source": [
    "#Define la función encuentra_palabra_inicio que reciba una palabra y un texto y regrese True si encuentra la palabra en el inicio del texto. Define la función main, pide una palabra y un texto y manda llamar a la función encuentra_palabra_inicio e imprime el resultado de la función. Usa la función match.\n",
    "\n",
    "def encuentra_palabra_inicio(palabra, texto):\n",
    "    if re.match(palabra, texto):\n",
    "        return True\n",
    "    else:\n",
    "        return False\n",
    "    \n",
    "def main():\n",
    "    palabra = input(\"Ingresa una palabra: \")\n",
    "    texto = input(\"Ingresa un texto: \")\n",
    "    print(encuentra_palabra_inicio(palabra, texto))\n",
    "\n",
    "main()"
   ]
  },
  {
   "cell_type": "code",
   "execution_count": 14,
   "metadata": {},
   "outputs": [
    {
     "name": "stdout",
     "output_type": "stream",
     "text": [
      "['Hola mundo', ' me gusta Python', ' También me gusta c y c++']\n"
     ]
    }
   ],
   "source": [
    "#Define la función divide_cadena que reciba un texto, lo divida por puntos y comas y lo regrese en una lista. Define la función main, pide un texto y manda llamar a la función divide_cadena. Usa la función split.\n",
    "\n",
    "def divide_cadena(texto):\n",
    "    return re.split('[.,]', texto)\n",
    "\n",
    "def main():\n",
    "    texto = input(\"Ingresa un texto: \")\n",
    "    print(divide_cadena(texto))\n",
    "\n",
    "main()"
   ]
  }
 ],
 "metadata": {
  "kernelspec": {
   "display_name": "Python 3",
   "language": "python",
   "name": "python3"
  },
  "language_info": {
   "codemirror_mode": {
    "name": "ipython",
    "version": 3
   },
   "file_extension": ".py",
   "mimetype": "text/x-python",
   "name": "python",
   "nbconvert_exporter": "python",
   "pygments_lexer": "ipython3",
   "version": "3.11.6"
  }
 },
 "nbformat": 4,
 "nbformat_minor": 2
}
