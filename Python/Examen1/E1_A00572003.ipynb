{
 "cells": [
  {
   "cell_type": "markdown",
   "metadata": {},
   "source": [
    "# Examen 1 \n",
    "## Juan Manuel González Ascencio - A00572003\n",
    "\n",
    "------\n",
    "\n",
    "- Define la clase Artículo.\n",
    "- Define el método constructor con los atributos de instancia: codigo (string), titulo (string), anio (int), disponible (boolean) y costo (float).\n",
    "- Define el método calcularPrecio y dentro del código coloca únicamente pass, ya que este método se redefinirá en las clases hijas.\n",
    "- Define el método mostrar que imprima en dos líneas los valores de los atributos de instancia: codigo, título, anio, disponible y costo, separando cada atributo con una coma (,)\n",
    "- En otro bloque de código define el main, crea un objeto de la clase Artículo como a.\n",
    "    - a = Articulo(\"TJOTREE1987\", \"The Joshua Tree\", \"1987\", True, 500 )\n",
    "- Imprime un salto de línea: print()\n",
    "- Imprime el mensaje ARTÍCULO.\n",
    "Del objeto a:\n",
    "    - Llama al método mostrar."
   ]
  },
  {
   "cell_type": "code",
   "execution_count": 16,
   "metadata": {},
   "outputs": [],
   "source": [
    "#Define la clase Artículo\n",
    "class Articulo:\n",
    "    #Define el método constructor con los atributos de instancia: codigo (string), titulo (string), anio (int), disponible (boolean) y costo (float).\n",
    "    def __init__(self, codigo, titulo, anio, disponible, costo):\n",
    "        self.codigo = codigo\n",
    "        self.titulo = titulo\n",
    "        self.anio = anio\n",
    "        self.disponible = disponible\n",
    "        self.costo = costo\n",
    "\n",
    "    #Define el método calcularPrecio y dentro del código coloca únicamente pass, ya que este método se redefinirá en las clases hijas.\n",
    "    def calcularPrecio(self):\n",
    "        pass\n",
    "    \n",
    "    #Define el método mostrar que imprima en dos líneas los valores de los atributos de instancia: codigo, título, anio, disponible y costo, separando cada atributo con una coma (,)\n",
    "    def mostrar(self):\n",
    "        print(\"Código: \", self.codigo, \", Titulo: \", self.titulo, \"\\nAño: \", self.anio, \", Disponible: \", self.disponible, \", Costo: \", self.costo)"
   ]
  },
  {
   "cell_type": "code",
   "execution_count": 17,
   "metadata": {},
   "outputs": [
    {
     "name": "stdout",
     "output_type": "stream",
     "text": [
      "ARTÍCULO\n",
      "Código:  TJOTREE1987 , Titulo:  The Joshua Tree \n",
      "Año:  1987 , Disponible:  True , Costo:  500\n",
      "None\n"
     ]
    }
   ],
   "source": [
    "#En otro bloque de código define el main, crea un objeto de la clase Artículo como a.\n",
    "\n",
    "def main ():\n",
    "    a = Articulo(\"TJOTREE1987\", \"The Joshua Tree\", \"1987\", True, 500 )\n",
    "    print(\"ARTÍCULO\")\n",
    "    a.mostrar()\n",
    "    print(a.calcularPrecio())\n",
    "\n",
    "main()"
   ]
  },
  {
   "cell_type": "markdown",
   "metadata": {},
   "source": [
    "## Parte 2\n",
    "\n",
    "- Define la clase Musica como una clase hija de la clase Articulo.\n",
    "- Define el método constructor con los atributos de instancia de la super clase Articulo y los atributos de instancia de la clase Musica: interprete (string) y formato (string). Define estos atributos como privados (interprete y formato)\n",
    "- Dentro del método constructor, asigna el valor de los atributos de instancia: interprete y formato y llama a la clase padre Artículo.\n",
    "- Define los métodos getters y setters para manejar los atributos privados de la clase (interprete y formato).\n",
    "- Define el método calcularPrecio, que regrese el cálculo del precio, que es 15% adicional al costo. Por ejemplo: Si el costo es 1000, el precio de venta sería 15% extra al costo, es decir, 1150.\n",
    "- Define el método mostrar que imprima en tres líneas los valores de los atributos de instancia, separados por comas(,)\n",
    "- En otro bloque de código define el main, crea un objeto de la clase Musica como m.\n",
    "    - m = Musica(\"TJOTREE1987\", \"The Joshua Tree\", \"1987\", True, 500, \"U-2\", \"CD\")\n",
    "- Del objeto m:\n",
    "    - mprime el mensaje MUSICA.\n",
    "    - lama al método mostrar.\n",
    "    - mprime un salto de línea: print()\n",
    "    - lama al método calcularPrecio e imprime el resultado de la función. El precio del libro hay que imprimirlo con dos decimales.\n",
    "    - mprime un salto de línea: print()\n",
    "    - ide una nuevo intérprete y modifica el valor del interprete.\n",
    "    - ide una nuevo formato y modifica el valor del formato.\n",
    "    - mprime un salto de línea.\n",
    "    - mprime el mensaje MUSICA.\n",
    "    - lama al método mostrar."
   ]
  },
  {
   "cell_type": "code",
   "execution_count": 18,
   "metadata": {},
   "outputs": [],
   "source": [
    "#Define la clase Musica como una clase hija de la clase Articulo.\n",
    "\n",
    "class Musica(Articulo):\n",
    "    #Define el método constructor con los atributos de instancia de la super clase Articulo y los atributos de instancia de la clase Musica: interprete (string) y formato (string). Define estos atributos como privados (interprete y formato)\n",
    "\n",
    "    def __init__(self, codigo, titulo, anio, disponible, costo, interprete, formato):\n",
    "        super().__init__(codigo, titulo, anio, disponible, costo)\n",
    "        self.__interprete = interprete\n",
    "        self.__formato = formato\n",
    "\n",
    "    #Define los métodos getters y setters para manejar los atributos privados de la clase (interprete y formato).\n",
    "    def getInterprete(self):\n",
    "        return self.__interprete\n",
    "    def setInterprete(self, interprete):\n",
    "        self.__interprete = interprete\n",
    "\n",
    "    def getFormato(self):\n",
    "        return self.__formato\n",
    "    def setFormato(self, formato):\n",
    "        self.__formato = formato\n",
    "\n",
    "    #Define el método calcularPrecio, que regrese el cálculo del precio, que es 15% adicional al costo. Por ejemplo: Si el costo es 1000, el precio de venta sería 15% extra al costo, es decir, 1150\n",
    "    def calcularPrecio(self):\n",
    "        return self.costo * 1.15\n",
    "    \n",
    "    #Define el método mostrar que imprima en tres líneas los valores de los atributos de instancia: codigo, título, anio, disponible, costo, interprete y formato, separando cada atributo con una coma (,)\n",
    "\n",
    "    def mostrar(self):\n",
    "        print(\"Código: \", self.codigo, \", Titulo: \", self.titulo, \"\\nAño: \", self.anio, \", Disponible: \", self.disponible, \", Costo: \", self.costo, \"\\nInterprete: \", self.__interprete, \", Formato: \", self.__formato)\n",
    "\n",
    "        \n",
    "\n"
   ]
  },
  {
   "cell_type": "code",
   "execution_count": 19,
   "metadata": {},
   "outputs": [
    {
     "name": "stdout",
     "output_type": "stream",
     "text": [
      "MÚSICA\n",
      "Código:  TJOTREE1987 , Titulo:  The Joshua Tree \n",
      "Año:  1987 , Disponible:  True , Costo:  500 \n",
      "Interprete:  U-2 , Formato:  CD\n",
      "\n",
      "El precio del disco es:  575.0\n",
      "\n",
      "\n",
      "MUSICA\n",
      "Código:  TJOTREE1987 , Titulo:  The Joshua Tree \n",
      "Año:  1987 , Disponible:  True , Costo:  500 \n",
      "Interprete:  Mac  , Formato:  cD\n"
     ]
    }
   ],
   "source": [
    "def main ():\n",
    "    m = Musica(\"TJOTREE1987\", \"The Joshua Tree\", \"1987\", True, 500, \"U-2\", \"CD\")\n",
    "    print(\"MÚSICA\")\n",
    "    m.mostrar()\n",
    "    print()\n",
    "    print (\"El precio del disco es: \", m.calcularPrecio())\n",
    "    print()\n",
    "    nuevoInterprete = input(\"Ingrese el nuevo interprete: \")\n",
    "    m.setInterprete(nuevoInterprete)\n",
    "    nuevoFormato = input(\"Ingrese el nuevo formato: \")\n",
    "    m.setFormato(nuevoFormato)\n",
    "    print()\n",
    "    print (\"MUSICA\")\n",
    "    m.mostrar()\n",
    "\n",
    "main()"
   ]
  },
  {
   "cell_type": "markdown",
   "metadata": {},
   "source": [
    "## Parte 3\n",
    "\n",
    "- Importa el módulo re\n",
    "- Define la clase CVerificador que permitirá validar datos antes de pasarlos a las clases y asegurar que no contendrán errores. La validación debe realizarse a través de expresiones regulares y debe tener los siguientes métodos:\n",
    "- Cada método recibirá un string con el valor a validar y regresará True si el valor es válido, de lo contrario regresará False. Utiliza la función match. Puedes utilizar la página de regexr para validar tus expresiones regulares: https://regexr.com/\n",
    "- verificarCodigo(codigo): Verificar que el código empiece siempre con una letra mayúscula, depués cualquier número de letras mayúsculas o minúsculas y cuatro números al final.\n",
    "- Ejemplos:\n",
    "\n",
    "    - codigo = APErfW1350 regresaría True\n",
    "    - codigo = XpwrijDw1845 regresaría True\n",
    "    - codigo = YpwrijDw18 regresaría False\n",
    "    - codigo = Yp89Dw1874 regresaría False\n",
    "    - codigo = APe*rW1352 regresaría False\n",
    "    - codigo = fPEriW1351 regresaría False\n",
    "- En otro bloque de código define la función valida_datos que recibe como parámetro de entrada el codigo (string). Crea un objeto de la clase CVerificador para que puedas utilizar el método verificarCodigo. La función regresará True si el método verificarCodigo regresa True, de lo contrario deberá:\n",
    "- Imprimir un salto de línea: print()\n",
    "- Imprimir si es válido el código\n",
    "- Imprimir un salto de línea.\n",
    "- Imprimir el siguiente mensaje \"INTRODUCE DATOS VÁLIDOS\"\n",
    "- Regresar False.  \n",
    "- En el main:\n",
    "    - Declara la variable es_valida = False\n",
    "    - Crea un ciclo while es_valida != True: para que pida el codigo hasta que sea válido.  \n",
    "        - Pide el codigo como string.\n",
    "        - Llama a la función valida_datos (codigo) y asigna el resultado de la función a la variable es_valida. \n",
    "    - Crea un objeto de la clase Musica llamado m.\n",
    "        - m = Musica(codigo, \"The Joshua Tree\", 1987, True, 1000, \"U2\", \"DVD\")\n",
    "    - Del objeto m:\n",
    "        - Imprime un salto de línea.\n",
    "        - Imprime el mensaje MUSICA.\n",
    "        - Llama al método mostrar."
   ]
  },
  {
   "cell_type": "code",
   "execution_count": 20,
   "metadata": {},
   "outputs": [],
   "source": [
    "import re "
   ]
  },
  {
   "cell_type": "code",
   "execution_count": 21,
   "metadata": {},
   "outputs": [],
   "source": [
    "#Define la clase CVerificador que permitirá validar datos antes de pasarlos a las clases y asegurar que no contendrán errores. La validación debe realizarse a través de expresiones regulares y debe tener los siguientes métodos:\n",
    "\n",
    "class CVerificador:\n",
    "    #verificarCodigo(codigo): Verificar que el código empiece siempre con una letra mayúscula, depués cualquier número de letras mayúsculas o minúsculas y cuatro números al final.\n",
    "\n",
    "    def verificarCodigo(self, codigo):\n",
    "        if re.match(r'^[A-Z][a-zA-Z]*[0-9]{4}$', codigo):\n",
    "            return True\n",
    "        else:\n",
    "            return False\n",
    "        \n",
    "    #En otro bloque de código define la función valida_datos que recibe como parámetro de entrada el codigo (string). Crea un objeto de la clase CVerificador para que puedas utilizar el método verificarCodigo. La función regresará True si el método verificarCodigo regresa True, de lo contrario deberá:\n",
    "        \n",
    "    def valida_datos(self, codigo):\n",
    "        c = CVerificador()\n",
    "        if c.verificarCodigo(codigo):\n",
    "            return True\n",
    "        else:\n",
    "            print()\n",
    "            print(\"El código no es válido\")\n",
    "            print()\n",
    "            print(\"INTRODUCE DATOS VÁLIDOS\")\n",
    "            return False\n",
    "        \n",
    "        "
   ]
  },
  {
   "cell_type": "code",
   "execution_count": 23,
   "metadata": {},
   "outputs": [
    {
     "name": "stdout",
     "output_type": "stream",
     "text": [
      "\n",
      "El código no es válido\n",
      "\n",
      "INTRODUCE DATOS VÁLIDOS\n",
      "\n",
      "MÚSICA\n",
      "Código:  APErfW1350 , Titulo:  The Joshua Tree \n",
      "Año:  1987 , Disponible:  True , Costo:  1000 \n",
      "Interprete:  U2 , Formato:  DVD\n"
     ]
    }
   ],
   "source": [
    "def main():\n",
    "    es_valido = False\n",
    "    while (es_valido != True):\n",
    "        codigo = input(\"Introduce el código: \")\n",
    "        v = CVerificador()\n",
    "        es_valido = v.valida_datos(codigo)\n",
    "        if es_valido:\n",
    "            #print(\"El código es válido\")\n",
    "            pass\n",
    "    \n",
    "    #Crea un objeto de la clase Musica llamado m.\n",
    "    m = Musica(codigo, \"The Joshua Tree\", 1987, True, 1000, \"U2\", \"DVD\")\n",
    "    print()\n",
    "    print(\"MÚSICA\")\n",
    "    m.mostrar()\n",
    "\n",
    "\n",
    "main()"
   ]
  }
 ],
 "metadata": {
  "kernelspec": {
   "display_name": "Python 3",
   "language": "python",
   "name": "python3"
  },
  "language_info": {
   "codemirror_mode": {
    "name": "ipython",
    "version": 3
   },
   "file_extension": ".py",
   "mimetype": "text/x-python",
   "name": "python",
   "nbconvert_exporter": "python",
   "pygments_lexer": "ipython3",
   "version": "3.11.6"
  }
 },
 "nbformat": 4,
 "nbformat_minor": 2
}
