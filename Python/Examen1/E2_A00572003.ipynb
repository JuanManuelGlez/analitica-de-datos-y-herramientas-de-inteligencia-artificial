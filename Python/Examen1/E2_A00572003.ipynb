{
 "cells": [
  {
   "cell_type": "markdown",
   "metadata": {},
   "source": [
    "# Examen 2 \n",
    "## Juan Manuel González Ascencio - A00572003.\n"
   ]
  },
  {
   "cell_type": "code",
   "execution_count": 1,
   "metadata": {},
   "outputs": [],
   "source": [
    "import pandas as pd \n",
    "import numpy as np"
   ]
  },
  {
   "cell_type": "code",
   "execution_count": 2,
   "metadata": {},
   "outputs": [
    {
     "name": "stdout",
     "output_type": "stream",
     "text": [
      "[[2000 'Cuphead' 9.0 180.0 'E']\n",
      " [2001 'Doom eternal' 8.0 1400.0 'M']\n",
      " [2000 'Horizon Zero Dawn' 9.0 450.7 'T']\n",
      " [1999 'Resident Evil 2' 9.0 450.88 'M']\n",
      " [2020 'Super Mario Odyssey' 10.0 1700.05 'E']\n",
      " [2020 'Minecraft' 8.5 550.54 'E']\n",
      " [2003 'Call of Duty' 9.0 1600.0 'M']\n",
      " [2013 'Grand Theft Auto V' 9.0 1000.0 'M']\n",
      " [1986 'The Legend of Zelda' 10.0 800.0 'E']]\n"
     ]
    }
   ],
   "source": [
    "#Realiza la lectura del archivo CSV en Python usando la función de Pandas read_csv. \n",
    "\n",
    "#Carga la información del dataframe en una matriz de Numpy.\n",
    "data = pd.read_csv('videojuegos.csv')\n",
    "data = data.to_numpy()\n",
    "print(data)"
   ]
  },
  {
   "cell_type": "code",
   "execution_count": 6,
   "metadata": {},
   "outputs": [],
   "source": [
    "#En un bloque de código, define la función leer_archivo que leerá el archivo videojuegos.csv y lo guardará en una matriz de numpy. La función deberá regresar la matriz.\n",
    "\n",
    "def leer_archivo():\n",
    "    data = pd.read_csv('videojuegos.csv')\n",
    "    data = data.to_numpy()\n",
    "    return data\n",
    "\n",
    "def precio_mas_bajo(data):\n",
    "    #Calcula el precio más bajo de un videojuego en el dataframe. \n",
    "    precio_bajo = data[:, 3].min()\n",
    "    return precio_bajo\n",
    "\n"
   ]
  },
  {
   "cell_type": "code",
   "execution_count": 7,
   "metadata": {},
   "outputs": [
    {
     "name": "stdout",
     "output_type": "stream",
     "text": [
      "[[2000 'Cuphead' 9.0 180.0 'E']\n",
      " [2001 'Doom eternal' 8.0 1400.0 'M']\n",
      " [2000 'Horizon Zero Dawn' 9.0 450.7 'T']\n",
      " [1999 'Resident Evil 2' 9.0 450.88 'M']\n",
      " [2020 'Super Mario Odyssey' 10.0 1700.05 'E']\n",
      " [2020 'Minecraft' 8.5 550.54 'E']\n",
      " [2003 'Call of Duty' 9.0 1600.0 'M']\n",
      " [2013 'Grand Theft Auto V' 9.0 1000.0 'M']\n",
      " [1986 'The Legend of Zelda' 10.0 800.0 'E   ']]\n",
      "\n",
      "180.0\n"
     ]
    }
   ],
   "source": [
    "def main():\n",
    "    data = leer_archivo()\n",
    "    print(data)\n",
    "    print()\n",
    "    print(precio_mas_bajo(data))\n",
    "\n",
    "main()"
   ]
  },
  {
   "cell_type": "code",
   "execution_count": 16,
   "metadata": {},
   "outputs": [
    {
     "name": "stdout",
     "output_type": "stream",
     "text": [
      "[[2000 'Cuphead' 9.0 180.0 'E']\n",
      " [2001 'Doom eternal' 8.0 1400.0 'M']\n",
      " [2000 'Horizon Zero Dawn' 9.0 450.7 'T']\n",
      " [1999 'Resident Evil 2' 9.0 450.88 'M']\n",
      " [2020 'Super Mario Odyssey' 10.0 1700.05 'E']\n",
      " [2020 'Minecraft' 8.5 550.54 'E']\n",
      " [2003 'Call of Duty' 9.0 1600.0 'M']\n",
      " [2013 'Grand Theft Auto V' 9.0 1000.0 'M']\n",
      " [1986 'The Legend of Zelda' 10.0 800.0 'E']]\n",
      "\n",
      "E:  ['Cuphead', 'Super Mario Odyssey', 'Minecraft', 'The Legend of Zelda']\n",
      "T:  ['Horizon Zero Dawn']\n",
      "M:  ['Doom eternal', 'Resident Evil 2', 'Call of Duty', 'Grand Theft Auto V']\n"
     ]
    }
   ],
   "source": [
    "#Define la función por_clasificacion, que imprima un arreglo con los videojuegos por clasificación (rating).\n",
    "\n",
    "def por_clasificacion(data):\n",
    "    E = []\n",
    "    T = []\n",
    "    M = []\n",
    "\n",
    "    for i in range(len(data)):\n",
    "        if data[i][4] == 'E':\n",
    "            E.append(data[i][1])\n",
    "        elif data[i][4] == 'T':\n",
    "            T.append(data[i][1])\n",
    "        elif data[i][4] == 'M':\n",
    "            M.append(data[i][1])\n",
    "\n",
    "    print('E: ', E)\n",
    "    print('T: ', T)\n",
    "    print('M: ', M)\n",
    "\n",
    "\n",
    "def main():\n",
    "    data = leer_archivo()\n",
    "    print(data)\n",
    "    print()\n",
    "\n",
    "    por_clasificacion(data)\n",
    "main()"
   ]
  }
 ],
 "metadata": {
  "kernelspec": {
   "display_name": "Python 3",
   "language": "python",
   "name": "python3"
  },
  "language_info": {
   "codemirror_mode": {
    "name": "ipython",
    "version": 3
   },
   "file_extension": ".py",
   "mimetype": "text/x-python",
   "name": "python",
   "nbconvert_exporter": "python",
   "pygments_lexer": "ipython3",
   "version": "3.11.6"
  }
 },
 "nbformat": 4,
 "nbformat_minor": 2
}
