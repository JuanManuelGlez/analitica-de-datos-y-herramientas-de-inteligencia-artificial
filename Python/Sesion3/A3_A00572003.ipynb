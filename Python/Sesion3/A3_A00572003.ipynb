{
 "cells": [
  {
   "cell_type": "markdown",
   "metadata": {},
   "source": [
    "# Actividad 3\n",
    "\n",
    "## Juan Manuel González Ascencio - A00572003\n",
    "\n"
   ]
  },
  {
   "cell_type": "code",
   "execution_count": 1,
   "metadata": {},
   "outputs": [],
   "source": [
    "import math"
   ]
  },
  {
   "cell_type": "code",
   "execution_count": 8,
   "metadata": {},
   "outputs": [
    {
     "name": "stdout",
     "output_type": "stream",
     "text": [
      "33.12\n"
     ]
    }
   ],
   "source": [
    "def Sector(radio, angulo):\n",
    "    return (math.pi * radio**2 * angulo) / 360\n",
    "\n",
    "def Eclipce(a, b):\n",
    "    return math.pi * a * b\n",
    "\n",
    "def Paralelogramo(a, h):\n",
    "    return a * h\n",
    "\n",
    "\n",
    "def main():\n",
    "    x = int(input(\"ingresa la funcion que quieres realizar: \"))\n",
    "    \n",
    "    if x == 1:\n",
    "        radio = float(input(\"ingresa el radio: \"))\n",
    "        angulo = float(input(\"ingresa el angulo: \"))\n",
    "        res = Sector(radio, angulo)\n",
    "        print(res)\n",
    "    if x == 2:\n",
    "        a = float(input(\"ingresa el valor de a: \"))\n",
    "        b = float(input(\"ingresa el valor de b: \"))\n",
    "        res = Eclipce(a, b)\n",
    "        print(res)\n",
    "    if x == 3:\n",
    "        a = float(input(\"ingresa el valor de a: \"))\n",
    "        h = float(input(\"ingresa el valor de h: \"))\n",
    "        res = Paralelogramo(a, h)\n",
    "        print(res)\n",
    "main()\n"
   ]
  }
 ],
 "metadata": {
  "kernelspec": {
   "display_name": "Python 3",
   "language": "python",
   "name": "python3"
  },
  "language_info": {
   "codemirror_mode": {
    "name": "ipython",
    "version": 3
   },
   "file_extension": ".py",
   "mimetype": "text/x-python",
   "name": "python",
   "nbconvert_exporter": "python",
   "pygments_lexer": "ipython3",
   "version": "3.11.6"
  }
 },
 "nbformat": 4,
 "nbformat_minor": 2
}
