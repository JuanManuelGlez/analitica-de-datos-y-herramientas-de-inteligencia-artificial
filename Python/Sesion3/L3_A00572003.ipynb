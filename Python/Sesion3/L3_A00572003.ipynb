{
 "cells": [
  {
   "cell_type": "markdown",
   "metadata": {},
   "source": [
    "# Laaboratorio 3\n",
    "\n",
    "## Juan Manuel González Ascencio - A00572003"
   ]
  },
  {
   "cell_type": "markdown",
   "metadata": {},
   "source": [
    "## Kilometros a millas"
   ]
  },
  {
   "cell_type": "code",
   "execution_count": 2,
   "metadata": {},
   "outputs": [
    {
     "name": "stdout",
     "output_type": "stream",
     "text": [
      "1.- Kilometros a Millas\n",
      "2.- Millas a Kilometros\n",
      "3.- Salir\n",
      "Opcion no valida\n"
     ]
    }
   ],
   "source": [
    "\n",
    "def Km2Millas(Km):\n",
    "    return Km*0.625\n",
    "\n",
    "def Millas2Km(millas):\n",
    "    return millas*1.6\n",
    "\n",
    "def UnidadesLongiturd(opcion):\n",
    "    print (\"1.- Kilometros a Millas\")\n",
    "    print (\"2.- Millas a Kilometros\")\n",
    "    print (\"3.- Salir\")\n",
    "\n",
    "    if opcion == 1:\n",
    "        Km = float(input(\"Dame la cantidad de Kilometros que quieras convertir a millas: \"))\n",
    "        Millas  = Km2Millas(Km)\n",
    "        print(Km, \" Kilometros son equivalentes a \", Millas)\n",
    "    elif opcion == 2:\n",
    "        millas = float(input(\"Dame la cantidad de millas que quieres convertir a Km: \"))\n",
    "        km = Millas2Km(millas)\n",
    "        print (millas, \" Millas son equivalente a \", km, \" Kilometros\")\n",
    "    elif opcion == 3:\n",
    "        print (\"Adios\")\n",
    "    else:\n",
    "        print (\"Opcion no valida\")\n",
    "        \n",
    "\n",
    "\n",
    "\n",
    "def main():\n",
    "    opcion = int(input(\"Ingresa la opcion que quieres usar: \"))\n",
    "    UnidadesLongiturd(opcion)\n",
    "\n",
    "main()"
   ]
  },
  {
   "cell_type": "code",
   "execution_count": 2,
   "metadata": {},
   "outputs": [],
   "source": [
    "import math"
   ]
  },
  {
   "cell_type": "code",
   "execution_count": 9,
   "metadata": {},
   "outputs": [
    {
     "name": "stdout",
     "output_type": "stream",
     "text": [
      "1.- Secante cuadrada\n",
      "2.- Cotangente\n",
      "3.- Salir\n",
      "El resultado es:  -0.9999999999999998\n"
     ]
    }
   ],
   "source": [
    "def GradosaRadianes(grados):\n",
    "    return grados * math.pi/180\n",
    "\n",
    "def Secante_cuadrada(grados):\n",
    "    radianes = GradosaRadianes(grados)\n",
    "    return 1 + math.tan(radianes)**2\n",
    "\n",
    "def cotangente(grados):\n",
    "    radianes = GradosaRadianes(grados)\n",
    "    return 1/math.tan(radianes)\n",
    "\n",
    "def Identidades (opcion):\n",
    "    print(\"1.- Secante cuadrada\")\n",
    "    print(\"2.- Cotangente\")\n",
    "    print(\"3.- Salir\")\n",
    "\n",
    "    if opcion == 1:\n",
    "        grados = float(input(\"Dame los grados: \" ))\n",
    "        res = Secante_cuadrada(grados)\n",
    "        print (\"El resultado es: \", res)\n",
    "\n",
    "    elif opcion == 2:\n",
    "        grados = float(input(\"Dame los grados: \" ))\n",
    "        res = cotangente(grados)\n",
    "        print (\"El resultado es: \", res)\n",
    "    elif opcion == 3:\n",
    "        print (\"Adios\")\n",
    "    else:\n",
    "        print (\"Opcion no valida\")\n",
    "\n",
    "        \n",
    "def main ():\n",
    "    opcion = int(input(\"Ingresa la opcion que quieres usar: \"))\n",
    "    Identidades(opcion)\n",
    "\n",
    "\n",
    "main()"
   ]
  }
 ],
 "metadata": {
  "kernelspec": {
   "display_name": "Python 3",
   "language": "python",
   "name": "python3"
  },
  "language_info": {
   "codemirror_mode": {
    "name": "ipython",
    "version": 3
   },
   "file_extension": ".py",
   "mimetype": "text/x-python",
   "name": "python",
   "nbconvert_exporter": "python",
   "pygments_lexer": "ipython3",
   "version": "3.11.6"
  }
 },
 "nbformat": 4,
 "nbformat_minor": 2
}
