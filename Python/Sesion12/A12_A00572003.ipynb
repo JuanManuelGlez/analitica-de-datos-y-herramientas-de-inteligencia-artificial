{
 "cells": [
  {
   "cell_type": "markdown",
   "metadata": {},
   "source": [
    "# Actividad 11 - Funciones lambda\n",
    "## Juan Manuel González - A00572003"
   ]
  },
  {
   "cell_type": "code",
   "execution_count": 1,
   "metadata": {},
   "outputs": [],
   "source": [
    "import math"
   ]
  },
  {
   "cell_type": "code",
   "execution_count": 2,
   "metadata": {},
   "outputs": [
    {
     "name": "stdout",
     "output_type": "stream",
     "text": [
      "El área del sector es:  9.817477042468104\n"
     ]
    }
   ],
   "source": [
    "#La función lambda sector cuyos argumentos son el radio y el angulo. Utiliza la constante math.pi de la librería math.\n",
    "\n",
    "sector = lambda r, a: (a/360)*math.pi*r**2\n",
    "\n",
    "def main ():\n",
    "    r = float(input(\"Ingrese el radio: \"))\n",
    "    a = float(input(\"Ingrese el ángulo: \"))\n",
    "    print(\"El área del sector es: \", sector(r, a))\n",
    "\n",
    "main()"
   ]
  },
  {
   "cell_type": "code",
   "execution_count": 4,
   "metadata": {},
   "outputs": [
    {
     "name": "stdout",
     "output_type": "stream",
     "text": [
      "El área del eclipse es:  31.41592653589793\n"
     ]
    }
   ],
   "source": [
    "#La función lambda eclipse cuyos argumentos son los radios a y b. Utiliza la constante math.pi de la librería math.\n",
    "\n",
    "eclipse = lambda a, b: math.pi*a*b\n",
    "\n",
    "def main ():\n",
    "    a = float(input(\"Ingrese el radio a: \"))\n",
    "    b = float(input(\"Ingrese el radio b: \"))\n",
    "    print(\"El área del eclipse es: \", eclipse(a, b))\n",
    "\n",
    "main()\n"
   ]
  },
  {
   "cell_type": "code",
   "execution_count": 6,
   "metadata": {},
   "outputs": [
    {
     "name": "stdout",
     "output_type": "stream",
     "text": [
      "El área del paralelogramo es:  33.12\n"
     ]
    }
   ],
   "source": [
    "#La función lambda paralelogramo cuyos argumentos son la longitud a y la altura h.\n",
    "\n",
    "paralelogramo = lambda a, h: a*h\n",
    "\n",
    "def main ():\n",
    "    a = float(input(\"Ingrese la longitud a: \"))\n",
    "    h = float(input(\"Ingrese la altura h: \"))\n",
    "    print(\"El área del paralelogramo es: \", paralelogramo(a, h))\n",
    "\n",
    "main()"
   ]
  }
 ],
 "metadata": {
  "kernelspec": {
   "display_name": "Python 3",
   "language": "python",
   "name": "python3"
  },
  "language_info": {
   "codemirror_mode": {
    "name": "ipython",
    "version": 3
   },
   "file_extension": ".py",
   "mimetype": "text/x-python",
   "name": "python",
   "nbconvert_exporter": "python",
   "pygments_lexer": "ipython3",
   "version": "3.11.6"
  }
 },
 "nbformat": 4,
 "nbformat_minor": 2
}
