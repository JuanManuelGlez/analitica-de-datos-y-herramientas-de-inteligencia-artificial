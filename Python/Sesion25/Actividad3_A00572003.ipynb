{
 "cells": [
  {
   "cell_type": "markdown",
   "metadata": {},
   "source": [
    "# Actividad 3 - Análisis numérico con pandas\n",
    "## Juan Manuel González Ascencio - A00572003"
   ]
  },
  {
   "cell_type": "code",
   "execution_count": 3,
   "metadata": {},
   "outputs": [],
   "source": [
    "import numpy as np\n",
    "import pandas as pd "
   ]
  },
  {
   "cell_type": "code",
   "execution_count": 6,
   "metadata": {},
   "outputs": [
    {
     "name": "stdout",
     "output_type": "stream",
     "text": [
      "[[2.017e+03 1.200e+04 1.000e+00 ... 1.500e+02 5.770e+01 1.000e+00]\n",
      " [2.018e+03 1.400e+04 2.000e+00 ... 1.500e+02 5.770e+01 1.000e+00]\n",
      " [2.017e+03 1.300e+04 2.000e+00 ... 1.500e+02 5.770e+01 1.000e+00]\n",
      " ...\n",
      " [2.015e+03 9.999e+03 2.000e+00 ... 2.000e+01 6.730e+01 1.600e+00]\n",
      " [2.018e+03 8.299e+03 2.000e+00 ... 1.450e+02 5.770e+01 1.200e+00]\n",
      " [2.015e+03 8.299e+03 2.000e+00 ... 2.200e+01 5.770e+01 1.000e+00]]\n"
     ]
    }
   ],
   "source": [
    "# cargamos la información a una matriz de numpy\n",
    "def leer_datos():\n",
    "    data = pd.read_csv('DatosAutos-1-1.csv')\n",
    "    data = data.to_numpy()\n",
    "    return data\n",
    "\n",
    "def main ():\n",
    "    data = leer_datos()\n",
    "    print(data)\n",
    "main()"
   ]
  },
  {
   "cell_type": "markdown",
   "metadata": {},
   "source": [
    "La primera fase requiere que extraigas los siguientes datos:\n",
    "\n",
    "NOTA: Realiza cada función con su main en un bloque de código distinto:\n",
    "\n",
    "- Define la función precio_maximo, que regrese el precio máximo de un automóvil.\n",
    "- Define la función promedio_impuestos, que regrese el promedio de impuestos (tax) pagados por ese lote de automóviles. Imprime en el main el resultado de la función promedio_impuestos con dos decimales.\n",
    "- Define la función suma_millaje, que regrese la suma del millaje (mileage) del lote de autos. Imprime en el main el resultado de la función suma_millage con un decimal.\n",
    "- Define la función cantidad_autos, que imprima la cantidad de autos de cada año.\n",
    "- Define la función promedio_mpg, que regresa el promedio de millaje por galón (mpg) de cada tipo de combustible."
   ]
  },
  {
   "cell_type": "code",
   "execution_count": 8,
   "metadata": {},
   "outputs": [
    {
     "name": "stdout",
     "output_type": "stream",
     "text": [
      "54995.0\n"
     ]
    }
   ],
   "source": [
    "# Define la función precio_maximo, que regrese el precio máximo de un automóvil.\n",
    "\n",
    "def precio_maximo(data):\n",
    "    return data[:,1].max()\n",
    "\n",
    "def main ():\n",
    "    data = leer_datos()\n",
    "    print(precio_maximo(data))\n",
    "\n",
    "main()\n"
   ]
  },
  {
   "cell_type": "code",
   "execution_count": 9,
   "metadata": {},
   "outputs": [
    {
     "name": "stdout",
     "output_type": "stream",
     "text": [
      "113.3107115020599\n"
     ]
    }
   ],
   "source": [
    "# Define la función promedio_impuestos, que regrese el promedio de impuestos (tax) pagados por ese lote de automóviles. Imprime en el main el resultado de la función promedio_impuestos con dos decimales.\n",
    "\n",
    "def promedio_impuestos(data):\n",
    "    return data[:,5].mean()\n",
    "\n",
    "def main ():\n",
    "    data = leer_datos()\n",
    "    print(promedio_impuestos(data))\n",
    "\n",
    "main()"
   ]
  },
  {
   "cell_type": "code",
   "execution_count": 11,
   "metadata": {},
   "outputs": [
    {
     "name": "stdout",
     "output_type": "stream",
     "text": [
      "419547822.0\n"
     ]
    }
   ],
   "source": [
    "#Define la función suma_millaje, que regrese la suma del millaje (mileage) del lote de autos. Imprime en el main el resultado de la función suma_millage con un decimal.\n",
    "\n",
    "def suma_millaje(data):\n",
    "    return data[:,3].sum()\n",
    "\n",
    "def main (): \n",
    "    data = leer_datos()\n",
    "    print(suma_millaje(data))\n",
    "\n",
    "main()\n"
   ]
  },
  {
   "cell_type": "code",
   "execution_count": 13,
   "metadata": {},
   "outputs": [
    {
     "name": "stdout",
     "output_type": "stream",
     "text": [
      "2002.0  -  3\n",
      "2003.0  -  3\n",
      "2004.0  -  4\n",
      "2005.0  -  16\n",
      "2006.0  -  13\n",
      "2007.0  -  32\n",
      "2008.0  -  57\n",
      "2009.0  -  91\n",
      "2010.0  -  67\n",
      "2011.0  -  94\n",
      "2012.0  -  115\n",
      "2013.0  -  609\n",
      "2014.0  -  805\n",
      "2015.0  -  1368\n",
      "2016.0  -  2331\n",
      "2017.0  -  4888\n",
      "2018.0  -  4014\n",
      "2019.0  -  3194\n",
      "2020.0  -  258\n"
     ]
    }
   ],
   "source": [
    "#Define la función cantidad_autos, que imprima la cantidad de autos de cada año.\n",
    "\n",
    "def cantidad_autos(data):\n",
    "    autos = data[:,0]\n",
    "    autos = np.unique(autos)\n",
    "    for i in autos:\n",
    "        print(i,\" - \", np.sum(data[:,0] == i))\n",
    "\n",
    "def main ():\n",
    "    data = leer_datos()\n",
    "    cantidad_autos(data)\n",
    "\n",
    "main()\n"
   ]
  },
  {
   "cell_type": "code",
   "execution_count": 23,
   "metadata": {},
   "outputs": [
    {
     "name": "stdout",
     "output_type": "stream",
     "text": [
      "1.0 ,  Diesel  -  30663.064560916348\n",
      "2.0 ,  Electrico  -  16963.5\n",
      "3.0 ,  Hibrido  -  22602.0\n",
      "4.0 ,  Otro  -  19470.0\n",
      "5.0 ,  Gasolina  -  19902.801067761808\n"
     ]
    }
   ],
   "source": [
    "#define la función promedio_mpg, que regresa el promedio de millaje por galón (mpg) de cada tipo de combustible.\n",
    "\n",
    "def promedio_mpg(data):\n",
    "    fuelType = {1: \"Diesel\", 2: \"Electrico\", 3: \"Hibrido\", 4: \"Otro\", 5: \"Gasolina\"}\n",
    "    combustible = data[:,4]\n",
    "    combustible = np.unique(combustible)\n",
    "    for i in combustible:\n",
    "        print(i,\", \",fuelType[i],\" - \", np.mean(data[data[:,4] == i][:,3]))\n",
    "\n",
    "def main ():\n",
    "    data = leer_datos()\n",
    "    promedio_mpg(data)\n",
    "\n",
    "main()"
   ]
  },
  {
   "cell_type": "markdown",
   "metadata": {},
   "source": [
    "- La segunda fase es una comparativa. Para ello debes crear tres matrices de datos, una para los datos del año 2011, 2016 y 2018. Cada matriz debe contener la siguiente estructura:\n",
    "    - Las filas o renglones representan el tipo de transmisión.\n",
    "    - Las columnas representan: mpg promedio, el tamaño de motor más grande y la suma de los impuestos .\n",
    "  Define la función calculos, que realice los cálculos anteriores.      \n",
    "- Define la función calculos, que realice los cálculos anteriores.      \n",
    "- Define la función imprime_matriz, que imprima la matriz con el siguiente formato:"
   ]
  },
  {
   "cell_type": "code",
   "execution_count": 50,
   "metadata": {},
   "outputs": [
    {
     "name": "stdout",
     "output_type": "stream",
     "text": [
      "Año 2011\n",
      "\tMPG promedio\tMotor más grande\t Suma de impuestos\n",
      "Automático     \t45.158333     \t2.000000     \t2370.000000 \n",
      "Manual     \t50.685366     \t2.500000     \t11075.000000 \n",
      "Semi-auto     \t0.000000     \t0.000000     \t0.000000 \n",
      "\n",
      " Año 2016\n",
      "\tMPG promedio\tMotor más grande\t Suma de impuestos\n",
      "Automático     \t52.337500     \t5.000000     \t27070.000000 \n",
      "Manual     \t62.434859     \t5.000000     \t106585.000000 \n",
      "Semi-auto     \t53.080247     \t5.000000     \t18530.000000 \n",
      "\n",
      " Año 2018\n",
      "\tMPG promedio\tMotor más grande\t Suma de impuestos\n",
      "Automático     \t49.501402     \t5.000000     \t31155.000000 \n",
      "Manual     \t59.580409     \t5.000000     \t527580.000000 \n",
      "Semi-auto     \t52.221547     \t5.000000     \t26440.000000 \n"
     ]
    }
   ],
   "source": [
    "\n",
    "\n",
    "def calculos(data, año, ):\n",
    "    lista_transmission = [1,2,3]\n",
    "    matrizFin=[]\n",
    "\n",
    "    for i in lista_transmission:\n",
    "        lista = []\n",
    "        condicion = (data[:,2] == i) & (data[:,0] == año)\n",
    "        matriz = data[condicion]\n",
    "        arreglo = matriz[:,6]\n",
    "\n",
    "        #promedio MGP\n",
    "        if len(arreglo) > 0:\n",
    "            promedio = np.mean(arreglo)\n",
    "        else:\n",
    "            promedio = 0\n",
    "\n",
    "        lista.append(promedio)\n",
    "\n",
    "        #motor más grande\n",
    "        arreglo = matriz[:,7]\n",
    "        if len(arreglo) > 0:\n",
    "            motor = np.max(arreglo)\n",
    "        else:\n",
    "            motor = 0\n",
    "\n",
    "        lista.append(motor)\n",
    "\n",
    "        #suma de impuestos\n",
    "        arreglo = matriz[:,5]\n",
    "        if len(arreglo) > 0:\n",
    "            impuestos = np.sum(arreglo)\n",
    "        else:\n",
    "            impuestos = 0\n",
    "\n",
    "        lista.append(impuestos)\n",
    "        matrizFin.append(lista)\n",
    "\n",
    "\n",
    "    return matrizFin\n",
    "\n",
    "\n",
    "def imprime_matriz(m):\n",
    "    lista_año = [\"Automático\", \"Manual\", \"Semi-auto\"]\n",
    "    cont  = 0\n",
    "    print(\"\\tMPG promedio\\tMotor más grande\\t Suma de impuestos\")\n",
    "    #print(\"m shape\",m.shape[0])\n",
    "    for i in range(m.shape[0]):\n",
    "        print(lista_año[cont], end=\" \")\n",
    "        cont += 1\n",
    "        for j in range(m.shape[1]):\n",
    "            print(\"    \\t%2f\"% m[i,j], end=\" \")\n",
    "        print()\n",
    "\n",
    "\n",
    "\n",
    "def main():\n",
    "    print(\"Año 2011\")\n",
    "    data = leer_datos()\n",
    "    año = 2011\n",
    "    m = calculos(data, año)\n",
    "    m = np.array(m)\n",
    "    imprime_matriz(m)\n",
    "\n",
    "    print(\"\\n Año 2016\")\n",
    "    año = 2016\n",
    "    m = calculos(data, año)\n",
    "    m = np.array(m)\n",
    "    imprime_matriz(m)\n",
    "\n",
    "    print(\"\\n Año 2018\")\n",
    "    año = 2018\n",
    "    m = calculos(data, año)\n",
    "    m = np.array(m)\n",
    "    imprime_matriz(m)\n",
    "\n",
    "\n",
    "\n",
    "\n",
    "main()\n",
    "\n"
   ]
  }
 ],
 "metadata": {
  "kernelspec": {
   "display_name": "Python 3",
   "language": "python",
   "name": "python3"
  },
  "language_info": {
   "codemirror_mode": {
    "name": "ipython",
    "version": 3
   },
   "file_extension": ".py",
   "mimetype": "text/x-python",
   "name": "python",
   "nbconvert_exporter": "python",
   "pygments_lexer": "ipython3",
   "version": "3.11.6"
  }
 },
 "nbformat": 4,
 "nbformat_minor": 2
}
