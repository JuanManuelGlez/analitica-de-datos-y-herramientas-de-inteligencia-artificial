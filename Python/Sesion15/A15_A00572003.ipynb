{
 "cells": [
  {
   "cell_type": "markdown",
   "metadata": {},
   "source": [
    "# Actividad 15 - Encapsulamiento\n",
    "## Juan Manuel González Ascencio - A00572003."
   ]
  },
  {
   "cell_type": "code",
   "execution_count": 8,
   "metadata": {},
   "outputs": [
    {
     "name": "stdout",
     "output_type": "stream",
     "text": [
      "la edad del perro es:  3\n",
      "Al perro le gusta comer:  []\n",
      "Firulais es adulto\n",
      "Nombre: Firulais, Edad: 3, Alimentos: [], Especie: Mamífero\n",
      "False\n",
      "Nombre: Phoebe, Edad: 4, Alimentos: ['Carne', 'Pescado', 'Huevos', 'Huesos'], Especie: Mamífero\n"
     ]
    }
   ],
   "source": [
    "#Define la clase Perro.\n",
    "\n",
    "class Perro:\n",
    "    #Define el atributo de clase especie como privado con el valor de \"Mamífero\".\n",
    "    __especie = \"Mamífero\"\n",
    "    #Define en el constructor los atributos de instancia nombre, edad y alimentos como privados. El nombre y la edad se reciben como parámetros de entrada y se asignan a los atributos privados nombre y edad. El atributo privado alimentos se define con una lista vacía.\n",
    "    def __init__(self, nombre, edad):\n",
    "        self.__nombre = nombre\n",
    "        self.__edad = edad\n",
    "        self.__alimentos = []\n",
    "        #Define el método esAlimentoFavorito que recibe como parámetro de entrada el alimento y regresa True si el alimento está dentro de la lista de alimentos favoritos y False en caso contrario. En el método define el atributo alimentos como privado.\n",
    "    def esAlimentoFavorito(self, alimento):\n",
    "        return alimento in self.__alimentos\n",
    "    #Define el método verEtapaDeVida donde si la edad es mayor a 2, imprime el nombre del perro y es adulto y en caso contrario imprime el nombre de perro y es cachorro. Establece los atributos de instancia como privados.\n",
    "    def verEtapaDeVida(self):\n",
    "        if self.__edad > 2:\n",
    "            print(self.__nombre, \"es adulto\")\n",
    "        else:\n",
    "            print(self.__nombre, \"es cachorro\")\n",
    "        \n",
    "    #Define los métodos getters y setters para manejar los atributos de instancia.\n",
    "    def getNombre(self):\n",
    "        return self.__nombre\n",
    "    def setNombre(self, nombre):\n",
    "        self.__nombre = nombre\n",
    "    def getEdad(self):\n",
    "        return self.__edad\n",
    "    def setEdad(self, edad):\n",
    "        self.__edad = edad\n",
    "    def getAlimentos(self):\n",
    "        return self.__alimentos\n",
    "    def setAlimentos(self, alimentos):\n",
    "        self.__alimentos = alimentos\n",
    "    \n",
    "    #Define el método mostrar para que regrese en un string la concatenación de los atributos de instancia (nombre, edad y alimentos) y el atributo de clase (especie).\n",
    "    def mostrar(self):\n",
    "        return \"Nombre: \" + self.__nombre + \", Edad: \" + str(self.__edad) + \", Alimentos: \" + str(self.__alimentos) + \", Especie: \" + self.__especie\n",
    "    #main\n",
    "def main():\n",
    "    #Crea un objeto de la clase Perro como perro1 con el nombre y edad de tu preferencia. \n",
    "    perro1 = Perro(\"Firulais\", 3)\n",
    "    print(\"la edad del perro es: \", perro1.getEdad())\n",
    "    print(\"Al perro le gusta comer: \", perro1.getAlimentos())\n",
    "    #Llama al método verEtapaDeVida.\n",
    "    perro1.verEtapaDeVida()\n",
    "    #Llama al método mostrar e imprime el resultado\n",
    "    print(perro1.mostrar())\n",
    "\n",
    "    NuevoNombre = input(\"Ingrese el nuevo nombre del perro: \")\n",
    "    NuevaEdad = int(input(\"Ingrese la nueva edad del perro: \"))\n",
    "    listaAlimentos = [\"Carne\", \"Pescado\", \"Huevos\", \"Huesos\"]\n",
    "\n",
    "    perro1.setNombre(NuevoNombre)\n",
    "    perro1.setEdad(NuevaEdad)\n",
    "    perro1.setAlimentos(listaAlimentos)\n",
    "\n",
    "    Alimento = input(\"Ingrese el alimento que le gusta al perro: \")\n",
    "    print(perro1.esAlimentoFavorito(Alimento))\n",
    "\n",
    "    print(perro1.mostrar())\n",
    "\n",
    "main()\n"
   ]
  }
 ],
 "metadata": {
  "kernelspec": {
   "display_name": "Python 3",
   "language": "python",
   "name": "python3"
  },
  "language_info": {
   "codemirror_mode": {
    "name": "ipython",
    "version": 3
   },
   "file_extension": ".py",
   "mimetype": "text/x-python",
   "name": "python",
   "nbconvert_exporter": "python",
   "pygments_lexer": "ipython3",
   "version": "3.11.6"
  }
 },
 "nbformat": 4,
 "nbformat_minor": 2
}
