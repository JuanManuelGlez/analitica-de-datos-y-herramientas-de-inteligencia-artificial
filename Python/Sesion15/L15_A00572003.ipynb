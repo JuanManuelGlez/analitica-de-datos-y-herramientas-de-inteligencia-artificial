{
 "cells": [
  {
   "cell_type": "markdown",
   "metadata": {},
   "source": [
    "# Laboratorio 15 - Encapsulación\n",
    "## Juan Manuel González Ascencio - A00572003.\n"
   ]
  },
  {
   "cell_type": "code",
   "execution_count": 13,
   "metadata": {},
   "outputs": [
    {
     "name": "stdout",
     "output_type": "stream",
     "text": [
      "Rojo\n",
      "0\n",
      "20\n",
      "El color del coche es:  Plata\n",
      "La velocidad del coche es:  10\n",
      "La aceleración del coche es:  30\n",
      "Color: Plata, Aceleración: 30, Velocidad: 10, Ruedas: 4\n",
      "Color: Plata, Aceleración: 30, Velocidad: 40, Ruedas: 4\n",
      "Color: Plata, Aceleración: 30, Velocidad: 10, Ruedas: 4\n"
     ]
    }
   ],
   "source": [
    "class Coche:\n",
    "  __ruedas = 4\n",
    "  def __init__(self, color, aceleracion, velocidad):\n",
    "    self.__color = color\n",
    "    self.__aceleracion = aceleracion\n",
    "    self.__velocidad = 0\n",
    "\n",
    "  def acelera(self):\n",
    "\n",
    "    self.__velocidad = self.__velocidad + self.__aceleracion\n",
    "\n",
    "  def frena(self):\n",
    "    v = self.__velocidad - self.__aceleracion\n",
    "    if v < 0:\n",
    "      V = 0\n",
    "    self.__velocidad = v\n",
    "\n",
    "  def getcolor(self):\n",
    "    return self.__color\n",
    "\n",
    "  def getaceleracion(self):\n",
    "    return self.__aceleracion\n",
    "\n",
    "  def getvelocidad(self):\n",
    "    return self.__velocidad\n",
    "\n",
    "  def setcolor(self, color):\n",
    "    self.__color = color\n",
    "\n",
    "  def setaceleracion(self, aceleracion):\n",
    "    self.__aceleracion = aceleracion\n",
    "\n",
    "  def setvelocidad(self, velocidad):\n",
    "    self.__velocidad = velocidad\n",
    "\n",
    "  def mostrar(self):\n",
    "    return \"Color: \" + self.getcolor() + \", Aceleración: \" + str(self.getaceleracion()) + \\\n",
    "            \", Velocidad: \" + str(self.getvelocidad()) + \", Ruedas: \" + str(Coche.__ruedas)\n",
    "\n",
    "def main():\n",
    "  c1 = Coche(\"Rojo\", 20,0)\n",
    "\n",
    "  print(c1.getcolor())\n",
    "  print(c1.getvelocidad())\n",
    "  print(c1.getaceleracion())\n",
    "\n",
    "  c1.setcolor(\"Plata\")\n",
    "  c1.setvelocidad(10)\n",
    "  c1.setaceleracion(30)\n",
    "\n",
    "  print(\"El color del coche es: \", c1.getcolor())\n",
    "  print(\"La velocidad del coche es: \", c1.getvelocidad())\n",
    "  print(\"La aceleración del coche es: \", c1.getaceleracion())\n",
    "\n",
    "  print(c1.mostrar())\n",
    "  c1.acelera()\n",
    "\n",
    "  print(c1.mostrar())\n",
    "  c1.frena()\n",
    "\n",
    "  print(c1.mostrar())\n",
    "\n",
    "main()"
   ]
  }
 ],
 "metadata": {
  "kernelspec": {
   "display_name": "Python 3",
   "language": "python",
   "name": "python3"
  },
  "language_info": {
   "codemirror_mode": {
    "name": "ipython",
    "version": 3
   },
   "file_extension": ".py",
   "mimetype": "text/x-python",
   "name": "python",
   "nbconvert_exporter": "python",
   "pygments_lexer": "ipython3",
   "version": "3.11.6"
  }
 },
 "nbformat": 4,
 "nbformat_minor": 2
}
