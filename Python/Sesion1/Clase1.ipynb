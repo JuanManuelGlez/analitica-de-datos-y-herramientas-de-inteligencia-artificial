{
 "cells": [
  {
   "cell_type": "markdown",
   "metadata": {},
   "source": [
    "# Clase 1\n",
    "## Tipos de datos\n",
    "\n",
    "Juan Manuel González Ascencio \n",
    "A00572003\n",
    "\n",
    "# Ejercicios\n",
    "\n",
    "Area de un circulo"
   ]
  },
  {
   "cell_type": "code",
   "execution_count": 5,
   "metadata": {},
   "outputs": [
    {
     "name": "stdout",
     "output_type": "stream",
     "text": [
      "El area de la circunferencia es: 314.16\n"
     ]
    }
   ],
   "source": [
    "import math \n",
    "\n",
    "radio =float(input(\"Introduce el radio de la circunferencia: \"))\n",
    "area = math.pi * radio**2\n",
    "print(\"El area de la circunferencia es: %.2f\"% area)"
   ]
  },
  {
   "cell_type": "markdown",
   "metadata": {},
   "source": [
    "Conver"
   ]
  }
 ],
 "metadata": {
  "kernelspec": {
   "display_name": "Python 3",
   "language": "python",
   "name": "python3"
  },
  "language_info": {
   "codemirror_mode": {
    "name": "ipython",
    "version": 3
   },
   "file_extension": ".py",
   "mimetype": "text/x-python",
   "name": "python",
   "nbconvert_exporter": "python",
   "pygments_lexer": "ipython3",
   "version": "3.11.6"
  }
 },
 "nbformat": 4,
 "nbformat_minor": 2
}
