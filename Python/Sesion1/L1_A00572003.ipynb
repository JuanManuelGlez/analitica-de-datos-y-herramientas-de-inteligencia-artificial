{
 "cells": [
  {
   "cell_type": "markdown",
   "metadata": {},
   "source": [
    "# Laboratorio 1\n",
    "### Juan Manuel González Ascencio\n",
    "### A00572003\n",
    "\n",
    "Calcule el volúmen (v) de un cilíndro recto de sección oblicua. Los valores dados por el usuario son el radio (r) y las alturas (h1 y h2) del cilíndro. El resultado obtenido (volumen) debe ser desplegado en la pantalla. Utiliza la constante math.pi de la librería math."
   ]
  },
  {
   "cell_type": "code",
   "execution_count": 3,
   "metadata": {},
   "outputs": [],
   "source": [
    "import math"
   ]
  },
  {
   "cell_type": "code",
   "execution_count": 5,
   "metadata": {},
   "outputs": [
    {
     "name": "stdout",
     "output_type": "stream",
     "text": [
      "El volumen del cilindro recto es: 196.35\n"
     ]
    }
   ],
   "source": [
    "radio =float(input(\"Introduce el radio: \"))\n",
    "altura1 = float(input(\"Introduce la altura1: \"))\n",
    "altura2 = float(input(\"Introduce la altura2: \"))\n",
    "\n",
    "volumen = (math.pi * radio**2) * ((altura1 + altura2) / 2)\n",
    "\n",
    "print (\"El volumen del cilindro recto es: %.2f\" % volumen)\n"
   ]
  }
 ],
 "metadata": {
  "kernelspec": {
   "display_name": "Python 3",
   "language": "python",
   "name": "python3"
  },
  "language_info": {
   "codemirror_mode": {
    "name": "ipython",
    "version": 3
   },
   "file_extension": ".py",
   "mimetype": "text/x-python",
   "name": "python",
   "nbconvert_exporter": "python",
   "pygments_lexer": "ipython3",
   "version": "3.11.6"
  }
 },
 "nbformat": 4,
 "nbformat_minor": 2
}
