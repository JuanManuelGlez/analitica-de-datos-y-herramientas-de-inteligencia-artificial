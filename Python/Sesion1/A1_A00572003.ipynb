{
 "cells": [
  {
   "cell_type": "markdown",
   "metadata": {},
   "source": [
    "# Actividad 1\n",
    "### Juan Manuel González Ascencio \n",
    "### A00572003."
   ]
  },
  {
   "cell_type": "markdown",
   "metadata": {},
   "source": [
    "Solicite al usuario el valor asignado de los lados A y C de un triángulo rectángulo y calcule el valor resultante del lado B. Para la solución de este problema se sugiere que utilices el teorema de Pitágoras. El cálculo de la raíz cuadrada se puede realizar utilizando la función math.sqrt() perteneciente a la libreria math (import math).\n",
    "Por ejemplo:\n",
    "\n",
    "x = math.sqrt(y)      La raiz de y se guarda en la variable x\n",
    "x = math.sqrt(y+z)  La raiz de y + z se guarda en la variable x.\n",
    "\n",
    "                 \n",
    "\n",
    "Casos de prueba:\n",
    "\n",
    "Input: Lado A\n",
    "Input: Lado C\n",
    "Output: Lado B \n",
    "\n",
    "Input: 2\n",
    "Input: 4\n",
    "Output: 3.46\n",
    "\n",
    "Input: 3.5\n",
    "Input: 6.2\n",
    "Output: 5.12\n",
    "\n",
    "Input: 7.28\n",
    "Input: 10.41\n",
    "Output: 7.44"
   ]
  },
  {
   "cell_type": "code",
   "execution_count": 1,
   "metadata": {},
   "outputs": [],
   "source": [
    "import math"
   ]
  },
  {
   "cell_type": "code",
   "execution_count": 13,
   "metadata": {},
   "outputs": [
    {
     "name": "stdout",
     "output_type": "stream",
     "text": [
      "El valor del cateto ladoB es: 7.44\n"
     ]
    }
   ],
   "source": [
    "ladoA = float(input(\"Digite el valor dado de el lado A: \"))\n",
    "ladoC= float(input(\"Digite el valor dado de el lado B: \"))\n",
    "\n",
    "cateto = math.sqrt(ladoC**2 - ladoA**2)\n",
    "\n",
    "print(\"El valor del cateto ladoB es: %.2f\" % cateto)"
   ]
  },
  {
   "cell_type": "markdown",
   "metadata": {},
   "source": [
    "Determinar el volumen de un medio cilindro. El radio (r) y la altura (h) son solicitadas al usuario. Utiliza la constante math.pi de la librería math\n"
   ]
  },
  {
   "cell_type": "code",
   "execution_count": 18,
   "metadata": {},
   "outputs": [
    {
     "name": "stdout",
     "output_type": "stream",
     "text": [
      "El volumen del cilindro es: 937.938\n"
     ]
    }
   ],
   "source": [
    "radio = float(input(\"Digite el valor del radio: \"))\n",
    "altura = float(input(\"Digite el valor de la altura: \"))\n",
    "\n",
    "volumen = (math.pi * radio**2 * altura) / 2\n",
    "\n",
    "print(\"El volumen del cilindro es: %.3f\" % volumen)\n"
   ]
  }
 ],
 "metadata": {
  "kernelspec": {
   "display_name": "Python 3",
   "language": "python",
   "name": "python3"
  },
  "language_info": {
   "codemirror_mode": {
    "name": "ipython",
    "version": 3
   },
   "file_extension": ".py",
   "mimetype": "text/x-python",
   "name": "python",
   "nbconvert_exporter": "python",
   "pygments_lexer": "ipython3",
   "version": "3.11.6"
  }
 },
 "nbformat": 4,
 "nbformat_minor": 2
}
