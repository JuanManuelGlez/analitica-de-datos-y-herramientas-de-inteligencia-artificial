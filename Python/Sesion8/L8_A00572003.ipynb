{
 "cells": [
  {
   "cell_type": "markdown",
   "metadata": {},
   "source": [
    "# Laboratorio 8 - Strings\n",
    "## Juan Manuel González Ascencio"
   ]
  },
  {
   "cell_type": "markdown",
   "metadata": {},
   "source": [
    "La función inserta_html (cadena) que recibe una cadena de texto e inserta al principio de la cadena \"<html><body>\" y al final \"</body></html>\". La función regresaría la cadena modificada."
   ]
  },
  {
   "cell_type": "code",
   "execution_count": 23,
   "metadata": {},
   "outputs": [
    {
     "name": "stdout",
     "output_type": "stream",
     "text": [
      "<html><body>hola</body></html>\n"
     ]
    }
   ],
   "source": [
    "def Inserta_html(cadena):\n",
    "    cadena = \"<html><body>\" + cadena + \"</body></html>\"\n",
    "    return cadena\n",
    "\n",
    "def main():\n",
    "    cadena = input(\"Introduce una cadena: \")\n",
    "    print(Inserta_html(cadena))\n",
    "\n",
    "main()\n"
   ]
  },
  {
   "cell_type": "markdown",
   "metadata": {},
   "source": [
    "La función inserta_saltos (cadena) que recibe una cadena de texto y reemplaza los saltos de línea \"\\n\" en la cadena \"Hola \\n mundo\" por \"<br>\". La función regresaría la cadena modificada.\n",
    "Ejemplo:"
   ]
  },
  {
   "cell_type": "code",
   "execution_count": 27,
   "metadata": {},
   "outputs": [
    {
     "name": "stdout",
     "output_type": "stream",
     "text": [
      "Hola a todos <br> mi nombre es Goku!\n"
     ]
    }
   ],
   "source": [
    "def Inserta_saltos(cadena):\n",
    "    cadena = cadena.replace(\"\\\\n\", \"<br>\")\n",
    "    return cadena\n",
    "\n",
    "def main():\n",
    "    cadena = input(\"Introduce una cadena: \")\n",
    "    print(Inserta_saltos(cadena))\n",
    "\n",
    "main()"
   ]
  },
  {
   "cell_type": "markdown",
   "metadata": {},
   "source": [
    "La función formato_web (cadena) que recibe una cadena de texto y la convierte en texto de una pagina web. Para lo cual necesitas llamar a las dos funciones anteriores (inserta_html e inserta_saltos). La función regresaría la cadena modificada"
   ]
  },
  {
   "cell_type": "code",
   "execution_count": 28,
   "metadata": {},
   "outputs": [
    {
     "name": "stdout",
     "output_type": "stream",
     "text": [
      "<html><body>Hola a todos <br> mi nombre es Goku!</body></html>\n"
     ]
    }
   ],
   "source": [
    "def Formato_web(cadena):\n",
    "    cadena = Inserta_html(cadena)\n",
    "    cadena = Inserta_saltos(cadena)\n",
    "    return cadena\n",
    "\n",
    "def main():\n",
    "    cadena = input(\"Introduce una cadena: \")\n",
    "    print(Formato_web(cadena))\n",
    "\n",
    "main()"
   ]
  },
  {
   "cell_type": "markdown",
   "metadata": {},
   "source": [
    "La función limpia_cadena (caracteres_seguros, cadena) que recibe dos cadenas: una cadena de caracteres_seguros y otra que es la cadena a limpiar. La función regresa una nueva cadena que descarta todos los caracteres que no están en la lista de caracteres_seguros. Usa esta lista de caracteres_seguros, para no tener que pedirla cada vez que corras tu código. Solo pégala en la parte inicial de tu función main y recíbela como parámetro de tu función."
   ]
  },
  {
   "cell_type": "code",
   "execution_count": 6,
   "metadata": {},
   "outputs": [
    {
     "name": "stdout",
     "output_type": "stream",
     "text": [
      "HolaMundo2021\n"
     ]
    }
   ],
   "source": [
    "def Limpia_cadena(caracteres_seguros, cadena):\n",
    "    for caracter in cadena:\n",
    "        if caracter not in caracteres_seguros:\n",
    "            cadena = cadena.replace(caracter, \"\")\n",
    "    return cadena\n",
    "\n",
    "def main():\n",
    "    cadena = input(\"Introduce una cadena: \")\n",
    "    caracteres_seguros = input(\"Introduce una cadena de caracteres seguros: \")\n",
    "    print(Limpia_cadena(caracteres_seguros, cadena))\n",
    "\n",
    "main()\n"
   ]
  },
  {
   "cell_type": "markdown",
   "metadata": {},
   "source": [
    "La función cromosomasx (cadena) que recibe una cadena de texto y regresa el número total de caracteres 'X' que hay en la cadena."
   ]
  },
  {
   "cell_type": "code",
   "execution_count": 9,
   "metadata": {},
   "outputs": [
    {
     "name": "stdout",
     "output_type": "stream",
     "text": [
      "5\n",
      "3\n"
     ]
    }
   ],
   "source": [
    "def Cromosomasx(cadena):\n",
    "    contador = 0\n",
    "    for caracter in cadena:\n",
    "        if caracter == \"x\" or caracter == \"X\":\n",
    "            contador += 1\n",
    "    return contador\n",
    "\n",
    "def main():\n",
    "    cadena = input(\"Introduce una cadena: \")\n",
    "    print(Cromosomasx(cadena))\n",
    "\n",
    "\n",
    "main()"
   ]
  },
  {
   "cell_type": "markdown",
   "metadata": {},
   "source": [
    "La función cromosomasy (cadena) que recibe una cadena de texto y regresa el número total de caracteres 'Y' que hay en la cadena."
   ]
  },
  {
   "cell_type": "code",
   "execution_count": 10,
   "metadata": {},
   "outputs": [
    {
     "name": "stdout",
     "output_type": "stream",
     "text": [
      "3\n",
      "2\n"
     ]
    }
   ],
   "source": [
    "def Cromosomasy(cadena):\n",
    "    contador = 0\n",
    "    for caracter in cadena:\n",
    "        if caracter == \"y\" or caracter == \"Y\":\n",
    "            contador += 1\n",
    "    return contador\n",
    "\n",
    "def main():\n",
    "    cadena = input(\"Introduce una cadena: \")\n",
    "    print(Cromosomasy(cadena))\n",
    "\n",
    "main()"
   ]
  },
  {
   "cell_type": "markdown",
   "metadata": {},
   "source": [
    "La función determina_sexo (cadena) que recibe una cadena de texto y utilizando las funciones cromosomasx y cromosomasy despliega en pantalla el sexo de un ser humano. NOTA: Para poder evaluar una secuencia de cromosomas, se utiliza una cadena de texto cuyo contenido son X's (que representan los cromosomas X) y Y's (que representan los cromosomas Y). El sexo femenino está definido por un número mayor de cromosomas X que cromosomas Y, en el sexo masculino el número de cromosomas Y es mayor que el de los cromosomas X. Desafortunadamente no se puede concluir nada al respecto en caso de que los cromosomas X y Y estén balanceados, pues el sexo aún no está definido."
   ]
  }
 ],
 "metadata": {
  "kernelspec": {
   "display_name": "Python 3",
   "language": "python",
   "name": "python3"
  },
  "language_info": {
   "codemirror_mode": {
    "name": "ipython",
    "version": 3
   },
   "file_extension": ".py",
   "mimetype": "text/x-python",
   "name": "python",
   "nbconvert_exporter": "python",
   "pygments_lexer": "ipython3",
   "version": "3.11.6"
  }
 },
 "nbformat": 4,
 "nbformat_minor": 2
}
