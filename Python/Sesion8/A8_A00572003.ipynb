{
 "cells": [
  {
   "cell_type": "markdown",
   "metadata": {},
   "source": [
    "# Actividad 8 - Strings\n",
    "## Juan Manuel González Ascencio - A00572003."
   ]
  },
  {
   "cell_type": "markdown",
   "metadata": {},
   "source": [
    "La función imprime_pos_espacios (cadena) que recibe una cadena de texto. La función despliega las posiciones donde se encuentra un espacio en blanco. Emplea el modificador end=\" \" en el print para evitar que cada print salte de línea."
   ]
  },
  {
   "cell_type": "code",
   "execution_count": 1,
   "metadata": {},
   "outputs": [
    {
     "name": "stdout",
     "output_type": "stream",
     "text": [
      "4\n",
      "10\n"
     ]
    }
   ],
   "source": [
    "def Imprime_pos_espacios(cadena):\n",
    "    for i in range(len(cadena)):\n",
    "        if cadena[i] == \" \":\n",
    "            print(i)\n",
    "\n",
    "def main():\n",
    "    cadena = input(\"Introduce una cadena: \")\n",
    "    Imprime_pos_espacios(cadena)\n",
    "\n",
    "main()"
   ]
  },
  {
   "cell_type": "markdown",
   "metadata": {},
   "source": [
    "La función cuenta_vocales (cadena) que recibe una cadena y devuelve el número de vocales que hay en la cadena."
   ]
  },
  {
   "cell_type": "code",
   "execution_count": 2,
   "metadata": {},
   "outputs": [
    {
     "name": "stdout",
     "output_type": "stream",
     "text": [
      "La cadena tiene 5 vocales\n"
     ]
    }
   ],
   "source": [
    "def Cuenta_vocales(cadena):\n",
    "    vocales = \"aeiou\"\n",
    "    contador = 0\n",
    "    for letra in cadena:\n",
    "        if letra in vocales:\n",
    "            contador += 1\n",
    "    return contador\n",
    "\n",
    "def main():\n",
    "    cadena = input(\"Introduce una cadena: \")\n",
    "    print(\"La cadena tiene\", Cuenta_vocales(cadena), \"vocales\")\n",
    "\n",
    "main()"
   ]
  },
  {
   "cell_type": "markdown",
   "metadata": {},
   "source": [
    "La función deletrea_cadena (cadena) que recibe una cadena e imprime cada letra en la cadena separada por un guion medio. Emplea el modificador end=\"\" en el print para evitar que cada print salte de línea."
   ]
  },
  {
   "cell_type": "code",
   "execution_count": 12,
   "metadata": {},
   "outputs": [
    {
     "name": "stdout",
     "output_type": "stream",
     "text": [
      "N-a-o-f-u-m-i-"
     ]
    }
   ],
   "source": [
    "def Deletrea_cadena(cadena):\n",
    "    for letra in cadena:\n",
    "        print(letra, end=\"-\")\n",
    "\n",
    "def main():\n",
    "    cadena = input(\"Introduce una cadena: \")\n",
    "    Deletrea_cadena(cadena)\n",
    "\n",
    "main()"
   ]
  }
 ],
 "metadata": {
  "kernelspec": {
   "display_name": "Python 3",
   "language": "python",
   "name": "python3"
  },
  "language_info": {
   "codemirror_mode": {
    "name": "ipython",
    "version": 3
   },
   "file_extension": ".py",
   "mimetype": "text/x-python",
   "name": "python",
   "nbconvert_exporter": "python",
   "pygments_lexer": "ipython3",
   "version": "3.11.6"
  }
 },
 "nbformat": 4,
 "nbformat_minor": 2
}
