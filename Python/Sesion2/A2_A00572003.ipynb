{
 "cells": [
  {
   "cell_type": "markdown",
   "metadata": {},
   "source": [
    "# Actividad 2: Condicionales\n",
    "\n",
    "## Juan Manuel González - A00572003\n"
   ]
  },
  {
   "cell_type": "markdown",
   "metadata": {},
   "source": [
    "## Ejercicio 1\n",
    "Utilice el estatuto de contro if anidado y despliegue el mensaje apropiado respecto al estatus del cliente con base al monto de inversión. El usuario introduce el monto de la inversión y el programa responde con un mensaje según la siguiente tabla:  \n",
    "\n",
    "\n"
   ]
  },
  {
   "cell_type": "code",
   "execution_count": 8,
   "metadata": {},
   "outputs": [
    {
     "name": "stdout",
     "output_type": "stream",
     "text": [
      "Y tu dinero?\n"
     ]
    }
   ],
   "source": [
    "Inversion = int(input(\"ingrese el numero de inversión: \"))\n",
    "\n",
    "if Inversion > 1000000:\n",
    "    cliente = \"Excelente Cliente\"\n",
    "elif Inversion > 100000 and Inversion <= 1000000:\n",
    "    cliente = \"Buen cliente\"\n",
    "elif Inversion > 2000 and Inversion <= 100000:\n",
    "    cliente =\"Cliente promedio\"\n",
    "elif Inversion >= 0 and Inversion <= 2000:\n",
    "    cliente = \"Cliente saldo insuficiente\"\n",
    "else:\n",
    "    cliente = \"Y tu dinero?\"\n",
    "\n",
    "print (cliente)\n"
   ]
  },
  {
   "cell_type": "markdown",
   "metadata": {},
   "source": [
    "# Ejercicio 2 \n",
    "\n",
    "Desarrolla el un programa completo en python que reciba un mes y un día y despliegue el signo del horóscopo correspondiente"
   ]
  },
  {
   "cell_type": "code",
   "execution_count": 2,
   "metadata": {},
   "outputs": [
    {
     "name": "stdout",
     "output_type": "stream",
     "text": [
      "Sagitario\n"
     ]
    }
   ],
   "source": [
    "#Desarrolla el un programa completo en python que reciba un mes y un día y despliegue el signo del horóscopo correspondiente\n",
    "\n",
    "dia = int(input(\"ingrese el día de nacimiento: \"))\n",
    "mes = int(input(\"ingrese el mes de nacimiento: \"))\n",
    "\n",
    "if mes == 1:\n",
    "    if dia >= 21:\n",
    "        signo = \"Acuario\"\n",
    "    elif dia >0 and dia <21:\n",
    "        signo = \"Capricornio\"\n",
    "    else:\n",
    "        signo = \"Ingresa una fecha valida\"\n",
    "elif mes == 2:\n",
    "    if dia >= 19:\n",
    "        signo = \"picis\"\n",
    "    elif dia >0 and dia <19:\n",
    "        signo = \"acuario\"\n",
    "    else:\n",
    "        signo = \"Ingresa una fecha valida\"\n",
    "elif mes == 3:\n",
    "    if dia >= 21:\n",
    "        signo = \"Aries\"\n",
    "    elif dia >0 and dia <21:\n",
    "        signo = \"Piscis\"\n",
    "    else:\n",
    "        signo = \"Ingresa una fecha valida\"\n",
    "elif mes == 4:\n",
    "    if dia >= 21:\n",
    "        signo = \"Tauro\"\n",
    "    elif dia >0 and dia <21:\n",
    "        signo = \"Aries\"\n",
    "    else:\n",
    "        signo = \"Ingresa una fecha valida\"\n",
    "elif mes == 5:\n",
    "    if dia >= 22:\n",
    "        signo = \"Géminis\"\n",
    "    elif dia >0 and dia <22:\n",
    "        signo = \"Tauro\"\n",
    "    else:\n",
    "        signo = \"Ingresa una fecha valida\"\n",
    "elif mes == 6:\n",
    "    if dia >= 22:\n",
    "        signo = \"Canncer\"\n",
    "    elif dia >0 and dia <22:\n",
    "        signo = \"Géminis\"\n",
    "    else:\n",
    "        signo = \"Ingresa una fecha valida\"\n",
    "elif mes == 7:\n",
    "    if dia >= 23:\n",
    "        signo = \"Leo\"\n",
    "    elif dia >0 and dia <23:\n",
    "        signo = \"Cancer\"\n",
    "    else:\n",
    "        signo = \"Ingresa una fecha valida\"\n",
    "elif mes == 8:\n",
    "    if dia >= 24:\n",
    "        signo = \"Virgo\"\n",
    "    elif dia >0 and dia <24:\n",
    "        signo = \"Leo\"\n",
    "    else:\n",
    "        signo = \"Ingresa una fecha valida\"\n",
    "elif mes == 9:\n",
    "    if dia >= 24:\n",
    "        signo = \"Libra\"\n",
    "    elif dia >0 and dia <24:\n",
    "        signo = \"Virgo\"\n",
    "    else:\n",
    "        signo = \"Ingresa una fecha valida\"\n",
    "elif mes == 10:\n",
    "    if dia >= 24:\n",
    "        signo = \"Escorpio\"\n",
    "    elif dia >0 and dia <24:\n",
    "        signo = \"Libra\"\n",
    "    else:\n",
    "        signo = \"Ingresa una fecha valida\"\n",
    "elif mes == 11:\n",
    "    if dia >= 23:\n",
    "        signo = \"Sagitario\"\n",
    "    elif dia >0 and dia <23:\n",
    "        signo = \"Escorpio\"\n",
    "    else:\n",
    "        signo = \"Ingresa una fecha valida\"\n",
    "elif mes == 12:\n",
    "    if dia >= 22:\n",
    "        signo = \"Capricornio\"\n",
    "    elif dia >0 and dia <22:\n",
    "        signo = \"Sagitario\"\n",
    "    else:\n",
    "        signo = \"Ingresa una fecha valida\"\n",
    "else:\n",
    "    signo = \"ingresa una fecha valida\"\n",
    "\n",
    "print (signo)\n",
    "\n"
   ]
  }
 ],
 "metadata": {
  "kernelspec": {
   "display_name": "Python 3",
   "language": "python",
   "name": "python3"
  },
  "language_info": {
   "codemirror_mode": {
    "name": "ipython",
    "version": 3
   },
   "file_extension": ".py",
   "mimetype": "text/x-python",
   "name": "python",
   "nbconvert_exporter": "python",
   "pygments_lexer": "ipython3",
   "version": "3.11.6"
  }
 },
 "nbformat": 4,
 "nbformat_minor": 2
}
