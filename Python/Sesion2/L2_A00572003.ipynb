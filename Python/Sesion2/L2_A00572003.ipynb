{
 "cells": [
  {
   "cell_type": "markdown",
   "metadata": {},
   "source": [
    "# Laboratorio 2: Condicionales\n",
    "\n",
    "## Juan Manuel González - A00572003\n",
    "\n",
    "Ordentar 3 numeros de forma decendente con ifs\n"
   ]
  },
  {
   "cell_type": "code",
   "execution_count": 1,
   "metadata": {},
   "outputs": [
    {
     "name": "stdout",
     "output_type": "stream",
     "text": [
      "El orden de los numeros es: 8, 4, 3\n"
     ]
    }
   ],
   "source": [
    "a = int(input(\"ingresa el primer numero: \"))\n",
    "b = int(input(\"ingresa el segundo numero: \"))\n",
    "c = int(input(\"ingresa el tercer numero: \"))\n",
    "\n",
    "if a > b and a > c:\n",
    "    if b > c:\n",
    "        print(f\"El orden de los numeros es: {a}, {b}, {c}\")\n",
    "    else:\n",
    "        print(f\"El orden de los numeros es: {a}, {c}, {b}\")\n",
    "elif b > a and b > c:\n",
    "    if a > c:\n",
    "        print(f\"El orden de los numeros es: {b}, {a}, {c}\")\n",
    "    else:\n",
    "        print(f\"El orden de los numeros es: {b}, {c}, {a}\")\n",
    "else:\n",
    "    if a > b:\n",
    "        print(f\"El orden de los numeros es: {c}, {a}, {b}\")\n",
    "    else:\n",
    "        print(f\"El orden de los numeros es: {c}, {b}, {a}\")\n",
    "\n",
    "        "
   ]
  },
  {
   "cell_type": "markdown",
   "metadata": {},
   "source": [
    "# Ecuación\n",
    "\n",
    "Despliegue el resultado de evaluar la siguiente función con un valor dado por el usuario."
   ]
  },
  {
   "cell_type": "code",
   "execution_count": 4,
   "metadata": {},
   "outputs": [
    {
     "name": "stdout",
     "output_type": "stream",
     "text": [
      "El resultado es:  24.5\n"
     ]
    }
   ],
   "source": [
    "x = float(input(\"ingresa el valor de x: \"))\n",
    "\n",
    "if x < -3:\n",
    "    resultado = 3*x**2+5*x+2\n",
    "elif x >= -3 and x < 0:\n",
    "    resultado = 4\n",
    "else:\n",
    "    resultado = 3*x-1\n",
    "\n",
    "print(\"El resultado es: \", resultado)\n",
    "\n"
   ]
  },
  {
   "cell_type": "markdown",
   "metadata": {},
   "source": [
    "# Temperatura \n",
    "\n",
    "Despliegue el mensaje apropiado para una temperatura dada por el usuario. Los mensajes a imprimir serán los siguientes"
   ]
  },
  {
   "cell_type": "code",
   "execution_count": 9,
   "metadata": {},
   "outputs": [
    {
     "name": "stdout",
     "output_type": "stream",
     "text": [
      "Congelado\n"
     ]
    }
   ],
   "source": [
    "temperatura = float(input(\"ingresa la temperatura: \"))\n",
    "\n",
    "if temperatura >= 100:\n",
    "    Mensaje = \"Vapor\"\n",
    "elif temperatura >= 30 and temperatura < 100:\n",
    "    Mensaje = \"Caliente\"\n",
    "elif temperatura >= 0 and temperatura < 30:\n",
    "    Mensaje = \"Frio\"\n",
    "elif temperatura > -273 and temperatura < 0:\n",
    "    Mensaje = \"Congelado\"\n",
    "else:\n",
    "    Mensaje = \"Inexistente\"\n",
    "\n",
    "print(Mensaje)"
   ]
  }
 ],
 "metadata": {
  "kernelspec": {
   "display_name": "Python 3",
   "language": "python",
   "name": "python3"
  },
  "language_info": {
   "codemirror_mode": {
    "name": "ipython",
    "version": 3
   },
   "file_extension": ".py",
   "mimetype": "text/x-python",
   "name": "python",
   "nbconvert_exporter": "python",
   "pygments_lexer": "ipython3",
   "version": "3.11.6"
  }
 },
 "nbformat": 4,
 "nbformat_minor": 2
}
