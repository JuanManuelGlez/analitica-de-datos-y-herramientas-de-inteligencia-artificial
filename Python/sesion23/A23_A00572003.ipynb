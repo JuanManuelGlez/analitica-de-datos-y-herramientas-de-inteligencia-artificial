{
 "cells": [
  {
   "cell_type": "markdown",
   "metadata": {},
   "source": [
    "# Actividad 23 - Lectura de datos con numpy\n",
    "## Juan Manuel González Ascencio - A00572003"
   ]
  },
  {
   "cell_type": "markdown",
   "metadata": {},
   "source": [
    "Laura tiene una hoja de cálculo que contiene la información del inventario de los tipos de saborizantes en existencia en las instalaciones de Oakland. En esta actividad extraerás información de la hoja de cálculo y usarás funciones de numpy para reunir información acerca del inventario de productos.\n",
    "\n",
    "La estructura de la información es la siguiente:\n",
    "\n",
    "- numProducto: Número o clave del producto.\n",
    "- nombre: Nombre o descripción del producto.\n",
    "- cantidadExistencia: Cantidad de productos en existencia.\n",
    "- precioMenudeo: Precio del producto al menudeo.\n",
    "- tamaño: Tamaño del producto en onzas.\n",
    "- envase: Tipo de envase.\n",
    "- 1. Frasco\n",
    "- 2. Sobre\n",
    "- 3. Botella\n",
    "- 4. Lata\n",
    "- categoria: Categoría del producto."
   ]
  },
  {
   "cell_type": "code",
   "execution_count": 1,
   "metadata": {},
   "outputs": [],
   "source": [
    "import numpy as np\n",
    "import pandas as pd "
   ]
  },
  {
   "cell_type": "code",
   "execution_count": 8,
   "metadata": {},
   "outputs": [
    {
     "name": "stdout",
     "output_type": "stream",
     "text": [
      "[[13189 'Pimienta, Florida' 228 8.75 8 1 'Condimento']\n",
      " [13558 'Cuatro especias francesas' 110 6.56 2 2 'Condimento']\n",
      " [15688 'Pimienta, Limón' 135 6.25 4 1 'Condimento']\n",
      " [16555 'Tuscan Sunset' 95 4.55 2 2 'Condimento']\n",
      " [21683 'Galena Street Rub' 125 3.95 4 1 'Adobo']\n",
      " [22189 'Northwoods Fire' 135 9.85 16 1 'Condimento']\n",
      " [23677 'Mejorana' 143 7.89 8 2 'Hierba']\n",
      " [23688 'Curry picante en polvo' 146 9.99 8 1 'Especia']\n",
      " [24896 \"Butcher's Pepper\" 234 5.29 4 2 'Adobo']\n",
      " [25678 'Curry suave en polvo' 135 9.99 8 1 'Especia']\n",
      " [25844 'Hierbas,  Provence' 254 10.25 4 2 'Hierba']\n",
      " [26787 'Aderezo Creole ' 165 8.75 8 2 'Condimento']\n",
      " [32544 'Menta, Hierbabuena ' 156 10.29 8 2 'Hierba']\n",
      " [34266 'Albahaca, Francesa' 156 5.82 8 2 'Hierba']\n",
      " [34793 'Sal con cebolla' 188 3.55 2 1 'Condimento']\n",
      " [34878 'Jengibre triturado' 266 7.89 8 2 'Especia']\n",
      " [34982 'Charqui, pollo y pescado' 177 5.45 4 2 'Condimento']\n",
      " [35677 'Charqui, puerco' 245 9.85 8 2 'Condimento']\n",
      " [35690 'Charqui, Jamaica' 245 7.99 8 1 'Adobo']\n",
      " [35988 'Albahaca, California' 145 11.95 8 2 'Hierba']\n",
      " [36820 'Menta, Hierbabuena ' 167 10.39 8 2 'Hierba']\n",
      " [37803 'Chile en polvo, picante' 248 3.39 2 1 'Condimento']\n",
      " [37845 'Café' 188 17.29 8 3 'Extracto']\n",
      " [38675 'Paprika húngara suave' 150 2.99 4 1 'Condimento']\n",
      " [38700 'Chile en polvo, suave' 168 3.39 2 1 'Condimento']\n",
      " [38744 'Bicentennial Beef' 45 4.49 4 1 'Adobo']\n",
      " [39704 'Paprika, California' 133 5.79 8 1 'Condimento']\n",
      " [42599 'Jengibre, cristalizado' 165 9.85 8 2 'Especia']\n",
      " [43153 'Canela, China' 425 4.09 2 2 'Especia']\n",
      " [43625 'Ralladura de naranja' 95 8.19 4 4 'Condimento']\n",
      " [43633 'Hierbabuena' 211 5.65 4 3 'Extracto']\n",
      " [43813 'Mejorana' 244 4.45 4 1 'Hierba']\n",
      " [44482 'Ajo en polvo' 168 5.89 6 1 'Condimento']\n",
      " [44587 'Tandoori' 75 16.85 8 2 'Especia']\n",
      " [44589 'Ajo en hojuelas, California' 235 11.25 2 1 'Condimento']\n",
      " [44879 'Jejngibre' 160 7.95 8 1 'Especia']\n",
      " [45265 'Especias para escabeche' 165 6.49 2 1 'Especia']\n",
      " [45688 'Nuez moscada' 100 7.85 8 1 'Especia']\n",
      " [46532 'Orégano' 265 10.19 8 1 'Hierba']\n",
      " [49652 'Rojo Taco' 73 5.29 4 2 'Condimento']\n",
      " [52164 'Clavos, enteros' 185 18.7 8 1 'Especia']\n",
      " [53634 'Vainilla, doble intensidad' 165 16.75 8 3 'Extracto']\n",
      " [54635 'Eneldo' 325 2.65 4 2 'Hierba']\n",
      " [55255 'Sal marina, Pacífico' 195 2.55 8 4 'Condimento']\n",
      " [56853 'Pimienta en grano, India' 312 4.59 4 1 'Especia']\n",
      " [64525 'Cebolla en polvo' 152 4.85 4 1 'Condimento']\n",
      " [78655 'Sal de ajo' 215 2.35 6 1 'Condimento']\n",
      " [85655 'Pimiento en grano, roja' 540 3.69 2 4 'Especia']\n",
      " [92258 'Vainilla' 225 15.95 4 3 'Extracto']\n",
      " [93157 'Almendra' 368 7.33 4 3 'Extracto']\n",
      " [93553 'Limón' 285 24.9 6 3 'Extracto']\n",
      " [94236 'Comino' 126 3.55 4 2 'Especia']\n",
      " [96854 'Vainilla' 423 31.95 6 3 'Extracto']\n",
      " [98225 'Naranja' 325 24.19 6 3 'Extracto']\n",
      " [98655 'Clavos, molidos' 211 4.55 6 1 'Especia']]\n"
     ]
    }
   ],
   "source": [
    "#La funcion leer datos me convierte el data frame a una matriz de numpy\n",
    "\n",
    "def leer_datos():\n",
    "    data = pd.read_csv('inventario.csv')\n",
    "    data = data.to_numpy()\n",
    "    return data\n",
    "\n",
    "def main():\n",
    "    data = leer_datos()\n",
    "    print(data)\n",
    "\n",
    "main()\n"
   ]
  },
  {
   "cell_type": "code",
   "execution_count": 15,
   "metadata": {},
   "outputs": [
    {
     "name": "stdout",
     "output_type": "stream",
     "text": [
      "el envase mas grande mide  16\n"
     ]
    }
   ],
   "source": [
    "def envase_mas_grande():\n",
    "    data = leer_datos()\n",
    "    envase = data[:,4]\n",
    "    maximo = envase.max()\n",
    "    return(maximo)\n",
    "\n",
    "def main():\n",
    "    print(\"el envase mas grande mide \", envase_mas_grande())\n",
    "\n",
    "main()"
   ]
  },
  {
   "cell_type": "code",
   "execution_count": 13,
   "metadata": {},
   "outputs": [
    {
     "name": "stdout",
     "output_type": "stream",
     "text": [
      "el precio mas bajo es:  2.35\n"
     ]
    }
   ],
   "source": [
    "def precio_mas_bajo():\n",
    "    data = leer_datos()\n",
    "    precio = data[:,3]\n",
    "    minimo = precio.min()\n",
    "    return(minimo)\n",
    "\n",
    "def main():\n",
    "    print(\"el precio mas bajo es: \", precio_mas_bajo())\n",
    "\n",
    "main()\n"
   ]
  },
  {
   "cell_type": "code",
   "execution_count": 12,
   "metadata": {},
   "outputs": [
    {
     "name": "stdout",
     "output_type": "stream",
     "text": [
      "La suma de los productos es:  11015\n"
     ]
    }
   ],
   "source": [
    "def suma_productos():\n",
    "    data = leer_datos()\n",
    "    cantidad = data[:,2]\n",
    "    suma = cantidad.sum()\n",
    "    return suma\n",
    "\n",
    "def main():\n",
    "    print(\"La suma de los productos es: \", suma_productos())\n",
    "\n",
    "main()"
   ]
  },
  {
   "cell_type": "code",
   "execution_count": 16,
   "metadata": {},
   "outputs": [
    {
     "name": "stdout",
     "output_type": "stream",
     "text": [
      "El promedio de los precios es:  8.638727272727271\n"
     ]
    }
   ],
   "source": [
    "def promedio_precios():\n",
    "    data = leer_datos()\n",
    "    precio = data[:,3]\n",
    "    promedio = precio.mean()\n",
    "    return promedio\n",
    "\n",
    "def main():\n",
    "    print(\"El promedio de los precios es: \", promedio_precios())\n",
    "\n",
    "main()\n"
   ]
  },
  {
   "cell_type": "code",
   "execution_count": 22,
   "metadata": {},
   "outputs": [
    {
     "name": "stdout",
     "output_type": "stream",
     "text": [
      "La cantidad de productos con  Adobo  es:  4\n",
      "La cantidad de productos con  Condimento  es:  20\n",
      "La cantidad de productos con  Especia  es:  14\n",
      "La cantidad de productos con  Extracto  es:  8\n",
      "La cantidad de productos con  Hierba  es:  9\n"
     ]
    }
   ],
   "source": [
    "def cantidad_productos():\n",
    "    data = leer_datos()\n",
    "    cantidad = data[:,6]\n",
    "    conjunto = set(cantidad)\n",
    "    lista = list(conjunto)\n",
    "    lista.sort()\n",
    "    for i in lista:\n",
    "        condicion = (data[:,6] == i)\n",
    "        matriz = data[condicion]\n",
    "        print(\"La cantidad de productos con \", i, \" es: \", len(matriz))\n",
    "\n",
    "def main():\n",
    "    #print(\"La cantidad de productos es: \", cantidad_productos())\n",
    "    cantidad_productos()\n",
    "\n",
    "main()\n"
   ]
  },
  {
   "cell_type": "code",
   "execution_count": 24,
   "metadata": {},
   "outputs": [
    {
     "name": "stdout",
     "output_type": "stream",
     "text": [
      "El promedio de tamaño de  Frasco  es:  5.76\n",
      "El promedio de tamaño de  Sobre  es:  5.7894736842105265\n",
      "El promedio de tamaño de  Botella  es:  5.75\n",
      "El promedio de tamaño de  Lata  es:  4.666666666666667\n"
     ]
    }
   ],
   "source": [
    "#Promedio de tamaño por cada tipo de envase\n",
    "\n",
    "def promedio_tamano():\n",
    "    envases = {1: \"Frasco\", 2: \"Sobre\", 3: \"Botella\", 4: \"Lata\"}\n",
    "    data = leer_datos()\n",
    "    for key in envases:\n",
    "        condicion = (data[:,5]==key)\n",
    "        matriz = data[condicion]\n",
    "        arreglo = matriz[:,4]\n",
    "        promedio = np.mean(arreglo)\n",
    "        print(\"El promedio de tamaño de \", envases[key], \" es: \", promedio)\n",
    "def main():\n",
    "    promedio_tamano()\n",
    "\n",
    "main()\n",
    "\n"
   ]
  },
  {
   "cell_type": "markdown",
   "metadata": {},
   "source": [
    "# Segunda fase"
   ]
  },
  {
   "cell_type": "code",
   "execution_count": 45,
   "metadata": {},
   "outputs": [
    {
     "name": "stdout",
     "output_type": "stream",
     "text": [
      "1. ENVASE FRASCO\n",
      "\tPrecio mínimo\tSuma producto\t Tamaño Promedio\n",
      "Adobo     \t3.950000     \t415.000000     \t5.333333 \n",
      "Condimento     \t2.350000     \t2155.000000     \t5.333333 \n",
      "Especia     \t4.550000     \t1414.000000     \t6.500000 \n",
      "extracto     \t0.000000     \t0.000000     \t0.000000 \n",
      "Hierba     \t4.450000     \t509.000000     \t6.000000 \n",
      "\n",
      " 2. ENVASE SOBRE\n",
      "\tPrecio mínimo\tSuma producto\t Tamaño Promedio\n",
      "Adobo     \t5.290000     \t234.000000     \t4.000000 \n",
      "Condimento     \t4.550000     \t865.000000     \t4.666667 \n",
      "Especia     \t3.550000     \t1057.000000     \t6.000000 \n",
      "extracto     \t0.000000     \t0.000000     \t0.000000 \n",
      "Hierba     \t2.650000     \t1346.000000     \t6.857143 \n",
      "\n",
      " 3. ENVASE BOTELLA\n",
      "\tPrecio mínimo\tSuma producto\t Tamaño Promedio\n",
      "Adobo     \t0.000000     \t0.000000     \t0.000000 \n",
      "Condimento     \t0.000000     \t0.000000     \t0.000000 \n",
      "Especia     \t0.000000     \t0.000000     \t0.000000 \n",
      "extracto     \t0.000000     \t0.000000     \t0.000000 \n",
      "Hierba     \t0.000000     \t0.000000     \t0.000000 \n",
      "\n",
      " 4. ENVASE LATA\n",
      "\tPrecio mínimo\tSuma producto\t Tamaño Promedio\n",
      "Adobo     \t0.000000     \t0.000000     \t0.000000 \n",
      "Condimento     \t2.550000     \t290.000000     \t6.000000 \n",
      "Especia     \t3.690000     \t540.000000     \t2.000000 \n",
      "extracto     \t0.000000     \t0.000000     \t0.000000 \n",
      "Hierba     \t0.000000     \t0.000000     \t0.000000 \n"
     ]
    }
   ],
   "source": [
    "def calculos(data, envase):\n",
    "    lista_categoria = [\"Adobo\", \"Condimento\", \"Especia\", \"extracto\", \"Hierba\"]\n",
    "    matrizFin=[]\n",
    "    for categoria in lista_categoria:\n",
    "        lista=[]\n",
    "        condicion = (data[:,6]==categoria) & (data[:,5]==envase)\n",
    "        matriz = data[condicion]\n",
    "        arreglo = matriz[:,3]\n",
    "\n",
    "        if len(arreglo) > 0:\n",
    "            precioMin =arreglo.min()\n",
    "        else:\n",
    "            precioMin = 0\n",
    "\n",
    "        lista.append(precioMin)\n",
    "        #print(\"El precio mas bajo de \", categoria, \" es: \", precioMin)\n",
    "\n",
    "        #SUma de productos en existencia\n",
    "        arreglo = matriz[:,2]\n",
    "\n",
    "        if len(arreglo) > 0:\n",
    "            suma =arreglo.sum()\n",
    "        else:\n",
    "            suma = 0\n",
    "        #print(\"La suma de productos en existencia es: \", suma)\n",
    "        lista.append(suma)\n",
    "\n",
    "        #Tamaño promedio del envase\n",
    "        arreglo = matriz[:,4]\n",
    "\n",
    "        if len(arreglo) > 0:\n",
    "            promedioEnvase =arreglo.mean()\n",
    "        else:\n",
    "            promedioEnvase = 0\n",
    "\n",
    "        #print(\"El promedio de tamaño del envase es: \", promedioEnvase)\n",
    "        lista.append(promedioEnvase)\n",
    "\n",
    "        matrizFin.append(lista)\n",
    "\n",
    "    return(matrizFin)\n",
    "\n",
    "def imprime_matriz(m):\n",
    "    lista_categoria = [\"Adobo\", \"Condimento\", \"Especia\", \"extracto\", \"Hierba\"]\n",
    "    cont  = 0\n",
    "    print(\"\\tPrecio mínimo\\tSuma producto\\t Tamaño Promedio\")\n",
    "    for i in range(m.shape[0]):\n",
    "        print(lista_categoria[cont], end=\" \")\n",
    "        cont += 1\n",
    "        for j in range(m.shape[1]):\n",
    "            print(\"    \\t%2f\"% m[i,j], end=\" \")\n",
    "        print()\n",
    "\n",
    "\n",
    "\n",
    "def main():\n",
    "    data = leer_datos()\n",
    "\n",
    "    print(\"1. ENVASE FRASCO\")\n",
    "    matriz=calculos(data, 1)\n",
    "    matriz = np.array(matriz)\n",
    "    imprime_matriz(matriz)\n",
    "\n",
    "    print(\"\\n 2. ENVASE SOBRE\")\n",
    "    matriz=calculos(data, 2)\n",
    "    matriz = np.array(matriz)\n",
    "    imprime_matriz(matriz)\n",
    "\n",
    "    print(\"\\n 3. ENVASE BOTELLA\")\n",
    "    matriz=calculos(data, 3)\n",
    "    matriz = np.array(matriz)\n",
    "    imprime_matriz(matriz)\n",
    "\n",
    "    print(\"\\n 4. ENVASE LATA\")\n",
    "    matriz=calculos(data, 4)\n",
    "    matriz = np.array(matriz)\n",
    "    imprime_matriz(matriz)\n",
    "\n",
    "\n",
    "\n",
    "main()\n",
    "\n"
   ]
  }
 ],
 "metadata": {
  "kernelspec": {
   "display_name": "Python 3",
   "language": "python",
   "name": "python3"
  },
  "language_info": {
   "codemirror_mode": {
    "name": "ipython",
    "version": 3
   },
   "file_extension": ".py",
   "mimetype": "text/x-python",
   "name": "python",
   "nbconvert_exporter": "python",
   "pygments_lexer": "ipython3",
   "version": "3.11.6"
  }
 },
 "nbformat": 4,
 "nbformat_minor": 2
}
