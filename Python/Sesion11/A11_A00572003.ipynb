{
 "cells": [
  {
   "cell_type": "markdown",
   "metadata": {},
   "source": [
    "# Actividad integradora 1\n",
    "## Juan Manuel González Ascencio - A00572003."
   ]
  },
  {
   "cell_type": "markdown",
   "metadata": {},
   "source": [
    "La función crea_archivo (nombre) que recibe el nombre del archivo de texto. La función le pedirá tres frases al usuario y la guardará en el archivo de texto."
   ]
  },
  {
   "cell_type": "code",
   "execution_count": 94,
   "metadata": {},
   "outputs": [],
   "source": [
    "#La función crea_archivo (nombre) que recibe el nombre del archivo de texto. La función le pedirá tres frases al usuario y la guardará en el archivo de texto.\n",
    "\n",
    "def crea_archivo(nombre):\n",
    "    file = open(nombre, \"w\")\n",
    "    for i in range(3):\n",
    "        file.write(input(\"Escribe una frase: \") + \"\\n\")\n",
    "    file.close()\n",
    "\n",
    "    "
   ]
  },
  {
   "cell_type": "markdown",
   "metadata": {},
   "source": [
    "La función limpia_archivo (nombreO, nombreD) que recibe el nombre del archivo de texto origen y el nombre del archivo de texto destino. La función debe copiar todo el contenido del archivo origen al archivo destino, cuyo contenido final será la copia de todos los caracteres válidos. Si encuentra saltos de línea copia un espacio en blanco."
   ]
  },
  {
   "cell_type": "code",
   "execution_count": 95,
   "metadata": {},
   "outputs": [],
   "source": [
    "#La función limpia_archivo (nombreO, nombreD) que recibe el nombre del archivo de texto origen y el nombre del archivo de texto destino. La función debe copiar todo el contenido del archivo origen al archivo destino, cuyo contenido final será la copia de todos los caracteres válidos. Si encuentra saltos de línea copia un espacio en blanco.\n",
    "\n",
    "def limpia_archivo(nombreO, nombreD):\n",
    "    fileO = open(nombreO, \"r\")\n",
    "    fileD = open(nombreD, \"w\")\n",
    "    caracteres_validos =  \" abcdefghijklmnopqrstuvwxyzñáéíóú0123456789ABCDEFGHIJKLMNÑOPQRSTUVWXYZÁÉÍÓÚ\"\n",
    "    for line in fileO:\n",
    "        for char in line:\n",
    "            if char in caracteres_validos:\n",
    "                fileD.write(char)\n",
    "            elif char == \"\\n\":\n",
    "                fileD.write(\" \")\n",
    "    fileO.close()\n",
    "    fileD.close()\n",
    "\n",
    "\n"
   ]
  },
  {
   "cell_type": "code",
   "execution_count": 96,
   "metadata": {},
   "outputs": [],
   "source": [
    "#La función crea_lista_palabras (nombre) que recibe el nombre del archivo de texto. La función regresa una lista con las palabras que contiene el archivo de texto.\n",
    "\n",
    "def crea_lista_palabras(nombre):\n",
    "    file = open(nombre, \"r\")\n",
    "    lista = []\n",
    "    for line in file:\n",
    "        lista += line.split()\n",
    "    file.close()\n",
    "    return lista"
   ]
  },
  {
   "cell_type": "code",
   "execution_count": 97,
   "metadata": {},
   "outputs": [],
   "source": [
    "#La función suma_caracteres (lista) que recibe una lista de palabras y regresa la suma total de caracteres de todas las palabras contenidas en la lista.\n",
    "\n",
    "def suma_caracteres(lista):\n",
    "    suma = 0\n",
    "    for palabra in lista:\n",
    "        suma += len(palabra)\n",
    "    return suma"
   ]
  },
  {
   "cell_type": "code",
   "execution_count": 98,
   "metadata": {},
   "outputs": [],
   "source": [
    "#La función cuenta_vocales (lista) que recibe una lista de palabras y regresa una tupla con dos valores: el primero representa la cantidad de palabras que comienzan con una vocal en minúsculas y el segundo representa la cantidad de palabras que comienzan con una vocal en mayúsculas.\n",
    "\n",
    "def cuenta_vocales(lista):\n",
    "    v1 = 0\n",
    "    v2 = 0\n",
    "    vocales = \"aeiou\"\n",
    "    for palabra in lista:\n",
    "        if palabra[0] in vocales:\n",
    "            v1 += 1\n",
    "        elif palabra[0] in vocales.upper():\n",
    "            v2 += 1\n",
    "    return (v1, v2)"
   ]
  },
  {
   "cell_type": "code",
   "execution_count": 99,
   "metadata": {},
   "outputs": [],
   "source": [
    "#La función imprime_diccionario (diccionario) que imprime el diccionario como tabla, con una tabulación entre la clave y la lista. \n",
    "\n",
    "def imprime_diccionario(diccionario):\n",
    "    for key in diccionario:\n",
    "        print(key, \"\\t\", diccionario[key])\n",
    "\n",
    "        "
   ]
  },
  {
   "cell_type": "code",
   "execution_count": 100,
   "metadata": {},
   "outputs": [],
   "source": [
    "#La función diccionario_vocales (lista) que recibe una lista de palabras y regresa un diccionario donde las llaves son las vocales y cada elemento una lista de las palabras que comienzan con dicha vocal. \n",
    "\n",
    "def diccionario_vocales(lista):\n",
    "    vocales = \"aeiou\"\n",
    "    dic = {}\n",
    "    for vocal in vocales:\n",
    "        listap = []\n",
    "        for palabra in lista:\n",
    "            if palabra[0].lower() == vocal:\n",
    "                listap.append(palabra)\n",
    "        dic[vocal] = listap\n",
    "    return dic\n",
    "\n"
   ]
  },
  {
   "cell_type": "code",
   "execution_count": 101,
   "metadata": {},
   "outputs": [],
   "source": [
    "#La función cuenta (nombre) que recibe el nombre del archivo de texto. La función imprime el conteo de espacios y saltos de línea que contiene el archivo de texto.\n",
    "\n",
    "def cuenta(nombre):\n",
    "    file = open(nombre, \"r\")\n",
    "    espacios = 0\n",
    "    saltos = 0\n",
    "    for line in file:\n",
    "        for char in line:\n",
    "            if char == \" \":\n",
    "                espacios += 1\n",
    "            elif char == \"\\n\":\n",
    "                saltos += 1\n",
    "    print(\"Espacios: \", espacios)\n",
    "    print(\"Saltos de línea: \", saltos)\n",
    "    file.close()"
   ]
  },
  {
   "cell_type": "code",
   "execution_count": 103,
   "metadata": {},
   "outputs": [
    {
     "name": "stdout",
     "output_type": "stream",
     "text": [
      "LISTA DE PALABRAS:\n",
      "['El', 'caballo', 'bebe', 'agua', 'Una', 'vez', 'casi', 'fui', 'presidente', 'La', 'mujer', 'come', 'mucho', 'arroz']\n",
      "SUMA DE PALABRAS:\n",
      "El total de los caracteres es:  61\n",
      "CUENTA DE VOCALES:\n",
      "El numero de palabras que comienzan con vocal y con minuscualas es:  2\n",
      "El numero de palabras que comienzan con vocal y con mayusculas es:  2\n",
      "DICCIONARIO DE VOCALES:\n",
      "{'a': ['agua', 'arroz'], 'e': ['El'], 'i': [], 'o': [], 'u': ['Una']}\n",
      "IMPRIME DICCIONARIO:\n",
      "a \t ['agua', 'arroz']\n",
      "e \t ['El']\n",
      "i \t []\n",
      "o \t []\n",
      "u \t ['Una']\n",
      "CUENTA DE ESPACIOS Y SALTOS DE LINEA:\n",
      "Espacios:  13\n",
      "Saltos de línea:  3\n"
     ]
    }
   ],
   "source": [
    "def main():\n",
    "    nombre = input(\"Escribe el nombre del archivo: \")\n",
    "    crea_archivo(nombre)\n",
    "    nombreD = \"Copia.txt\"\n",
    "    limpia_archivo(nombre, nombreD)\n",
    "\n",
    "    print(\"LISTA DE PALABRAS:\")   \n",
    "    print(crea_lista_palabras(nombreD))\n",
    "    res = suma_caracteres(crea_lista_palabras(nombreD))\n",
    "\n",
    "    print(\"SUMA DE PALABRAS:\")\n",
    "    print(\"El total de los caracteres es: \",res)\n",
    "\n",
    "    \n",
    "    print(\"CUENTA DE VOCALES:\")\n",
    "    tupla = cuenta_vocales(crea_lista_palabras(nombreD))\n",
    "    print(\"El numero de palabras que comienzan con vocal y con minuscualas es: \",tupla[0])\n",
    "    print(\"El numero de palabras que comienzan con vocal y con mayusculas es: \",tupla[1])\n",
    "\n",
    "    print(\"DICCIONARIO DE VOCALES:\")\n",
    "    print(diccionario_vocales(crea_lista_palabras(nombreD)))\n",
    "    \n",
    "    print(\"IMPRIME DICCIONARIO:\")\n",
    "    imprime_diccionario(diccionario_vocales(crea_lista_palabras(nombreD)))\n",
    "\n",
    "    print(\"CUENTA DE ESPACIOS Y SALTOS DE LINEA:\")\n",
    "    cuenta(nombre)\n",
    "    \n",
    "\n",
    "main()"
   ]
  }
 ],
 "metadata": {
  "kernelspec": {
   "display_name": "Python 3",
   "language": "python",
   "name": "python3"
  },
  "language_info": {
   "codemirror_mode": {
    "name": "ipython",
    "version": 3
   },
   "file_extension": ".py",
   "mimetype": "text/x-python",
   "name": "python",
   "nbconvert_exporter": "python",
   "pygments_lexer": "ipython3",
   "version": "3.11.6"
  }
 },
 "nbformat": 4,
 "nbformat_minor": 2
}
