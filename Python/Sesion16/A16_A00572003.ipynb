{
 "cells": [
  {
   "cell_type": "markdown",
   "metadata": {},
   "source": [
    "# Actividad 16 - Herencia\n",
    "## Juan Manuel González Ascencio"
   ]
  },
  {
   "cell_type": "code",
   "execution_count": 12,
   "metadata": {},
   "outputs": [
    {
     "name": "stdout",
     "output_type": "stream",
     "text": [
      "Juan\n",
      "123\n",
      "45\n",
      "Nomina: 123\n",
      "Nombre: Juan\n",
      "Edad: 45\n",
      "\n"
     ]
    }
   ],
   "source": [
    "class Profesor:\n",
    "    def __init__(self, nomina, nombre, edad):\n",
    "        self.nomina = nomina\n",
    "        self.nombre = nombre\n",
    "        self.edad = edad\n",
    "    \n",
    "    def pagoMensual():\n",
    "        pass\n",
    "\n",
    "    def mostrar(self):\n",
    "        return(\"Nomina: \" + str(self.nomina) + \"\\nNombre: \" + self.nombre + \"\\nEdad: \" + str(self.edad) + \"\\n\")\n",
    "    \n",
    "def main():\n",
    "    t = Profesor(123, \"Juan\", 45)\n",
    "    print(t.nombre)\n",
    "    print(t.nomina)\n",
    "    print(t.edad)\n",
    "    print(t.mostrar())\n",
    "\n",
    "main()\n",
    "        "
   ]
  },
  {
   "cell_type": "code",
   "execution_count": 21,
   "metadata": {},
   "outputs": [
    {
     "name": "stdout",
     "output_type": "stream",
     "text": [
      "PROFESOR DE PLANTA\n",
      "10000\n",
      "Nomina: 456\n",
      "Nombre: Pedro\n",
      "Edad: 45\n",
      "Salario Mensual: 10000\n",
      "\n",
      "15000\n"
     ]
    }
   ],
   "source": [
    "class Planta(Profesor):\n",
    "    def __init__(self, nomina, nombre, edad, salarioMensual):\n",
    "        self.salarioMensual = salarioMensual\n",
    "        super().__init__(nomina, nombre, edad)\n",
    "\n",
    "\n",
    "    def pagoMensual(self, beneficios):\n",
    "        return self.salarioMensual + beneficios\n",
    "    \n",
    "    def mostrar(self):\n",
    "        return super().mostrar()+\"Salario Mensual: \" + str(self.salarioMensual) + \"\\n\"\n",
    "    \n",
    "def main():\n",
    "    print (\"PROFESOR DE PLANTA\")\n",
    "    p = Planta(456, \"Pedro\", 45, 10000)\n",
    "    print(p.salarioMensual)\n",
    "    print(p.mostrar())\n",
    "    print(p.pagoMensual(5000))\n",
    "\n",
    "main()\n"
   ]
  },
  {
   "cell_type": "code",
   "execution_count": 24,
   "metadata": {},
   "outputs": [
    {
     "name": "stdout",
     "output_type": "stream",
     "text": [
      "PROFESOR DE CATEDRA\n",
      "40\n",
      "500\n",
      "Nomina: 789\n",
      "Nombre: Maria\n",
      "Edad: 30\n",
      "Horas Trabajadas: 40\n",
      "Pago por Hora: 500\n",
      "\n",
      "20800\n"
     ]
    }
   ],
   "source": [
    "class Catedra(Profesor):\n",
    "    def __init__(self, nomina, nombre, edad, horasTrabajadas, pagoHora):\n",
    "        self.horasTrabajadas = horasTrabajadas\n",
    "        self.pagoHora = pagoHora\n",
    "        super().__init__(nomina, nombre, edad)\n",
    "\n",
    "    def pagoMensual(self, beneficios):\n",
    "        return self.horasTrabajadas * self.pagoHora + beneficios\n",
    "    \n",
    "    def mostrar(self):\n",
    "        return super().mostrar()+\"Horas Trabajadas: \" + str(self.horasTrabajadas) + \"\\nPago por Hora: \" + str(self.pagoHora) + \"\\n\"\n",
    "    \n",
    "def main():\n",
    "    print (\"PROFESOR DE CATEDRA\")\n",
    "    c = Catedra(789, \"Maria\", 30, 7000, 40, 500)\n",
    "\n",
    "    print(c.horasTrabajadas)\n",
    "    print(c.pagoHora)\n",
    "\n",
    "\n",
    "    print(c.mostrar())\n",
    "    print(c.pagoMensual(800))\n",
    "\n",
    "main()\n"
   ]
  }
 ],
 "metadata": {
  "kernelspec": {
   "display_name": "Python 3",
   "language": "python",
   "name": "python3"
  },
  "language_info": {
   "codemirror_mode": {
    "name": "ipython",
    "version": 3
   },
   "file_extension": ".py",
   "mimetype": "text/x-python",
   "name": "python",
   "nbconvert_exporter": "python",
   "pygments_lexer": "ipython3",
   "version": "3.11.6"
  }
 },
 "nbformat": 4,
 "nbformat_minor": 2
}
