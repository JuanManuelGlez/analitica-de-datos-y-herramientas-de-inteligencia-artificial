{
 "cells": [
  {
   "cell_type": "markdown",
   "metadata": {},
   "source": [
    "# Actividad 17 - Polimorfismo \n",
    "## Juan Manuel González Ascencio"
   ]
  },
  {
   "cell_type": "code",
   "execution_count": 13,
   "metadata": {},
   "outputs": [
    {
     "name": "stdout",
     "output_type": "stream",
     "text": [
      "PROFESOR\n",
      "L123\n",
      "Juan\n",
      "30\n",
      "Nomina: L123, Nombre: Juan, Edad: 30\n",
      "Nomina: L321, Nombre: Mario, Edad: 25\n"
     ]
    }
   ],
   "source": [
    "class Profesor:\n",
    "    def __init__(self, nomina, nombre, edad):\n",
    "        self.__privateNomina = nomina\n",
    "        self.__privateNombre = nombre\n",
    "        self.__privateEdad = edad\n",
    "\n",
    "\n",
    "    def get_nomina(self):\n",
    "        return self.__privateNomina\n",
    "    \n",
    "    def set_nomina(self, nomina):\n",
    "        self.__privateNomina = nomina\n",
    "\n",
    "    def get_nombre(self):\n",
    "        return self.__privateNombre\n",
    "    \n",
    "    def set_nombre(self, nombre):\n",
    "        self.__privateNombre = nombre\n",
    "\n",
    "    def get_edad(self):\n",
    "        return self.__privateEdad\n",
    "    \n",
    "    def set_edad(self, edad):\n",
    "        self.__privateEdad = edad\n",
    "\n",
    "    \n",
    "    def pagoMensual():\n",
    "        pass\n",
    "\n",
    "    def mostrar(self):\n",
    "        return f\"Nomina: {self.__privateNomina}, Nombre: {self.__privateNombre}, Edad: {self.__privateEdad}\"\n",
    "    \n",
    "def main():\n",
    "    print(\"PROFESOR\")\n",
    "    t = Profesor('L123', \"Juan\", 30)\n",
    "\n",
    "    print(t.get_nomina())\n",
    "    print(t.get_nombre())\n",
    "    print(t.get_edad())\n",
    "\n",
    "    print(t.mostrar())\n",
    "\n",
    "    nomina = input(\"Ingrese la nueva nómina: \")\n",
    "    t.set_nomina(nomina)\n",
    "    nombre = input(\"Ingrese el nuevo nombre: \")\n",
    "    t.set_nombre(nombre)\n",
    "    edad = input(\"Ingrese la nueva edad: \")\n",
    "    t.set_edad(edad)\n",
    "\n",
    "    print(t.mostrar())\n",
    "    \n",
    "\n",
    "\n",
    "main()"
   ]
  },
  {
   "cell_type": "code",
   "execution_count": 14,
   "metadata": {},
   "outputs": [
    {
     "name": "stdout",
     "output_type": "stream",
     "text": [
      "PROFESOR DE PLANTA\n",
      "10000\n",
      "Nomina: L456, Nombre: Luis, Edad: 30, Salario Mensual: 10000\n",
      "Nomina: L456, Nombre: Luis, Edad: 30, Salario Mensual: 458.0\n",
      "1058.0\n"
     ]
    }
   ],
   "source": [
    "class Planta(Profesor):\n",
    "    def __init__(self, nomina, nombre, edad, salarioMensual):\n",
    "        self.__privateSalarioMensual = salarioMensual\n",
    "        super().__init__(nomina, nombre, edad)\n",
    "\n",
    "    def get_salarioMensual(self):\n",
    "        return self.__privateSalarioMensual\n",
    "    \n",
    "    def set_salarioMensual(self, salarioMensual):\n",
    "        self.__privateSalarioMensual = salarioMensual\n",
    "\n",
    "\n",
    "    def pagoMensual(self, beneficios):\n",
    "        return self.__privateSalarioMensual + beneficios\n",
    "    \n",
    "    def mostrar(self):\n",
    "        return f\"{super().mostrar()}, Salario Mensual: {self.__privateSalarioMensual}\"\n",
    "    \n",
    "def main():\n",
    "    print(\"PROFESOR DE PLANTA\")\n",
    "    p = Planta('L456', \"Luis\", 30, 10000)\n",
    "\n",
    "    print(p.get_salarioMensual())\n",
    "    print(p.mostrar())\n",
    "\n",
    "    salario = float(input(\"Ingrese el nuevo salario: \"))\n",
    "    p.set_salarioMensual(salario)\n",
    "\n",
    "    print(p.mostrar())\n",
    "\n",
    "    print(p.pagoMensual(600))\n",
    "    \n",
    "\n",
    "\n",
    "\n",
    "main()"
   ]
  },
  {
   "cell_type": "code",
   "execution_count": 15,
   "metadata": {},
   "outputs": [
    {
     "name": "stdout",
     "output_type": "stream",
     "text": [
      "PROFESOR DE CATEDRA\n",
      "40\n",
      "200\n",
      "Nomina: L789, Nombre: Maria, Edad: 30, Horas Trabajadas: 40, Pago por Hora: 200\n"
     ]
    },
    {
     "name": "stdout",
     "output_type": "stream",
     "text": [
      "Nomina: L789, Nombre: Maria, Edad: 30, Horas Trabajadas: 80, Pago por Hora: 300.0\n",
      "24600.0\n"
     ]
    }
   ],
   "source": [
    "class Catedra(Profesor):\n",
    "    def __init__(self, nomina, nombre, edad, horasTrabajadas, pagoHora):\n",
    "        self.__privateHorasTrabajadas = horasTrabajadas\n",
    "        self.__privatePagoHora = pagoHora\n",
    "        super().__init__(nomina, nombre, edad)\n",
    "\n",
    "    def get_horasTrabajadas(self):\n",
    "        return self.__privateHorasTrabajadas\n",
    "    \n",
    "    def set_horasTrabajadas(self, horasTrabajadas):\n",
    "        self.__privateHorasTrabajadas = horasTrabajadas\n",
    "\n",
    "    def get_pagoHora(self):\n",
    "        return self.__privatePagoHora\n",
    "    \n",
    "    def set_pagoHora(self, pagoHora):\n",
    "        self.__privatePagoHora = pagoHora\n",
    "\n",
    "    def pagoMensual(self, beneficios):\n",
    "        return self.__privateHorasTrabajadas * self.__privatePagoHora + beneficios\n",
    "    \n",
    "    def mostrar(self):\n",
    "        return f\"{super().mostrar()}, Horas Trabajadas: {self.__privateHorasTrabajadas}, Pago por Hora: {self.__privatePagoHora}\"\n",
    "    \n",
    "def main():\n",
    "    print(\"PROFESOR DE CATEDRA\")\n",
    "    c = Catedra('L789', \"Maria\", 30, 40, 200)\n",
    "\n",
    "    print(c.get_horasTrabajadas())\n",
    "    print(c.get_pagoHora())\n",
    "    print(c.mostrar())\n",
    "\n",
    "    horas = int(input(\"Ingrese las nuevas horas trabajadas: \"))\n",
    "    c.set_horasTrabajadas(horas)\n",
    "    pago = float(input(\"Ingrese el nuevo pago por hora: \"))\n",
    "    c.set_pagoHora(pago)\n",
    "\n",
    "    print(c.mostrar())\n",
    "\n",
    "    print(c.pagoMensual(600))\n",
    "\n",
    "main()"
   ]
  }
 ],
 "metadata": {
  "kernelspec": {
   "display_name": "Python 3",
   "language": "python",
   "name": "python3"
  },
  "language_info": {
   "codemirror_mode": {
    "name": "ipython",
    "version": 3
   },
   "file_extension": ".py",
   "mimetype": "text/x-python",
   "name": "python",
   "nbconvert_exporter": "python",
   "pygments_lexer": "ipython3",
   "version": "3.11.6"
  }
 },
 "nbformat": 4,
 "nbformat_minor": 2
}
