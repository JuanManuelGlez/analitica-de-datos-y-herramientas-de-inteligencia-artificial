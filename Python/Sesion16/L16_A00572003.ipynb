{
 "cells": [
  {
   "cell_type": "markdown",
   "metadata": {},
   "source": [
    "# Laboratorio 16 - Herencia\n",
    "## Juan Manuel González Ascencio - A00572003.\n"
   ]
  },
  {
   "cell_type": "code",
   "execution_count": 4,
   "metadata": {},
   "outputs": [
    {
     "name": "stdout",
     "output_type": "stream",
     "text": [
      "Color del coche volador:  azul\n",
      "Esta volando:  False\n",
      "Velocidad del coche volador:  100\n",
      "Ruedas  6\n",
      "Esta volando:  True\n",
      "El coche normal tiene  4  ruedas\n",
      "La velocidad del coche normal es de  0\n",
      "La velocidad del coche normal es de  20\n"
     ]
    }
   ],
   "source": [
    "class Coche:\n",
    "    \n",
    "    ruedas = 4\n",
    "    \n",
    "    def __init__(self, color, aceleracion):\n",
    "        self.color = color\n",
    "        self.aceleracion = aceleracion\n",
    "        self.velocidad = 0\n",
    "        \n",
    "    def acelera(self):\n",
    "        self.velocidad = self.velocidad + self.aceleracion\n",
    "        \n",
    "    def frena(self):\n",
    "        v = self.velocidad - self.aceleracion\n",
    "        if v < 0:\n",
    "            v = 0\n",
    "        self.velocidad = v\n",
    "\n",
    "class CocheVolador(Coche):\n",
    "\n",
    "    ruedas = 6\n",
    "\n",
    "    def __init__(self, color, aceleracion, esta_volando = False):\n",
    "        self.esta_volando = esta_volando\n",
    "        super().__init__(color, aceleracion)   \n",
    "\n",
    "    def vuela(self):\n",
    "        self.esta_volando = True\n",
    "\n",
    "def main():\n",
    "    c = Coche(\"rojo\", 20)\n",
    "    cv = CocheVolador(\"azul\", 100)\n",
    "    print(\"Color del coche volador: \", cv.color)\n",
    "    print(\"Esta volando: \", cv.esta_volando)\n",
    "    cv.acelera()\n",
    "    print(\"Velocidad del coche volador: \", cv.velocidad)\n",
    "    print(\"Ruedas \", cv.ruedas)\n",
    "    cv.vuela()\n",
    "    print(\"Esta volando: \", cv.esta_volando)\n",
    "    \n",
    "    print(\"El coche normal tiene \", c.ruedas, \" ruedas\")\n",
    "    print(\"La velocidad del coche normal es de \", c.velocidad)\n",
    "    c.acelera()\n",
    "    print(\"La velocidad del coche normal es de \", c.velocidad)\n",
    "\n",
    "\n",
    "main()\n",
    "\n",
    "\n",
    "        "
   ]
  }
 ],
 "metadata": {
  "kernelspec": {
   "display_name": "Python 3",
   "language": "python",
   "name": "python3"
  },
  "language_info": {
   "codemirror_mode": {
    "name": "ipython",
    "version": 3
   },
   "file_extension": ".py",
   "mimetype": "text/x-python",
   "name": "python",
   "nbconvert_exporter": "python",
   "pygments_lexer": "ipython3",
   "version": "3.11.6"
  }
 },
 "nbformat": 4,
 "nbformat_minor": 2
}
