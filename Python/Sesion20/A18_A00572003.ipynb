{
 "cells": [
  {
   "cell_type": "code",
   "execution_count": 3,
   "metadata": {},
   "outputs": [
    {
     "name": "stdout",
     "output_type": "stream",
     "text": [
      "['laura.sanch@hotmail-mx.com', 'pedro-lopez54@gmail.com', '45@outlook.com', 'sanchez@gmail.com.mx']\n"
     ]
    }
   ],
   "source": [
    "import re\n",
    "\n",
    "texto = \"Laura Sánchez \\n 442-153-32-42 \\n laura.sanch@hotmail-mx.com \\n http://www.laurasan.com Pedro LÓPEZ \\n 448 342 33 12 \\n pedro-lopez54@gmail.com \\n https://www.pedro.lopez.com.mx \\n Violeta Pérez \\n 123.214.43.72 \\n violeta_45@outlook.com \\n www.violeta.net \\n Juan Sánchez \\n juan_sanchez@gmail.com.mx \\n 345 234-34-12 www.juan_sanchez.net\"\n",
    "\n",
    "#Define un programa que encuentre todos los correos y los guarde en una lista. Imprime la lista. Utiliza la función findall\n",
    "\n",
    "#Encuentra todos los correos\n",
    "correos = re.findall(r'[a-zA-Z0-9.-]+@[a-zA-Z0-9.-]+\\.[a-zA-Z]+', texto)\n",
    "print(correos)\n"
   ]
  }
 ],
 "metadata": {
  "kernelspec": {
   "display_name": "Python 3",
   "language": "python",
   "name": "python3"
  },
  "language_info": {
   "codemirror_mode": {
    "name": "ipython",
    "version": 3
   },
   "file_extension": ".py",
   "mimetype": "text/x-python",
   "name": "python",
   "nbconvert_exporter": "python",
   "pygments_lexer": "ipython3",
   "version": "3.11.6"
  }
 },
 "nbformat": 4,
 "nbformat_minor": 2
}
