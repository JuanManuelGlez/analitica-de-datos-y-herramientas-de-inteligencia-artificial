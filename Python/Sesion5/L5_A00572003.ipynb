{
 "cells": [
  {
   "cell_type": "markdown",
   "metadata": {},
   "source": [
    "# Laboratorio 5 - For loops\n",
    "## Juan Manuel González Ascencio"
   ]
  },
  {
   "cell_type": "code",
   "execution_count": 1,
   "metadata": {},
   "outputs": [],
   "source": [
    "import random"
   ]
  },
  {
   "cell_type": "markdown",
   "metadata": {},
   "source": [
    "La función aleatorios1 () que despliega en pantalla 50 números aleatorios entre 0 y 70."
   ]
  },
  {
   "cell_type": "code",
   "execution_count": 4,
   "metadata": {},
   "outputs": [
    {
     "name": "stdout",
     "output_type": "stream",
     "text": [
      "29\n",
      "55\n",
      "36\n",
      "60\n",
      "37\n",
      "37\n",
      "4\n",
      "13\n",
      "58\n",
      "26\n",
      "64\n",
      "27\n",
      "33\n",
      "69\n",
      "15\n",
      "7\n",
      "3\n",
      "33\n",
      "65\n",
      "31\n",
      "48\n",
      "19\n",
      "24\n",
      "0\n",
      "42\n",
      "60\n",
      "24\n",
      "56\n",
      "42\n",
      "17\n",
      "14\n",
      "16\n",
      "12\n",
      "25\n",
      "62\n",
      "29\n",
      "33\n",
      "57\n",
      "63\n",
      "55\n",
      "48\n",
      "40\n",
      "12\n",
      "7\n",
      "33\n",
      "34\n",
      "58\n",
      "69\n",
      "58\n",
      "24\n"
     ]
    }
   ],
   "source": [
    "def aleatorios1():\n",
    "    for i in range(50):\n",
    "        print(random.randint(0,70))\n",
    "\n",
    "def main():\n",
    "    aleatorios1()\n",
    "\n",
    "main()"
   ]
  },
  {
   "cell_type": "markdown",
   "metadata": {},
   "source": [
    "La función aleatorios2 () que despliega en pantalla 20 números aleatorios entre -15 y 40."
   ]
  },
  {
   "cell_type": "code",
   "execution_count": 5,
   "metadata": {},
   "outputs": [
    {
     "name": "stdout",
     "output_type": "stream",
     "text": [
      "21\n",
      "32\n",
      "3\n",
      "-14\n",
      "0\n",
      "28\n",
      "30\n",
      "10\n",
      "22\n",
      "36\n",
      "31\n",
      "0\n",
      "25\n",
      "-10\n",
      "-11\n",
      "-14\n",
      "1\n",
      "-14\n",
      "11\n",
      "-9\n"
     ]
    }
   ],
   "source": [
    "def aleatorios2():\n",
    "    for i in range(20):\n",
    "        print(random.randint(-15,40))\n",
    "\n",
    "def main():\n",
    "    aleatorios2()\n",
    "\n",
    "main()"
   ]
  },
  {
   "cell_type": "markdown",
   "metadata": {},
   "source": [
    "La función dibuja_asteriscos (n) que recibe un número y despliega en pantalla una línea vertical de asteriscos (*)"
   ]
  },
  {
   "cell_type": "code",
   "execution_count": 7,
   "metadata": {},
   "outputs": [
    {
     "name": "stdout",
     "output_type": "stream",
     "text": [
      "*\n",
      "*\n",
      "*\n",
      "*\n"
     ]
    }
   ],
   "source": [
    "def Dibuja_asteriscos(n):\n",
    "    for i in range(n):\n",
    "        print(\"*\")\n",
    "\n",
    "def main():\n",
    "    n = int(input(\"Ingrese un número: \"))\n",
    "    Dibuja_asteriscos(n)\n",
    "\n",
    "main()"
   ]
  },
  {
   "cell_type": "markdown",
   "metadata": {},
   "source": [
    "La función muestra_numeros (n) que recibe un número entero n positivo y muestre una lista de números que empiezan en 1 e incrementan de uno en uno hasta llegar a n y después decrementa de uno en uno hasta llegar a 1."
   ]
  },
  {
   "cell_type": "code",
   "execution_count": 14,
   "metadata": {},
   "outputs": [
    {
     "name": "stdout",
     "output_type": "stream",
     "text": [
      "1\n",
      "2\n",
      "3\n",
      "4\n",
      "5\n",
      "4\n",
      "3\n",
      "2\n",
      "1\n"
     ]
    }
   ],
   "source": [
    "def muestra_numeros(n):\n",
    "    \n",
    "    for i in range(n):\n",
    "        print(i+1)\n",
    "    for i in range(n-1):\n",
    "        print(n-i-1)\n",
    "\n",
    "def main():\n",
    "    n = int(input(\"Ingrese un número: \"))\n",
    "    muestra_numeros(n)\n",
    "main()"
   ]
  },
  {
   "cell_type": "markdown",
   "metadata": {},
   "source": [
    "La función f1 (n) que recibe un valor entero mayor o igual a uno y utilizando un ciclo for regresa el resultado de la siguiente serie:"
   ]
  },
  {
   "cell_type": "code",
   "execution_count": 20,
   "metadata": {},
   "outputs": [
    {
     "name": "stdout",
     "output_type": "stream",
     "text": [
      "24\n"
     ]
    }
   ],
   "source": [
    "def f1(n):\n",
    "    res = 1\n",
    "    for i in range(n):\n",
    "        res = res * (i+1)\n",
    "    print(res)\n",
    "\n",
    "def main():\n",
    "    n = int(input(\"Ingrese un número: \"))\n",
    "    f1(n)\n",
    "\n",
    "main()\n",
    "\n",
    "    \n",
    "        "
   ]
  }
 ],
 "metadata": {
  "kernelspec": {
   "display_name": "Python 3",
   "language": "python",
   "name": "python3"
  },
  "language_info": {
   "codemirror_mode": {
    "name": "ipython",
    "version": 3
   },
   "file_extension": ".py",
   "mimetype": "text/x-python",
   "name": "python",
   "nbconvert_exporter": "python",
   "pygments_lexer": "ipython3",
   "version": "3.11.6"
  }
 },
 "nbformat": 4,
 "nbformat_minor": 2
}
