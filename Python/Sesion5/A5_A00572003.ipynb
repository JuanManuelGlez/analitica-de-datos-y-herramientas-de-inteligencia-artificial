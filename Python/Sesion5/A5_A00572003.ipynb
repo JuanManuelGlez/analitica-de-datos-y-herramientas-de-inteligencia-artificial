{
 "cells": [
  {
   "cell_type": "markdown",
   "metadata": {},
   "source": [
    "# Actividad 5 - For loops\n",
    "## Juan Manuel González Ascencio - A00572003\n"
   ]
  },
  {
   "cell_type": "markdown",
   "metadata": {},
   "source": [
    "La función aleatorios () que despliega en pantalla 30 números aleatorios entre 30 y 80."
   ]
  },
  {
   "cell_type": "code",
   "execution_count": 1,
   "metadata": {},
   "outputs": [],
   "source": [
    "import random"
   ]
  },
  {
   "cell_type": "markdown",
   "metadata": {},
   "source": [
    "La función aleatorios () que despliega en pantalla 30 números aleatorios entre 30 y 80."
   ]
  },
  {
   "cell_type": "code",
   "execution_count": 2,
   "metadata": {},
   "outputs": [
    {
     "name": "stdout",
     "output_type": "stream",
     "text": [
      "58\n",
      "54\n",
      "74\n",
      "70\n",
      "80\n",
      "42\n",
      "51\n",
      "57\n",
      "64\n",
      "32\n",
      "37\n",
      "56\n",
      "31\n",
      "72\n",
      "78\n",
      "30\n",
      "48\n",
      "31\n",
      "61\n",
      "43\n",
      "70\n",
      "53\n",
      "44\n",
      "62\n",
      "79\n",
      "39\n",
      "37\n",
      "54\n",
      "51\n",
      "36\n"
     ]
    }
   ],
   "source": [
    "#La función aleatorios () que despliega en pantalla 30 números aleatorios entre 30 y 80.\n",
    "\n",
    "def aleatorios():\n",
    "    for i in range(30):\n",
    "        print(random.randint(30,80))\n",
    "\n",
    "def main():\n",
    "    aleatorios()\n",
    "\n",
    "main()"
   ]
  },
  {
   "cell_type": "markdown",
   "metadata": {},
   "source": [
    "La función incremento (LI, LS, INC) que recibe tres parámetros reales: el limite inferior de la serie LI, el límite superior de la serie LS y el incremento INC. Los tres parámetros deben ser positivos. Y utilizando un ciclo for, la función deberá desplegar en pantalla la secuencia de números desde LI hasta el LS en incrementos de INC. Validar en el main LI <= LS, de lo contrario que imprima un mensaje de error.\n",
    "\n",
    "           Ejemplos:\n",
    "\n",
    "           \n",
    ".\n",
    "incremento ( 3, 15, 2 ) mostrará los valores: 3  5  7  9  11  13  15\n",
    "\n",
    "incremento ( 5, 26, 4 ) mostrará los valores: 5  9  13  17  21  25\n",
    "\n",
    "incremento ( 15, 3, 4 ) mostrará: Error números inválidos\n"
   ]
  },
  {
   "cell_type": "code",
   "execution_count": 5,
   "metadata": {},
   "outputs": [
    {
     "name": "stdout",
     "output_type": "stream",
     "text": [
      "5\n",
      "9\n",
      "13\n",
      "17\n",
      "21\n",
      "25\n"
     ]
    }
   ],
   "source": [
    "def Incremento(LI,LS,INC):\n",
    "    for i in range(LI,LS+1,INC):\n",
    "        print(i)\n",
    "\n",
    "def main():\n",
    "    LI = int(input(\"Ingrese el límite inferior: \"))\n",
    "    LS = int(input(\"Ingrese el límite superior: \"))\n",
    "    INC = int(input(\"Ingrese el incremento: \"))\n",
    "    if LI < LS:\n",
    "        Incremento(LI,LS,INC)\n",
    "    else:\n",
    "        print(\"El límite inferior debe ser menor al límite superior\")\n",
    "\n",
    "main()"
   ]
  },
  {
   "cell_type": "markdown",
   "metadata": {},
   "source": [
    "La función pares (a, b) que recibe los valores a y b y muestre todos los números pares que van desde a hasta b incluyendo los límites. Validar en el main a < b, de lo contrario que imprima un mensaje de error. Para este ejercicio considera el valor 0 como par.\n",
    "\n",
    "Ejemplos:\n",
    "\n",
    "pares ( -3, 6 ) mostrará los valores: -2 0 2 4 6\n",
    "\n",
    "pares ( -2, 7 ) mostrará los valores: -2 0 2 4 6\n",
    "\n",
    "pares ( 7, 2 ) mostrará: Error números inválidos "
   ]
  },
  {
   "cell_type": "code",
   "execution_count": 9,
   "metadata": {},
   "outputs": [
    {
     "name": "stdout",
     "output_type": "stream",
     "text": [
      "El límite inferior debe ser menor al límite superior\n"
     ]
    }
   ],
   "source": [
    "def Pares(a,b):\n",
    "    for i in range(a,b+1):\n",
    "        if i%2 == 0:\n",
    "            print(i)\n",
    "\n",
    "def main():\n",
    "    a = int(input(\"Ingrese el límite inferior: \"))\n",
    "    b = int(input(\"Ingrese el límite superior: \"))\n",
    "    if a < b:\n",
    "        Pares(a,b)\n",
    "    else:\n",
    "        print(\"El límite inferior debe ser menor al límite superior\")\n",
    "\n",
    "main()"
   ]
  }
 ],
 "metadata": {
  "kernelspec": {
   "display_name": "Python 3",
   "language": "python",
   "name": "python3"
  },
  "language_info": {
   "codemirror_mode": {
    "name": "ipython",
    "version": 3
   },
   "file_extension": ".py",
   "mimetype": "text/x-python",
   "name": "python",
   "nbconvert_exporter": "python",
   "pygments_lexer": "ipython3",
   "version": "3.11.6"
  }
 },
 "nbformat": 4,
 "nbformat_minor": 2
}
