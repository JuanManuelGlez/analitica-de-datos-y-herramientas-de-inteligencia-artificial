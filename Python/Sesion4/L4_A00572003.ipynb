{
 "cells": [
  {
   "cell_type": "markdown",
   "metadata": {},
   "source": [
    "# Laboratorio 4\n",
    "## Juan Manuel González Ascencio - A00572003.\n"
   ]
  },
  {
   "cell_type": "markdown",
   "metadata": {},
   "source": [
    "La funcion impares (a, b) que recibe los valores a y b y muestre todos los números impares que van desde a hasta b incluyendo los límites. Validar en el main a < b, de lo contrario imprimir un mensaje de error.\n",
    "Ejemplos:\n",
    "\n",
    "impares ( -3, 6 ) mostrará los valores: -3 -1 1 3 5\n",
    "impares ( -2, 7 ) mostrará los valores: -1 1 3 5 7\n",
    "impares ( 7, 2 ) mostrará: Error números inválidos"
   ]
  },
  {
   "cell_type": "code",
   "execution_count": 8,
   "metadata": {},
   "outputs": [
    {
     "name": "stdout",
     "output_type": "stream",
     "text": [
      "1\n",
      "3\n",
      "5\n",
      "7\n",
      "9\n"
     ]
    }
   ],
   "source": [
    "def Impares(a,b):\n",
    "    if a>=b:\n",
    "        print(\"Error números inválidos\")\n",
    "        return\n",
    "    \n",
    "    while(a<=b):\n",
    "        if(a%2!=0):\n",
    "            print(a)\n",
    "        a+=1\n",
    "\n",
    "def main():\n",
    "\n",
    "    a = int(input(\"ingresa el valor de a: \"))\n",
    "    b = int(input(\"ingresa el valor de b: \"))\n",
    "    Impares(a,b)\n",
    "\n",
    "main()"
   ]
  },
  {
   "cell_type": "markdown",
   "metadata": {},
   "source": [
    "La función cuenta_suma ( ) que lea del teclado números enteros y los vaya contando y sumando. La función se debe detener cuando la suma de los números leídos sea 1500 o más. Cuando la suma sea 1500 o más, el programa debe mostrar el total de la suma y la cantidad de números que se sumaron.\n",
    "Ejemplo:\n",
    "\n",
    "Si se teclea 100 50 200 430 250 300 250\n",
    "\n",
    "La función mostrará: suma = 1580, cantidad de números = 7 "
   ]
  },
  {
   "cell_type": "code",
   "execution_count": 11,
   "metadata": {},
   "outputs": [
    {
     "name": "stdout",
     "output_type": "stream",
     "text": [
      "La suma es  1580  y la cantidad de numero sumados es de  7  numeros\n"
     ]
    }
   ],
   "source": [
    "def Cuenta_suma():\n",
    "    suma = 0\n",
    "    cantidad = 0\n",
    "    while suma <=1500:\n",
    "        a = int(input(\"ingresa el valor a sumar: \"))\n",
    "        suma += a\n",
    "        cantidad += 1\n",
    "    print (\"La suma es \", suma, \" y la cantidad de numero sumados es de \", cantidad, \" numeros\")\n",
    "\n",
    "\n",
    "def main():\n",
    "    Cuenta_suma()\n",
    "\n",
    "main()"
   ]
  },
  {
   "cell_type": "markdown",
   "metadata": {},
   "source": [
    "La función serie (n) que recibe un valor entero n mayor o igual a uno y regresa el resultado de la siguiente serie:\n",
    "         \n",
    "serie(n) = 31 - 32 + 33 - 34 + 35....\n",
    "Ejemplos:\n",
    "\n",
    "serie(2) = 31 - 32 = - 1\n",
    "serie(3) = 31 - 32 + 33 = 32 "
   ]
  },
  {
   "cell_type": "code",
   "execution_count": 30,
   "metadata": {},
   "outputs": [
    {
     "name": "stdout",
     "output_type": "stream",
     "text": [
      "32\n"
     ]
    }
   ],
   "source": [
    "def serie(n):\n",
    "    a = 30\n",
    "    acum = 0\n",
    "    cont = 1\n",
    "    while n>0:\n",
    "        if cont%2 != 0: # si es impar\n",
    "            a += 1\n",
    "            acum = acum + (a)\n",
    "            n -= 1\n",
    "            cont += 1\n",
    "        elif cont%2 == 0:\n",
    "            a += 1\n",
    "            acum = acum - (a)\n",
    "            n -= 1\n",
    "            cont += 1\n",
    "    print(acum)\n",
    "\n",
    "def main():\n",
    "    n = int(input(\"ingresa el valor de n: \"))\n",
    "    serie(n)\n",
    "\n",
    "main()\n"
   ]
  }
 ],
 "metadata": {
  "kernelspec": {
   "display_name": "Python 3",
   "language": "python",
   "name": "python3"
  },
  "language_info": {
   "codemirror_mode": {
    "name": "ipython",
    "version": 3
   },
   "file_extension": ".py",
   "mimetype": "text/x-python",
   "name": "python",
   "nbconvert_exporter": "python",
   "pygments_lexer": "ipython3",
   "version": "3.11.6"
  }
 },
 "nbformat": 4,
 "nbformat_minor": 2
}
