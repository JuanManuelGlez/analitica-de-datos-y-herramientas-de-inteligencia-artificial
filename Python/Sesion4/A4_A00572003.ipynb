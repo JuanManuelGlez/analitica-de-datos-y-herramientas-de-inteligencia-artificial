{
 "cells": [
  {
   "cell_type": "markdown",
   "metadata": {},
   "source": [
    "# Actividad 3\n",
    "## Juan Manuel González Ascencio - A00572003"
   ]
  },
  {
   "cell_type": "markdown",
   "metadata": {},
   "source": [
    "La función imprime_numeros (n) que recibe un valor entero mayor o igual a uno e imprima todos los números en orden descendente desde n hasta 0. Cada uno de los números debe ser impreso en una línea por separado."
   ]
  },
  {
   "cell_type": "code",
   "execution_count": 2,
   "metadata": {},
   "outputs": [
    {
     "name": "stdout",
     "output_type": "stream",
     "text": [
      "4\n",
      "3\n",
      "2\n",
      "1\n",
      "0\n"
     ]
    }
   ],
   "source": [
    "def Imprime_numeros(n):\n",
    "    while n >= 0:\n",
    "        print(n)\n",
    "        n -= 1\n",
    "\n",
    "def main():\n",
    "    n = int(input(\"Ingresa un número: \"))\n",
    "    Imprime_numeros(n)\n",
    "\n",
    "main()"
   ]
  },
  {
   "cell_type": "markdown",
   "metadata": {},
   "source": [
    "La función suma_positivos () que sume los números enteros positivos que el usuario teclee y se detenga hasta que el usuario teclee un cero.\n",
    "Casos\n"
   ]
  },
  {
   "cell_type": "code",
   "execution_count": 4,
   "metadata": {},
   "outputs": [
    {
     "name": "stdout",
     "output_type": "stream",
     "text": [
      "13\n"
     ]
    }
   ],
   "source": [
    "def Suma_positivos(n):\n",
    "    suma = 0\n",
    "    while n != 0:\n",
    "        suma += n\n",
    "        n = int(input(\"Ingresa n: \"))\n",
    "    print(suma)\n",
    "\n",
    "def main():\n",
    "    n = int(input(\"Ingresa n: \"))\n",
    "    Suma_positivos(n)\n",
    "\n",
    "main()"
   ]
  },
  {
   "cell_type": "markdown",
   "metadata": {},
   "source": [
    "La función f2 (n) que recibe un valor entero mayor o igual a uno y regresa el resultado de la siguiente serie:\n",
    "          \n",
    "f2(n) = 40 - 41 + 42 - 43 ..."
   ]
  },
  {
   "cell_type": "code",
   "execution_count": 15,
   "metadata": {},
   "outputs": [
    {
     "name": "stdout",
     "output_type": "stream",
     "text": [
      "a=  40   acum=  40\n",
      "a=  41   acum=  -1\n",
      "-1\n"
     ]
    }
   ],
   "source": [
    "def f2(n):\n",
    "    a = 39\n",
    "    acum = 0\n",
    "    cont = 1\n",
    "    while n>0:\n",
    "        if cont%2 != 0: # si es impar\n",
    "            a += 1\n",
    "            acum = acum + (a)\n",
    "            n -= 1\n",
    "            cont += 1\n",
    "            print(\"a= \",a, \" \",\"acum= \",acum)\n",
    "        elif cont%2 == 0:\n",
    "            a += 1\n",
    "            acum = acum - (a)\n",
    "            n -= 1\n",
    "            cont += 1\n",
    "            print(\"a= \",a, \" \",\"acum= \",acum)\n",
    "    print(acum)\n",
    "\n",
    "def main():\n",
    "    n = int(input(\"ingresa el valor de n: \"))\n",
    "    f2(n)\n",
    "\n",
    "main()"
   ]
  }
 ],
 "metadata": {
  "kernelspec": {
   "display_name": "Python 3",
   "language": "python",
   "name": "python3"
  },
  "language_info": {
   "codemirror_mode": {
    "name": "ipython",
    "version": 3
   },
   "file_extension": ".py",
   "mimetype": "text/x-python",
   "name": "python",
   "nbconvert_exporter": "python",
   "pygments_lexer": "ipython3",
   "version": "3.11.6"
  }
 },
 "nbformat": 4,
 "nbformat_minor": 2
}
