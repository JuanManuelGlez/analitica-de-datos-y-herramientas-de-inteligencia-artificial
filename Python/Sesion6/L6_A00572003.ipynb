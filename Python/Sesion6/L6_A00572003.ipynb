{
 "cells": [
  {
   "cell_type": "markdown",
   "metadata": {},
   "source": [
    "# Laboratorio 6 - Listas\n",
    "## Juan Manuel González Ascencio"
   ]
  },
  {
   "cell_type": "markdown",
   "metadata": {},
   "source": [
    "Importamos la librería Random la cual nos servirá mas tarde"
   ]
  },
  {
   "cell_type": "code",
   "execution_count": 6,
   "metadata": {},
   "outputs": [],
   "source": [
    "import random"
   ]
  },
  {
   "cell_type": "markdown",
   "metadata": {},
   "source": [
    "La función crea_lista (tam) que recibe el tamaño de la lista. La función deberá pedir un valor numérico al usuario para cada casilla de la lista y al final devolver la lista creada. "
   ]
  },
  {
   "cell_type": "code",
   "execution_count": 12,
   "metadata": {},
   "outputs": [
    {
     "name": "stdout",
     "output_type": "stream",
     "text": [
      "[1, 2, 3]\n"
     ]
    }
   ],
   "source": [
    "def Crea_lista(tam):\n",
    "    lista = []\n",
    "    for i in range(tam):\n",
    "        lista.append(int(input(f\"Introduce el valor del elemento {i+1}: \")))\n",
    "    return lista\n",
    "\n",
    "def main():\n",
    "    tam = int(input(\"Introduce el tamaño de la lista: \"))\n",
    "    lista = Crea_lista(tam)\n",
    "    print(lista)\n",
    "    \n",
    "main()"
   ]
  },
  {
   "cell_type": "markdown",
   "metadata": {},
   "source": [
    "La función inicializa_lista (lista) que recibe una lista de números. La función cambia todos los valores de la lista por valores aleatorios entre -5 y 15. La función no crea una nueva lista, sino que modifica la que recibe como parámetro. Para mandar llamar esta función antes debes usar crea_lista para asegurarte que tienes valores que cambiar. \n"
   ]
  },
  {
   "cell_type": "code",
   "execution_count": 15,
   "metadata": {},
   "outputs": [
    {
     "name": "stdout",
     "output_type": "stream",
     "text": [
      "[14, 2, 12]\n"
     ]
    }
   ],
   "source": [
    "def inicializa_lista(lista):\n",
    "    for i in range(len(lista)):\n",
    "        lista[i] = random.randint(-5, 15)\n",
    "    return lista\n",
    "\n",
    "def main ():\n",
    "    tam = int(input(\"Introduce el tamaño de la lista: \"))\n",
    "    lista = Crea_lista(tam)\n",
    "    print(inicializa_lista(lista))\n",
    "\n",
    "main()"
   ]
  },
  {
   "cell_type": "markdown",
   "metadata": {},
   "source": [
    "La función promedio (lista) que recibe una lista de números y devuelve el promedio de los elementos en la lista. Para mandar llamar esta función antes debes usar crea_lista para asegurarte que tienes valores en la lista.\n"
   ]
  },
  {
   "cell_type": "code",
   "execution_count": 17,
   "metadata": {},
   "outputs": [
    {
     "name": "stdout",
     "output_type": "stream",
     "text": [
      "2.0\n"
     ]
    }
   ],
   "source": [
    "\n",
    "def promedio(lista):\n",
    "    prom = 0\n",
    "    for i in range(len(lista)):\n",
    "        prom += lista[i]\n",
    "    prom = prom / len(lista)\n",
    "    return prom\n",
    "\n",
    "def main():\n",
    "    tam = int(input(\"Introduce el tamaño de la lista: \"))\n",
    "    lista = Crea_lista(tam)\n",
    "    print(promedio(lista))\n",
    "\n",
    "main()"
   ]
  },
  {
   "cell_type": "markdown",
   "metadata": {},
   "source": [
    "La función varianza (lista) que recibe una lista de números y devuelve el cálculo de la varianza. Para mandar llamar esta función antes debes usar crea_lista para asegurarte que tienes valores en la lista. Usa la función promedio que acabas de crear."
   ]
  },
  {
   "cell_type": "code",
   "execution_count": 18,
   "metadata": {},
   "outputs": [
    {
     "name": "stdout",
     "output_type": "stream",
     "text": [
      "0.6666666666666666\n"
     ]
    }
   ],
   "source": [
    "def varianza(lista):\n",
    "    prom = promedio(lista)\n",
    "    var = 0\n",
    "    for i in range(len(lista)):\n",
    "        var += (lista[i] - prom) ** 2\n",
    "    var = var / len(lista)\n",
    "    return var\n",
    "\n",
    "\n",
    "def main():\n",
    "    tam = int(input(\"Introduce el tamaño de la lista: \"))\n",
    "    lista = Crea_lista(tam)\n",
    "    print(varianza(lista))\n",
    "\n",
    "\n",
    "main()"
   ]
  }
 ],
 "metadata": {
  "kernelspec": {
   "display_name": "Python 3",
   "language": "python",
   "name": "python3"
  },
  "language_info": {
   "codemirror_mode": {
    "name": "ipython",
    "version": 3
   },
   "file_extension": ".py",
   "mimetype": "text/x-python",
   "name": "python",
   "nbconvert_exporter": "python",
   "pygments_lexer": "ipython3",
   "version": "3.11.6"
  }
 },
 "nbformat": 4,
 "nbformat_minor": 2
}
