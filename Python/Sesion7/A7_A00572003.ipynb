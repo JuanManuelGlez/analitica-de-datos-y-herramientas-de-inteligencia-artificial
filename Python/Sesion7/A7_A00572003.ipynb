{
 "cells": [
  {
   "cell_type": "markdown",
   "metadata": {},
   "source": [
    "# Actividad 7 - Listas\n",
    "## Juan Manuel González Ascencio - A005720003"
   ]
  },
  {
   "cell_type": "code",
   "execution_count": 2,
   "metadata": {},
   "outputs": [
    {
     "name": "stdout",
     "output_type": "stream",
     "text": [
      "[25, 38, 40, 10, 56, 15, 64, 29, 72, 18]\n",
      "[10, 15, 18, 25, 29, 38, 40, 56, 64, 72]\n"
     ]
    }
   ],
   "source": [
    "edades = [25, 38, 40, 10, 56, 15, 64, 29, 72, 18]\n",
    "copia = edades.copy()\n",
    "copia.sort()\n",
    "print(edades)\n",
    "print(copia)"
   ]
  },
  {
   "cell_type": "markdown",
   "metadata": {},
   "source": [
    "La función crea_lista (tam) que recibe el tamaño de la lista. La función deberá pedir un valor numérico al usuario para cada casilla de la lista y al final devolver la lista creada. "
   ]
  },
  {
   "cell_type": "code",
   "execution_count": 1,
   "metadata": {},
   "outputs": [
    {
     "name": "stdout",
     "output_type": "stream",
     "text": [
      "[48, 2, 3]\n"
     ]
    }
   ],
   "source": [
    "def Crea_lista(tam):\n",
    "    lista = []\n",
    "    for i in range(tam):\n",
    "        lista.append(int(input(f\"Introduce el valor del elemento {i+1}: \")))\n",
    "    return lista\n",
    "\n",
    "def main():\n",
    "    tam = int(input(\"Introduce el tamaño de la lista: \"))\n",
    "    lista = Crea_lista(tam)\n",
    "    print(lista)\n",
    "    \n",
    "main()"
   ]
  },
  {
   "cell_type": "markdown",
   "metadata": {},
   "source": [
    "La función cuenta_pares (lista) que recibe una lista de números enteros. La función regresa cuántos elementos del arreglo son pares. Para mandar llamar esta función antes debes usar crea_lista para asegurarte que la lista tiene valores."
   ]
  },
  {
   "cell_type": "code",
   "execution_count": 4,
   "metadata": {},
   "outputs": [
    {
     "name": "stdout",
     "output_type": "stream",
     "text": [
      "La lista tiene  2  números pares\n"
     ]
    }
   ],
   "source": [
    "def Cuenta_pares(lista):\n",
    "    pares = 0\n",
    "    for i in lista:\n",
    "        if i % 2 == 0:\n",
    "            pares += 1\n",
    "    return pares\n",
    "\n",
    "def main():\n",
    "    tam = int(input(\"Introduce el tamaño de la lista: \"))\n",
    "    lista = Crea_lista(tam)\n",
    "    print(\"La lista tiene \", Cuenta_pares(lista), \" números pares\")\n",
    "\n",
    "main()"
   ]
  },
  {
   "cell_type": "markdown",
   "metadata": {},
   "source": [
    "La función sustituye_lista (lista, x, y) que recibe una lista de números, un valor entero x y un valor entero y. La función debe sustituir las ocurrencias de x en la lista por el valor de y. Para mandar llamar esta función antes debes usar crea_lista para asegurarte que tienes valores en la lista."
   ]
  },
  {
   "cell_type": "code",
   "execution_count": 7,
   "metadata": {},
   "outputs": [
    {
     "name": "stdout",
     "output_type": "stream",
     "text": [
      "[25, 7, 9]\n"
     ]
    }
   ],
   "source": [
    "def Sustituye_lista(lista, original, nuevo):\n",
    "    for i in range(len(lista)):\n",
    "        if lista[i] == original:\n",
    "            lista[i] = nuevo\n",
    "    return lista\n",
    "\n",
    "def main():\n",
    "    tam = int(input(\"Introduce el tamaño de la lista: \"))\n",
    "    lista = Crea_lista(tam)\n",
    "    original = int(input(\"Introduce el valor original: \"))\n",
    "    nuevo = int(input(\"Introduce el valor nuevo: \"))\n",
    "    print(Sustituye_lista(lista, original, nuevo))\n",
    "\n",
    "main()"
   ]
  },
  {
   "cell_type": "markdown",
   "metadata": {},
   "source": [
    "La función suma_multiplos (lista, x) que recibe una lista de números y un entero x. La función deberá regresar el resultado de sumar todos los elementos múltiplos de x contenidos en la lista. Para mandar llamar esta función antes de debes de usar crea_lista para asegurarte que tienes valores en la lista."
   ]
  },
  {
   "cell_type": "code",
   "execution_count": 8,
   "metadata": {},
   "outputs": [
    {
     "name": "stdout",
     "output_type": "stream",
     "text": [
      "La suma de los múltiplos de  2  es  52\n"
     ]
    }
   ],
   "source": [
    "def Suma_multiplos(lista, x):\n",
    "    suma = 0\n",
    "    for i in lista:\n",
    "        if i % x == 0:\n",
    "            suma += i\n",
    "    return suma\n",
    "\n",
    "def main():\n",
    "    tam = int(input(\"Introduce el tamaño de la lista: \"))\n",
    "    lista = Crea_lista(tam)\n",
    "    x = int(input(\"Introduce el valor de x: \"))\n",
    "    print(\"La suma de los múltiplos de \", x, \" es \", Suma_multiplos(lista, x))\n",
    "\n",
    "main()"
   ]
  }
 ],
 "metadata": {
  "kernelspec": {
   "display_name": "Python 3",
   "language": "python",
   "name": "python3"
  },
  "language_info": {
   "codemirror_mode": {
    "name": "ipython",
    "version": 3
   },
   "file_extension": ".py",
   "mimetype": "text/x-python",
   "name": "python",
   "nbconvert_exporter": "python",
   "pygments_lexer": "ipython3",
   "version": "3.11.6"
  }
 },
 "nbformat": 4,
 "nbformat_minor": 2
}
