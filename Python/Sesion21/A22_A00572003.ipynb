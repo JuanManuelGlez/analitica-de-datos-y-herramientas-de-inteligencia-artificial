{
 "cells": [
  {
   "cell_type": "markdown",
   "metadata": {},
   "source": [
    "# Actividad 22 Matrices\n",
    "## Juan Manuel González Ascencio\n",
    "--------------------------------------\n",
    "# Ejercicio 1"
   ]
  },
  {
   "cell_type": "code",
   "execution_count": 2,
   "metadata": {},
   "outputs": [],
   "source": [
    "import numpy as np"
   ]
  },
  {
   "cell_type": "code",
   "execution_count": 1,
   "metadata": {},
   "outputs": [],
   "source": [
    "#Define la función imprime_matriz (matriz) que recibe una matriz. La función despliega en pantalla el contenido de la matriz.  \n",
    "def imprime_matriz(m):\n",
    "    print()\n",
    "    for i in range(m.shape[0]):\n",
    "        for j in range(m.shape[1]):\n",
    "            print(\"%4i\"% m[i,j], end=\" \")\n",
    "        print()"
   ]
  },
  {
   "cell_type": "code",
   "execution_count": 3,
   "metadata": {},
   "outputs": [],
   "source": [
    "#Define la función llena_matriz (matriz) que recibe una matriz. La función deberá modificar cada localidad de la matriz con valores aleatorios entre -10 y 10.  Importa el módulo random (import random). Utiliza la función random.randint para asignar un valor aleatorio a cada casilla de la matriz. Ejemplo de cómo utilizar la función randint: num = random.randint(10, 20) Genera un número aleatorio entre 10 y 20 incluyendo los límites.\n",
    "\n",
    "def llena_matriz(m):\n",
    "    for i in range(m.shape[0]):\n",
    "        for j in range(m.shape[1]):\n",
    "            m[i,j] = np.random.randint(-10, 11)\n",
    "\n",
    "    "
   ]
  },
  {
   "cell_type": "code",
   "execution_count": 4,
   "metadata": {},
   "outputs": [],
   "source": [
    "#define la función suma_positivos (matriz) que recibe una matriz de números enteros. La función regresará el resultado de sumar todos los valores positivos contenidos en la matriz.\n",
    "\n",
    "def suma_positivos(m):\n",
    "    suma = 0\n",
    "    for i in range(m.shape[0]):\n",
    "        for j in range(m.shape[1]):\n",
    "            if m[i,j] > 0:\n",
    "                suma += m[i,j]\n",
    "    return suma"
   ]
  },
  {
   "cell_type": "code",
   "execution_count": 6,
   "metadata": {},
   "outputs": [
    {
     "name": "stdout",
     "output_type": "stream",
     "text": [
      "EJERCICIO 1\n",
      "(2, 3)\n",
      "6\n",
      "\n",
      "   1    1    1 \n",
      "   1    1    1 \n",
      "\n",
      "  -6    9    9 \n",
      "  -2   -3    5 \n",
      "La suma de los números positivos es:  23\n"
     ]
    }
   ],
   "source": [
    "def main():\n",
    "    print(\"EJERCICIO 1\")\n",
    "    renglones = int(input(\"Número de renglones: \"))\n",
    "    columnas = int(input(\"Número de columnas: \"))\n",
    "\n",
    "    matriz = np.ones((renglones, columnas), dtype=int)\n",
    "\n",
    "    print(matriz.shape)\n",
    "    print (matriz.size) \n",
    "\n",
    "    imprime_matriz(matriz)\n",
    "    llena_matriz(matriz)\n",
    "    imprime_matriz(matriz)\n",
    "    print(\"La suma de los números positivos es: \", suma_positivos(matriz))\n",
    "\n",
    "main()"
   ]
  },
  {
   "cell_type": "markdown",
   "metadata": {},
   "source": [
    "---------------------------\n",
    "# Ejercicio 2"
   ]
  },
  {
   "cell_type": "code",
   "execution_count": 8,
   "metadata": {},
   "outputs": [
    {
     "name": "stdout",
     "output_type": "stream",
     "text": [
      "EJERCICIO 2\n",
      "\n",
      "94524935819384    0 \n",
      " 192    0 \n",
      "\n",
      "Matriz 1\n",
      "\n",
      "  -2    1 \n",
      "  -5    8 \n",
      "\n",
      "\n",
      "Matriz 2\n",
      "\n",
      "   3    8 \n",
      "   9    5 \n",
      "\n",
      "\n",
      "   1    9 \n",
      "   4   13 \n",
      "\n",
      "\n",
      "  -5   -7 \n",
      " -14    3 \n",
      "\n",
      "\n",
      "  -6    8 \n",
      " -45   40 \n",
      "\n",
      "\n",
      "   0    0 \n",
      "   0    1 \n",
      "\n",
      "\n",
      "Matriz 4\n",
      "\n",
      "  -2    1 \n",
      "  -5    8 \n",
      "   3    8 \n",
      "   9    5 \n"
     ]
    }
   ],
   "source": [
    "def main():\n",
    "    print(\"EJERCICIO 2\")\n",
    "    renglones = int(input(\"Número de renglones: \"))\n",
    "    columnas = int(input(\"Número de columnas: \"))\n",
    "\n",
    "    mat1 =np.empty((renglones, columnas), dtype=int)\n",
    "\n",
    "    imprime_matriz(mat1)\n",
    "    llena_matriz(mat1)\n",
    "    print()\n",
    "    print(\"Matriz 1\")\n",
    "    imprime_matriz(mat1)\n",
    "    print()\n",
    "\n",
    "    mat2 = np.random.randint(1, 10, (renglones, columnas))\n",
    "    print()\n",
    "    print(\"Matriz 2\")\n",
    "\n",
    "    imprime_matriz(mat2)\n",
    "    print()\n",
    "\n",
    "    mat3 = mat1 + mat2\n",
    "    imprime_matriz(mat3)\n",
    "    print()\n",
    "\n",
    "    mat3 = mat1 - mat2\n",
    "    imprime_matriz(mat3)\n",
    "    print()\n",
    "\n",
    "    mat3 = mat1 * mat2\n",
    "    imprime_matriz(mat3)\n",
    "    print()\n",
    "\n",
    "    mat3 = mat1 / mat2\n",
    "    imprime_matriz(mat3)\n",
    "    print()\n",
    "\n",
    "    mat4 = np.concatenate((mat1, mat2), axis=0)\n",
    "    print()\n",
    "    print(\"Matriz 4\")\n",
    "    imprime_matriz(mat4)\n",
    "\n",
    "main()\n",
    "\n",
    "\n",
    "\n",
    "    "
   ]
  }
 ],
 "metadata": {
  "kernelspec": {
   "display_name": "Python 3",
   "language": "python",
   "name": "python3"
  },
  "language_info": {
   "codemirror_mode": {
    "name": "ipython",
    "version": 3
   },
   "file_extension": ".py",
   "mimetype": "text/x-python",
   "name": "python",
   "nbconvert_exporter": "python",
   "pygments_lexer": "ipython3",
   "version": "3.11.6"
  }
 },
 "nbformat": 4,
 "nbformat_minor": 2
}
