{
 "cells": [
  {
   "cell_type": "markdown",
   "metadata": {},
   "source": [
    "# Actividad 21 - Arreglos\n",
    "## Juan Manuel González Ascencio - A00572003\n",
    "\n",
    "-----------------------\n",
    "\n",
    "- Genere un arreglo de Numpy de puros ceros de tipo de dato \"int\" de 30 elementos. Imprime el arreglo.\n",
    "- Genere un arreglo de Numpy con 40 elementos de tipo float sin inicializar. Usa la función empty. Imprime el arreglo.\n",
    "- Genere un arreglo de Numpy con números que vayan del 10 al 20. Usa la función arange(). Imprime el arreglo.\n",
    "- Genere un arreglo de Numpy con números entre 1 y 30 con incrementos de 4, es decir: [1 5 9....]. Usa la función arange(). Imprime el arreglo.\n",
    "- Genere un arreglo de Numpy con 10 elementos de tipo float entre 10 y 30 igualmente espaciados. Usa la función linspace. Imprime el arreglo.\n",
    "- Genera un arreglo de Numpy llamado arreglo1 con 6 números aleatorios enteros entre 5 y 15  y genera otro arreglo llamado arreglo2 con 8 números aleatorios enteros entre 30 y 50. Concatena ambos arreglos en un arreglo llamado arreglo3. Imprime los tres arreglos."
   ]
  },
  {
   "cell_type": "code",
   "execution_count": 1,
   "metadata": {},
   "outputs": [],
   "source": [
    "import numpy as np"
   ]
  },
  {
   "cell_type": "code",
   "execution_count": 7,
   "metadata": {},
   "outputs": [
    {
     "name": "stdout",
     "output_type": "stream",
     "text": [
      "[0 0 0 0 0 0 0 0 0 0 0 0 0 0 0 0 0 0 0 0 0 0 0 0 0 0 0 0 0 0]\n",
      "[4.67402339e-310 0.00000000e+000 6.92107392e-310 6.92107540e-310\n",
      " 6.92107502e-310 6.92107492e-310 6.92107492e-310 6.92107492e-310\n",
      " 6.92107697e-310 6.92107502e-310 6.92107502e-310 6.92107500e-310\n",
      " 6.92107502e-310 6.92107694e-310 6.92107697e-310 6.92107502e-310\n",
      " 6.92107490e-310 6.92107502e-310 6.92107696e-310 6.92107694e-310\n",
      " 6.92107696e-310 6.92107502e-310 6.92107488e-310 6.92107502e-310\n",
      " 6.92107697e-310 6.92107696e-310 6.92107696e-310 6.92107697e-310\n",
      " 6.92107697e-310 6.92107545e-310 6.92107539e-310 6.92107492e-310\n",
      " 6.92107633e-310 6.92107697e-310 6.92107492e-310 2.16282177e-319\n",
      " 7.24462626e-314 5.90257878e+250 4.44659081e-323 2.43034830e-313]\n",
      "[ 1  5  9 13 17 21 25 29]\n",
      "[10.         12.22222222 14.44444444 16.66666667 18.88888889 21.11111111\n",
      " 23.33333333 25.55555556 27.77777778 30.        ]\n",
      "[ 9  6  6  9 10  7]\n",
      "[45 34 31 43 35 38 48 32]\n",
      "[ 9  6  6  9 10  7 45 34 31 43 35 38 48 32]\n"
     ]
    }
   ],
   "source": [
    "# Genere un arreglo de Numpy de puros ceros de tipo de dato \"int\" de 30 elementos. Imprime el arreglo.\n",
    "arr = np.zeros(30, dtype=int)\n",
    "print(arr)\n",
    "\n",
    "#Genere un arreglo de Numpy con 40 elementos de tipo float sin inicializar. Usa la función empty. Imprime el arreglo.\n",
    "arr2 = np.empty(40, dtype=float)\n",
    "print(arr2)\n",
    "\n",
    "#Genere un arreglo de Numpy con números entre 1 y 30 con incrementos de 4, es decir: [1 5 9....]. Usa la función arange(). Imprime el arreglo.\n",
    "\n",
    "arr3 = np.arange(1, 30, 4)\n",
    "print(arr3)\n",
    "\n",
    "#Genere un arreglo de Numpy con 10 elementos de tipo float entre 10 y 30 igualmente espaciados. Usa la función linspace. Imprime el arreglo.\n",
    "arr4 = np.linspace(10, 30, 10, dtype=float)\n",
    "print(arr4)\n",
    "\n",
    "#Genera un arreglo de Numpy llamado arreglo1 con 6 números aleatorios enteros entre 5 y 15  y genera otro arreglo llamado arreglo2 con 8 números aleatorios enteros entre 30 y 50. Concatena ambos arreglos en un arreglo llamado arreglo3. Imprime los tres arreglos.\n",
    "\n",
    "arreglo1 = np.random.randint(5, 15, 6)\n",
    "arreglo2 = np.random.randint(30, 50, 8)\n",
    "arreglo3 = np.concatenate((arreglo1, arreglo2))\n",
    "print(arreglo1)\n",
    "print(arreglo2)\n",
    "print(arreglo3)\n",
    "\n"
   ]
  },
  {
   "cell_type": "code",
   "execution_count": 13,
   "metadata": {},
   "outputs": [
    {
     "name": "stdout",
     "output_type": "stream",
     "text": [
      "[ 1  6  9  9 -3 11  7  9  4 10]\n",
      "43\n"
     ]
    }
   ],
   "source": [
    "#Crea la función suma_impares que recibe un arreglo de números enteros. Utiliza el ciclo for para recorrer todo el arreglo. La función regresa la suma de todos los elementos impares del arreglo.\n",
    "\n",
    "def suma_impares(arr):\n",
    "    suma = 0\n",
    "    for i in arr:\n",
    "        if i % 2 != 0:\n",
    "            suma = suma + i\n",
    "    return suma\n",
    "\n",
    "def main():\n",
    "    arreglo = np.random.randint(-5,12,10)\n",
    "    print(arreglo)\n",
    "    print(suma_impares(arreglo))\n",
    "\n",
    "main()\n",
    "\n"
   ]
  },
  {
   "cell_type": "code",
   "execution_count": 15,
   "metadata": {},
   "outputs": [
    {
     "name": "stdout",
     "output_type": "stream",
     "text": [
      "[ 9  7  5 -5  1 -3 10  0  5  6]\n",
      "[ 18  14  10 -10   2  -6  20   0  10  12]\n"
     ]
    }
   ],
   "source": [
    "#Crea la función multiplica_arreglo que recibe un arreglo de números enteros y un valor entero x. La función debe de multiplicar cada localidad del arreglo por x y el resultado de la multiplicación asignarla a su respectiva casilla. Utiliza el ciclo for para recorrer todo el arreglo\n",
    "\n",
    "def multiplica_arreglo(arr, x):\n",
    "    for i in range(len(arr)):\n",
    "        arr[i] = arr[i] * x\n",
    "    return arr\n",
    "\n",
    "def main():\n",
    "    arreglo = np.random.randint(-5,12,10)\n",
    "    print(arreglo)\n",
    "    x = int(input(\"Dame un número entero: \"))\n",
    "    print(multiplica_arreglo(arreglo, x))  \n",
    "\n",
    "main()\n",
    "\n"
   ]
  },
  {
   "cell_type": "code",
   "execution_count": 16,
   "metadata": {},
   "outputs": [
    {
     "name": "stdout",
     "output_type": "stream",
     "text": [
      "[ 4  6 -5  9 -1  4  3  0  7 11]\n",
      "3\n"
     ]
    }
   ],
   "source": [
    "#Crea la función cuenta_multiplos que recibe un arreglo de números enteros y un valor entero x. La función deberá regresar el resultado de contar todos los elementos múltiplos de x contenidos en el arreglo. NOTA: Los valores negativos no son contemplados. Utiliza el ciclo for para recorrer todo el arreglo.\n",
    "\n",
    "def cuenta_multiplos(arr, x):\n",
    "    contador = 0\n",
    "    for i in arr:\n",
    "        if i % x == 0 and i > 0:\n",
    "            contador += 1\n",
    "    return contador\n",
    "\n",
    "def main():\n",
    "    arreglo = np.random.randint(-5,12,10)\n",
    "    print(arreglo)\n",
    "    x = int(input(\"Dame un número entero: \"))\n",
    "    print(cuenta_multiplos(arreglo, x))\n",
    "\n",
    "main()\n"
   ]
  }
 ],
 "metadata": {
  "kernelspec": {
   "display_name": "Python 3",
   "language": "python",
   "name": "python3"
  },
  "language_info": {
   "codemirror_mode": {
    "name": "ipython",
    "version": 3
   },
   "file_extension": ".py",
   "mimetype": "text/x-python",
   "name": "python",
   "nbconvert_exporter": "python",
   "pygments_lexer": "ipython3",
   "version": "3.11.6"
  }
 },
 "nbformat": 4,
 "nbformat_minor": 2
}
