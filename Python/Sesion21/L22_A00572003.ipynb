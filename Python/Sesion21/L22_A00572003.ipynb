{
 "cells": [
  {
   "cell_type": "markdown",
   "metadata": {},
   "source": [
    "# Laboratorio matrices\n",
    "## Juan Manuel González Ascencio "
   ]
  },
  {
   "cell_type": "code",
   "execution_count": 1,
   "metadata": {},
   "outputs": [],
   "source": [
    "import numpy as np"
   ]
  },
  {
   "cell_type": "code",
   "execution_count": 3,
   "metadata": {},
   "outputs": [],
   "source": [
    "def captura_matriz(m):\n",
    "    for i in range(m.shape[0]):\n",
    "        for j in range(m.shape[1]):\n",
    "            num = int(input(\"Dame un numero: \"))\n",
    "            m[i,j] = (num)"
   ]
  },
  {
   "cell_type": "code",
   "execution_count": 12,
   "metadata": {},
   "outputs": [],
   "source": [
    "def imprime_matriz(m):\n",
    "    print()\n",
    "    for i in range(m.shape[0]):\n",
    "        for j in range(m.shape[1]):\n",
    "            print(\"%4i\"% m[i,j], end=\" \")\n",
    "        print()"
   ]
  },
  {
   "cell_type": "code",
   "execution_count": 14,
   "metadata": {},
   "outputs": [],
   "source": [
    "def multiplica_columnaX2(m, c):\n",
    "    for i in range (m.shape[0]):\n",
    "        for j in range (m.shape[1]):\n",
    "            if j == c:\n",
    "                m[i,j] = m[i,j] * 2"
   ]
  },
  {
   "cell_type": "code",
   "execution_count": 18,
   "metadata": {},
   "outputs": [],
   "source": [
    "def cuenta_pares(m):\n",
    "    pares = 0\n",
    "    for i in range (m.shape[0]):\n",
    "        for j in range (m.shape[1]):\n",
    "            if m[i,j] % 2 == 0:\n",
    "                pares += 1\n",
    "    return pares"
   ]
  },
  {
   "cell_type": "code",
   "execution_count": 21,
   "metadata": {},
   "outputs": [
    {
     "name": "stdout",
     "output_type": "stream",
     "text": [
      "\n",
      "   0    0 \n",
      "   0    0 \n",
      "   0    0 \n",
      "\n",
      "  25    3 \n",
      "   6    9 \n",
      "   8    4 \n",
      "\n",
      "  50    3 \n",
      "  12    9 \n",
      "  16    4 \n",
      "El arreglo de la columna 0 es:  [50 12 16]\n",
      "La suma de los elementos de la columna 0 es: 78\n",
      "La matriz tiene 4 numeros pares\n"
     ]
    }
   ],
   "source": [
    "def main ():\n",
    "    r = int(input(\"Numero de renglones: \"))\n",
    "    c = int(input(\"Numero de columnas: \"))\n",
    "    m = np.zeros((r,c), dtype=int)\n",
    "    imprime_matriz(m)\n",
    "    captura_matriz(m)\n",
    "    imprime_matriz(m)\n",
    "\n",
    "    col = int(input(\"Dame la columna a multiplicar por 2: \"))\n",
    "    multiplica_columnaX2(m, col)\n",
    "    imprime_matriz(m)\n",
    "\n",
    "    arreglo = m[:,col]\n",
    "    print(\"El arreglo de la columna %i es: \"% col, arreglo)\n",
    "    res = np.sum(arreglo)\n",
    "    print(\"La suma de los elementos de la columna %i es: %i\"% (col, res))    \n",
    "\n",
    "    pares = cuenta_pares(m)\n",
    "    print(\"La matriz tiene %i numeros pares\"% pares)\n",
    "\n",
    "\n",
    "\n",
    "main()"
   ]
  }
 ],
 "metadata": {
  "kernelspec": {
   "display_name": "Python 3",
   "language": "python",
   "name": "python3"
  },
  "language_info": {
   "codemirror_mode": {
    "name": "ipython",
    "version": 3
   },
   "file_extension": ".py",
   "mimetype": "text/x-python",
   "name": "python",
   "nbconvert_exporter": "python",
   "pygments_lexer": "ipython3",
   "version": "3.11.6"
  }
 },
 "nbformat": 4,
 "nbformat_minor": 2
}
