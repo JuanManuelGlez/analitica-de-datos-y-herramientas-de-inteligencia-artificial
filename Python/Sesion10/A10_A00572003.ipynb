{
 "cells": [
  {
   "cell_type": "markdown",
   "metadata": {},
   "source": [
    "# Actividad 10 - Diccionarios y tuplas\n",
    "## Juan Manuel González Ascencio - A00572003"
   ]
  },
  {
   "cell_type": "code",
   "execution_count": 1,
   "metadata": {},
   "outputs": [
    {
     "name": "stdout",
     "output_type": "stream",
     "text": [
      "{'Papa': 12.0}\n",
      "{'Papa': 12.0, 'Pera': 45.0}\n",
      "{'Papa': 12.0, 'Pera': 45.0, 'Aguacate': 189.0}\n"
     ]
    }
   ],
   "source": [
    "#Diseña la función lista_compras () que cree un diccionario que simule una lista de compras. La función deberá preguntar el artículo y su precio y añadir el par de datos al diccionario, hasta que el usuario decida terminar. Cada vez que se añadan datos, debe imprimirse el contenido del diccionario. La función deberá regresar el diccionario con los datos de los artículos comprados.  En el main se debe imprimir el diccionario final.\n",
    "\n",
    "def lista_compras():\n",
    "    diccionario = {}\n",
    "    while True:\n",
    "        articulo = input(\"Ingrese el articulo: \")\n",
    "        precio = float(input(\"Ingrese el precio: \"))\n",
    "        diccionario[articulo] = precio\n",
    "        print(diccionario)\n",
    "        continuar = input(\"Desea continuar? (s/n): \")\n",
    "        if continuar == \"n\":\n",
    "            break\n",
    "    return diccionario\n",
    "\n",
    "def main():\n",
    "    lista_compras()\n",
    "\n",
    "main()"
   ]
  },
  {
   "cell_type": "code",
   "execution_count": 4,
   "metadata": {},
   "outputs": [
    {
     "name": "stdout",
     "output_type": "stream",
     "text": [
      "{'Azucar': 26.0}\n",
      "{'Azucar': 26.0, 'maiz pozolero': 38.0}\n",
      "{'Azucar': 26.0, 'maiz pozolero': 38.0, 'Te verde': 20.0}\n",
      "Azucar  Precio:  26.0\n",
      "maiz pozolero  Precio:  38.0\n",
      "Te verde  Precio:  20.0\n",
      "El total de la compra es: 84.0\n"
     ]
    }
   ],
   "source": [
    "#Diseña la función imprime_compras (diccionario) que recibe el diccionario creado en la función lista_compras() y muestra en pantalla la lista de las compras y el costo total\n",
    "\n",
    "def imprime_compras(diccionario):\n",
    "    total = 0\n",
    "    for articulo, precio in diccionario.items():\n",
    "        print(articulo,\" Precio: \", precio)\n",
    "        total += precio\n",
    "    print(f\"El total de la compra es: {total}\")\n",
    "\n",
    "def main():\n",
    "    diccionario = lista_compras()\n",
    "    print(\"Lista de compras:\")\n",
    "    imprime_compras(diccionario)\n",
    "\n",
    "main()\n"
   ]
  },
  {
   "cell_type": "code",
   "execution_count": 5,
   "metadata": {},
   "outputs": [
    {
     "name": "stdout",
     "output_type": "stream",
     "text": [
      "8\n",
      "3\n",
      "3\n",
      "2.5\n"
     ]
    }
   ],
   "source": [
    "#Diseñe la función promedio que reciba una tupla como parámetro de entrada y con un ciclo for regrese el valor promedio de los elementos almacenados en la tupla. NOTA: Utiliza el ciclo for y un acumulador.\n",
    "\n",
    "def promedio(tupla):\n",
    "    suma = 0\n",
    "    for i in tupla:\n",
    "        suma += i\n",
    "    promedio = suma / len(tupla)\n",
    "    return promedio\n",
    "\n",
    "def main():\n",
    "    #Almacene una tupla con los valores: 1, 2, 2, 2, 3, 3, 3, 4 y llámela t.\n",
    "    t = (1, 2, 2, 2, 3, 3, 3, 4)\n",
    "    #Imprima el tamaño de la tupla con la función len.\n",
    "    print(len(t))\n",
    "    #utilisando la función count, imprima el conteo de elementos igual a 2 y de elementos igual a 3.\n",
    "    print(t.count(2))\n",
    "    print(t.count(3))\n",
    "    #Llama a la función promedio con la tupla creada t e imprime el resultado de la función.\n",
    "    print(promedio(t))\n",
    "\n",
    "main()\n"
   ]
  }
 ],
 "metadata": {
  "kernelspec": {
   "display_name": "Python 3",
   "language": "python",
   "name": "python3"
  },
  "language_info": {
   "codemirror_mode": {
    "name": "ipython",
    "version": 3
   },
   "file_extension": ".py",
   "mimetype": "text/x-python",
   "name": "python",
   "nbconvert_exporter": "python",
   "pygments_lexer": "ipython3",
   "version": "3.11.6"
  }
 },
 "nbformat": 4,
 "nbformat_minor": 2
}
