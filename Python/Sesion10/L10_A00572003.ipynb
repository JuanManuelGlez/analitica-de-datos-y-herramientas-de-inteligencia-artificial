{
 "cells": [
  {
   "cell_type": "markdown",
   "metadata": {},
   "source": [
    "# Laboratorio 9 - Diccionarios\n",
    "## Juan Manuel González Ascencio\n"
   ]
  },
  {
   "cell_type": "code",
   "execution_count": 6,
   "metadata": {},
   "outputs": [
    {
     "name": "stdout",
     "output_type": "stream",
     "text": [
      "¥\n",
      "La divisa no está en el diccionario\n",
      "£\n"
     ]
    }
   ],
   "source": [
    "# La función encuentra_simbolo (diccionario, divisa) que recibe un diccionario con los siguientes elementos: {\"Euro\":'€', \"Yen\":'¥', \"Peso\": '$', \"Libra esterlina\": '£' } y el nombre de una divisa. La función deberá regresar el simbolo de la divisa que recibe como parámetro o un mensaje de aviso si la divisa no está en el diccionario.  \n",
    "def encuentra_simbolo(diccionario, divisa):\n",
    "    if divisa in diccionario:\n",
    "        return diccionario[divisa]\n",
    "    else:\n",
    "        return \"La divisa no está en el diccionario\"\n",
    "    \n",
    "def main ():\n",
    "    diccionario = {\"Euro\":'€', \"Yen\":'¥', \"Peso\": '$', \"Libra esterlina\": '£' }\n",
    "    divisa = input(\"Introduce la divisa: \")\n",
    "    print(encuentra_simbolo(diccionario, divisa))\n",
    "\n",
    "main()\n",
    "main()\n",
    "main()"
   ]
  },
  {
   "cell_type": "code",
   "execution_count": 7,
   "metadata": {},
   "outputs": [
    {
     "name": "stdout",
     "output_type": "stream",
     "text": [
      "Chosno tiene 22 años, vive en Av siempre viva 123 y su número de teléfono es 47789654\n"
     ]
    }
   ],
   "source": [
    "#La función guarda_datos (nombre, edad, direccion, telefono) que recibe el nombre, edad, dirección y teléfono de un usuario. La función deberá regresar un diccionario con los datos dados por el usuario. En el main, mostrar en pantalla los datos del usuario con el siguiente formato: <nombre> tiene <edad> años, vive en <dirección> y su número de teléfono es <teléfono>.\n",
    "\n",
    "def guarda_datos(nombre, edad, direccion, telefono):\n",
    "    diccionario = {\"Nombre\": nombre, \"Edad\": edad, \"Dirección\": direccion, \"Teléfono\": telefono}\n",
    "    return diccionario\n",
    "\n",
    "def main():\n",
    "    nombre = input(\"Introduce tu nombre: \")\n",
    "    edad = input(\"Introduce tu edad: \")\n",
    "    direccion = input(\"Introduce tu dirección: \")\n",
    "    telefono = input(\"Introduce tu teléfono: \")\n",
    "    datos = guarda_datos(nombre, edad, direccion, telefono)\n",
    "    print(datos[\"Nombre\"], \"tiene\", datos[\"Edad\"], \"años, vive en\", datos[\"Dirección\"], \"y su número de teléfono es\", datos[\"Teléfono\"])\n",
    "\n",
    "main()\n"
   ]
  },
  {
   "cell_type": "code",
   "execution_count": 18,
   "metadata": {},
   "outputs": [
    {
     "name": "stdout",
     "output_type": "stream",
     "text": [
      "La fruta no está en el diccionario\n"
     ]
    }
   ],
   "source": [
    "#La función calcula_costo (diccionario, fruta, kilos) que recibe un diccionario con los datos de los precios de las frutas de la tabla, el nombre de una fruta y el número de kilos. La función deberá calcular el costo total de ese número de kilos de fruta. Si la fruta no está en el diccionario deberá mostrar un mensaje informando de ello\n",
    "\n",
    "def calcula_costo(diccionario, fruta, kilos):\n",
    "    if fruta in diccionario:\n",
    "        return diccionario[fruta] * kilos\n",
    "    else:\n",
    "        return \"La fruta no está en el diccionario\"\n",
    "    \n",
    "def main():\n",
    "    diccionario = {\"Platano\": 22.1, \"Manzana\": 39.9, \"Pera\": 18.2, \"Naranja\": 15.5}\n",
    "    fruta = input(\"Introduce la fruta: \")\n",
    "    kilos = int(input(\"Introduce el número de kilos: \"))\n",
    "    print(calcula_costo(diccionario, fruta, kilos))\n",
    "\n",
    "main()"
   ]
  },
  {
   "cell_type": "code",
   "execution_count": 16,
   "metadata": {},
   "outputs": [
    {
     "name": "stdout",
     "output_type": "stream",
     "text": [
      "{'Nombre ': 'Juan '}\n",
      "{'Nombre ': 'Juan ', 'Apellido ': 'Glez'}\n"
     ]
    }
   ],
   "source": [
    "#La función llena_datos () que cree un diccionario vacío y lo vaya llenado con información sobre una persona (por ejemplo nombre, edad, sexo, teléfono, correo electrónico, etc.) que se le pida al usuario. Cada vez que se añada un nuevo dato se debe imprimir el contenido del diccionario.\n",
    "\n",
    "def llena_datos():\n",
    "    diccionario = {}\n",
    "    while True:\n",
    "        dato = input(\"Introduce un dato: \")\n",
    "        valor = input(\"Introduce el valor del dato: \")\n",
    "        diccionario[dato] = valor\n",
    "        print(diccionario)\n",
    "        continuar = input(\"¿Desea introducir otro dato? (s/n): \")\n",
    "        if continuar == \"n\":\n",
    "            break\n",
    "    return diccionario\n",
    "\n",
    "def main():\n",
    "    llena_datos()\n",
    "\n",
    "main()"
   ]
  },
  {
   "cell_type": "code",
   "execution_count": 17,
   "metadata": {},
   "outputs": [
    {
     "name": "stdout",
     "output_type": "stream",
     "text": [
      "{'Nombre ': 'Chosno'}\n",
      "{'Nombre ': 'Chosno', 'Apellido ': 'Glez '}\n",
      "{'Nombre ': 'Chosno', 'Apellido ': 'Glez '}\n",
      "Total de datos capturados: 2\n"
     ]
    }
   ],
   "source": [
    "#La función imprime_y_cuenta (diccionario) que recibe el diccionario creado en la función llena_datos() y muestra en pantalla la lista de datos y al final el total de datos capturados, con el siguiente formato:\n",
    "\n",
    "def imprime_y_cuenta(diccionario):\n",
    "    print(diccionario)\n",
    "    print(\"Total de datos capturados:\", len(diccionario))\n",
    "\n",
    "def main():\n",
    "    diccionario = llena_datos()\n",
    "    imprime_y_cuenta(diccionario)\n",
    "\n",
    "main()"
   ]
  }
 ],
 "metadata": {
  "kernelspec": {
   "display_name": "Python 3",
   "language": "python",
   "name": "python3"
  },
  "language_info": {
   "codemirror_mode": {
    "name": "ipython",
    "version": 3
   },
   "file_extension": ".py",
   "mimetype": "text/x-python",
   "name": "python",
   "nbconvert_exporter": "python",
   "pygments_lexer": "ipython3",
   "version": "3.11.6"
  }
 },
 "nbformat": 4,
 "nbformat_minor": 2
}
