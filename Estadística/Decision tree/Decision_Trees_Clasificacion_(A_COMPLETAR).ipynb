{
  "cells": [
    {
      "cell_type": "markdown",
      "metadata": {
        "id": "7EglQUTBSFKK"
      },
      "source": [
        "### WorkShop: Árbol de Decisión modelo de Clasificación en Scikit-Learn - Titanic\n",
        "\n",
        "**Resolución**: EDA (Análisis Exploratorio de Datos)"
      ]
    },
    {
      "cell_type": "markdown",
      "metadata": {
        "id": "3k4kEDPiSFKM"
      },
      "source": [
        "1. Importar las librerías necesarias para la realización del desafío y el dataset propuesto para la ejercitación."
      ]
    },
    {
      "cell_type": "code",
      "execution_count": null,
      "metadata": {
        "id": "jvSNKcutSFKM"
      },
      "outputs": [],
      "source": [
        "###Completar"
      ]
    },
    {
      "cell_type": "markdown",
      "metadata": {
        "id": "_xgd_AIsSFKN"
      },
      "source": [
        "2. Imprimir las 5 primeras filas del dataset."
      ]
    },
    {
      "cell_type": "code",
      "execution_count": null,
      "metadata": {
        "id": "SVBPt_1dSFKO"
      },
      "outputs": [],
      "source": [
        "###Completar"
      ]
    },
    {
      "cell_type": "markdown",
      "metadata": {
        "id": "bKnv7elaSFKP"
      },
      "source": [
        "3. Imprimir las 5 últimas filas del dataset."
      ]
    },
    {
      "cell_type": "code",
      "execution_count": null,
      "metadata": {
        "id": "FZUSAcL7SFKQ"
      },
      "outputs": [],
      "source": [
        "###Completar"
      ]
    },
    {
      "cell_type": "markdown",
      "metadata": {
        "id": "M5-wY64ESFKQ"
      },
      "source": [
        "4. Imprimir las dimensiones del dataset."
      ]
    },
    {
      "cell_type": "code",
      "execution_count": null,
      "metadata": {
        "id": "XQsQPjRESFKR"
      },
      "outputs": [],
      "source": [
        "###Completar"
      ]
    },
    {
      "cell_type": "markdown",
      "metadata": {
        "id": "cgKecMEwSFKT"
      },
      "source": [
        "5. Obtener la totalidad de registros por columnas"
      ]
    },
    {
      "cell_type": "code",
      "execution_count": null,
      "metadata": {
        "id": "vxmN-cFKSFKT"
      },
      "outputs": [],
      "source": [
        "###Completar"
      ]
    },
    {
      "cell_type": "markdown",
      "metadata": {
        "id": "vxulgHH0SFKU"
      },
      "source": [
        "6. Analizar el tipo de dato de cada columna"
      ]
    },
    {
      "cell_type": "code",
      "execution_count": null,
      "metadata": {
        "id": "ByLWAadySFKU"
      },
      "outputs": [],
      "source": [
        "###Completar"
      ]
    },
    {
      "cell_type": "markdown",
      "metadata": {
        "id": "kyz4nSQ4SFKV"
      },
      "source": [
        "7. Obtener el tipo de estructura del dataset ESTE NO!"
      ]
    },
    {
      "cell_type": "code",
      "execution_count": null,
      "metadata": {
        "id": "vvW1rRDySFKV"
      },
      "outputs": [],
      "source": [
        "###Completar"
      ]
    },
    {
      "cell_type": "markdown",
      "metadata": {
        "id": "PCd_MrGbSFKV"
      },
      "source": [
        "8. Listar los nombres de las columnas"
      ]
    },
    {
      "cell_type": "code",
      "execution_count": null,
      "metadata": {
        "id": "4LdqxuhxSFKV"
      },
      "outputs": [],
      "source": [
        "###Completar"
      ]
    },
    {
      "cell_type": "markdown",
      "metadata": {
        "id": "r1Z-aDOHSFKW"
      },
      "source": [
        "**Resolución**: Machine Learning - Modelo de Clasificación"
      ]
    },
    {
      "cell_type": "markdown",
      "metadata": {
        "id": "1WwNuBjkSFKW"
      },
      "source": [
        "9.\tSeparar los features en X e y"
      ]
    },
    {
      "cell_type": "code",
      "execution_count": null,
      "metadata": {
        "id": "ZtACk8BDSFKW"
      },
      "outputs": [],
      "source": [
        "###Completar"
      ]
    },
    {
      "cell_type": "markdown",
      "metadata": {
        "id": "JkhHOo17SFKX"
      },
      "source": [
        "10. Separar los datos en Train (70 %) y Test (30 %) con un random_state=42."
      ]
    },
    {
      "cell_type": "code",
      "execution_count": null,
      "metadata": {
        "id": "7cCboYFySFKX"
      },
      "outputs": [],
      "source": [
        "###Completar"
      ]
    },
    {
      "cell_type": "markdown",
      "metadata": {
        "id": "aEAeAUR0SFKX"
      },
      "source": [
        "11.\tCrear un objeto de Árbol de Decisión para un modelo de clasificación, con un Nivel de Profundidad = 2 y una Semilla para la reproducibilidad = 42"
      ]
    },
    {
      "cell_type": "code",
      "execution_count": null,
      "metadata": {
        "id": "fPfSiStZSFKX"
      },
      "outputs": [],
      "source": [
        "###Completar"
      ]
    },
    {
      "cell_type": "markdown",
      "metadata": {
        "id": "vUQJeTuiSFKY"
      },
      "source": [
        "12.\tEntrenar el modelo creado"
      ]
    },
    {
      "cell_type": "code",
      "execution_count": null,
      "metadata": {
        "id": "v6u_OpZ1SFKY"
      },
      "outputs": [],
      "source": [
        "###Completar"
      ]
    },
    {
      "cell_type": "markdown",
      "metadata": {
        "id": "lm0KZU3pSFKY"
      },
      "source": [
        "13. Realizar la predicción del modelo en Train y Test"
      ]
    },
    {
      "cell_type": "code",
      "execution_count": null,
      "metadata": {
        "id": "Yk62ETwNSFKZ"
      },
      "outputs": [],
      "source": [
        "###Completar"
      ]
    },
    {
      "cell_type": "markdown",
      "metadata": {
        "id": "sImdIYAxSFKZ"
      },
      "source": [
        "14.\tCalcular la métrica de Accuracy en Train y Test"
      ]
    },
    {
      "cell_type": "code",
      "execution_count": null,
      "metadata": {
        "id": "1oICC3k-SFKZ"
      },
      "outputs": [],
      "source": [
        "###Completar"
      ]
    },
    {
      "cell_type": "markdown",
      "metadata": {
        "id": "CQNu0hbASFKZ"
      },
      "source": [
        "15. Graficar las variables de importancia del Árbol de Decisión"
      ]
    },
    {
      "cell_type": "code",
      "execution_count": null,
      "metadata": {
        "id": "YsaZ_1DiSFKZ"
      },
      "outputs": [],
      "source": [
        "###Completar"
      ]
    },
    {
      "cell_type": "markdown",
      "metadata": {
        "id": "D_t_2gKCSFKa"
      },
      "source": [
        "16. Despliega la visualización del modelo de árbol de decisión generado"
      ]
    },
    {
      "cell_type": "code",
      "execution_count": null,
      "metadata": {
        "id": "suDGVBuVSFKa"
      },
      "outputs": [],
      "source": [
        "###Completar"
      ]
    },
    {
      "cell_type": "markdown",
      "source": [
        "17. Prueba con otros parámetros para buscar mejorar el modelo previo."
      ],
      "metadata": {
        "id": "p9TywtjlYlda"
      }
    },
    {
      "cell_type": "code",
      "source": [
        "### Completar"
      ],
      "metadata": {
        "id": "Yzf8hiwbYwPg"
      },
      "execution_count": null,
      "outputs": []
    },
    {
      "cell_type": "markdown",
      "metadata": {
        "id": "61aFnwozSFKa"
      },
      "source": [
        "### Conclusiones\n",
        "Incluye tus conclusiones, considerando:\n",
        "* Hay Overfitting?\n",
        "* Hay Underfitting?\n",
        "* Desempeño\n",
        "* Variables más importantes\n",
        "* ¿Cómo se interpretan los resultados de su visualización?"
      ]
    }
  ],
  "metadata": {
    "kernelspec": {
      "display_name": "Python 3 (ipykernel)",
      "language": "python",
      "name": "python3"
    },
    "language_info": {
      "codemirror_mode": {
        "name": "ipython",
        "version": 3
      },
      "file_extension": ".py",
      "mimetype": "text/x-python",
      "name": "python",
      "nbconvert_exporter": "python",
      "pygments_lexer": "ipython3",
      "version": "3.8.10"
    },
    "varInspector": {
      "cols": {
        "lenName": 16,
        "lenType": 16,
        "lenVar": 40
      },
      "kernels_config": {
        "python": {
          "delete_cmd_postfix": "",
          "delete_cmd_prefix": "del ",
          "library": "var_list.py",
          "varRefreshCmd": "print(var_dic_list())"
        },
        "r": {
          "delete_cmd_postfix": ") ",
          "delete_cmd_prefix": "rm(",
          "library": "var_list.r",
          "varRefreshCmd": "cat(var_dic_list()) "
        }
      },
      "types_to_exclude": [
        "module",
        "function",
        "builtin_function_or_method",
        "instance",
        "_Feature"
      ],
      "window_display": false
    },
    "colab": {
      "provenance": []
    }
  },
  "nbformat": 4,
  "nbformat_minor": 0
}