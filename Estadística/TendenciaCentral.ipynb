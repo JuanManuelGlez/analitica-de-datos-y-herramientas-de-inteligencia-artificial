{
 "cells": [
  {
   "cell_type": "markdown",
   "metadata": {},
   "source": [
    "# Estimación de estadísticos de tendencia central \n",
    "## Juan Manuel González Ascencio"
   ]
  },
  {
   "cell_type": "code",
   "execution_count": 25,
   "metadata": {},
   "outputs": [],
   "source": [
    "import pandas as pd\n",
    "import scipy.stats as ss\n",
    "import seaborn as sns"
   ]
  },
  {
   "cell_type": "code",
   "execution_count": 15,
   "metadata": {},
   "outputs": [
    {
     "data": {
      "text/html": [
       "<div>\n",
       "<style scoped>\n",
       "    .dataframe tbody tr th:only-of-type {\n",
       "        vertical-align: middle;\n",
       "    }\n",
       "\n",
       "    .dataframe tbody tr th {\n",
       "        vertical-align: top;\n",
       "    }\n",
       "\n",
       "    .dataframe thead th {\n",
       "        text-align: right;\n",
       "    }\n",
       "</style>\n",
       "<table border=\"1\" class=\"dataframe\">\n",
       "  <thead>\n",
       "    <tr style=\"text-align: right;\">\n",
       "      <th></th>\n",
       "      <th>Número de orden</th>\n",
       "      <th>Unnamed: 1</th>\n",
       "      <th>Nombre de la empresa</th>\n",
       "      <th>Unnamed: 3</th>\n",
       "      <th>Unnamed: 4</th>\n",
       "      <th>Unnamed: 5</th>\n",
       "      <th>Unnamed: 6</th>\n",
       "      <th>Unnamed: 7</th>\n",
       "      <th>Cliente que paga</th>\n",
       "      <th>Unnamed: 9</th>\n",
       "      <th>...</th>\n",
       "      <th>Unnamed: 65</th>\n",
       "      <th>Unnamed: 66</th>\n",
       "      <th>Unnamed: 67</th>\n",
       "      <th>Unnamed: 68</th>\n",
       "      <th>Unnamed: 69</th>\n",
       "      <th>Unnamed: 70</th>\n",
       "      <th>Unnamed: 71</th>\n",
       "      <th>Unnamed: 72</th>\n",
       "      <th>Unnamed: 73</th>\n",
       "      <th>Unnamed: 74</th>\n",
       "    </tr>\n",
       "  </thead>\n",
       "  <tbody>\n",
       "    <tr>\n",
       "      <th>1</th>\n",
       "      <td>1278249</td>\n",
       "      <td>BODTLA11</td>\n",
       "      <td>BODEGA LIVERPOOL TLANEPANTLA</td>\n",
       "      <td>CDTLIVTL</td>\n",
       "      <td>BOD LIVERPOOL TULTITLAN</td>\n",
       "      <td>LIVERDED</td>\n",
       "      <td>DISTRIBUIDORA LIVERPOOL S.A. DE C.V.</td>\n",
       "      <td>CUAJIMALPA DE MORE,CDMX</td>\n",
       "      <td>LIVERDED</td>\n",
       "      <td>DISTRIBUIDORA LIVERPOOL S.A. DE C.V.</td>\n",
       "      <td>...</td>\n",
       "      <td>NaN</td>\n",
       "      <td>NaN</td>\n",
       "      <td>NaN</td>\n",
       "      <td>NaN</td>\n",
       "      <td>NaN</td>\n",
       "      <td>NaN</td>\n",
       "      <td>0</td>\n",
       "      <td>0</td>\n",
       "      <td>0</td>\n",
       "      <td>0</td>\n",
       "    </tr>\n",
       "    <tr>\n",
       "      <th>2</th>\n",
       "      <td>1278382</td>\n",
       "      <td>CDTLIVTL</td>\n",
       "      <td>BOD LIVERPOOL TULTITLAN</td>\n",
       "      <td>BODCUA03</td>\n",
       "      <td>BODEGA LIVERPOOL CUAUTITLAN</td>\n",
       "      <td>LIVERDED</td>\n",
       "      <td>DISTRIBUIDORA LIVERPOOL S.A. DE C.V.</td>\n",
       "      <td>CUAJIMALPA DE MORE,CDMX</td>\n",
       "      <td>LIVERDED</td>\n",
       "      <td>DISTRIBUIDORA LIVERPOOL S.A. DE C.V.</td>\n",
       "      <td>...</td>\n",
       "      <td>NaN</td>\n",
       "      <td>NaN</td>\n",
       "      <td>NaN</td>\n",
       "      <td>NaN</td>\n",
       "      <td>NaN</td>\n",
       "      <td>NaN</td>\n",
       "      <td>0</td>\n",
       "      <td>0</td>\n",
       "      <td>0</td>\n",
       "      <td>0</td>\n",
       "    </tr>\n",
       "    <tr>\n",
       "      <th>3</th>\n",
       "      <td>1278238</td>\n",
       "      <td>LIVPLAN</td>\n",
       "      <td>PLAN LIVERPOOL (PLATAFORMA LOGÍSTICA ARCO NORT...</td>\n",
       "      <td>CDTLIVTL</td>\n",
       "      <td>BOD LIVERPOOL TULTITLAN</td>\n",
       "      <td>LIVERDED</td>\n",
       "      <td>DISTRIBUIDORA LIVERPOOL S.A. DE C.V.</td>\n",
       "      <td>CUAJIMALPA DE MORE,CDMX</td>\n",
       "      <td>LIVERDED</td>\n",
       "      <td>DISTRIBUIDORA LIVERPOOL S.A. DE C.V.</td>\n",
       "      <td>...</td>\n",
       "      <td>NaN</td>\n",
       "      <td>NaN</td>\n",
       "      <td>NaN</td>\n",
       "      <td>NaN</td>\n",
       "      <td>NaN</td>\n",
       "      <td>NaN</td>\n",
       "      <td>0</td>\n",
       "      <td>0</td>\n",
       "      <td>0</td>\n",
       "      <td>0</td>\n",
       "    </tr>\n",
       "    <tr>\n",
       "      <th>4</th>\n",
       "      <td>1278252</td>\n",
       "      <td>CDTLIVTL</td>\n",
       "      <td>BOD LIVERPOOL TULTITLAN</td>\n",
       "      <td>BODCUA03</td>\n",
       "      <td>BODEGA LIVERPOOL CUAUTITLAN</td>\n",
       "      <td>LIVERDED</td>\n",
       "      <td>DISTRIBUIDORA LIVERPOOL S.A. DE C.V.</td>\n",
       "      <td>CUAJIMALPA DE MORE,CDMX</td>\n",
       "      <td>LIVERDED</td>\n",
       "      <td>DISTRIBUIDORA LIVERPOOL S.A. DE C.V.</td>\n",
       "      <td>...</td>\n",
       "      <td>NaN</td>\n",
       "      <td>NaN</td>\n",
       "      <td>NaN</td>\n",
       "      <td>NaN</td>\n",
       "      <td>NaN</td>\n",
       "      <td>NaN</td>\n",
       "      <td>0</td>\n",
       "      <td>0</td>\n",
       "      <td>0</td>\n",
       "      <td>0</td>\n",
       "    </tr>\n",
       "    <tr>\n",
       "      <th>5</th>\n",
       "      <td>1278381</td>\n",
       "      <td>CDTLIVTL</td>\n",
       "      <td>BOD LIVERPOOL TULTITLAN</td>\n",
       "      <td>BODCUA03</td>\n",
       "      <td>BODEGA LIVERPOOL CUAUTITLAN</td>\n",
       "      <td>LIVERDED</td>\n",
       "      <td>DISTRIBUIDORA LIVERPOOL S.A. DE C.V.</td>\n",
       "      <td>CUAJIMALPA DE MORE,CDMX</td>\n",
       "      <td>LIVERDED</td>\n",
       "      <td>DISTRIBUIDORA LIVERPOOL S.A. DE C.V.</td>\n",
       "      <td>...</td>\n",
       "      <td>NaN</td>\n",
       "      <td>NaN</td>\n",
       "      <td>NaN</td>\n",
       "      <td>NaN</td>\n",
       "      <td>NaN</td>\n",
       "      <td>NaN</td>\n",
       "      <td>0</td>\n",
       "      <td>0</td>\n",
       "      <td>0</td>\n",
       "      <td>0</td>\n",
       "    </tr>\n",
       "  </tbody>\n",
       "</table>\n",
       "<p>5 rows × 75 columns</p>\n",
       "</div>"
      ],
      "text/plain": [
       "  Número de orden Unnamed: 1  \\\n",
       "1         1278249   BODTLA11   \n",
       "2         1278382   CDTLIVTL   \n",
       "3         1278238    LIVPLAN   \n",
       "4         1278252   CDTLIVTL   \n",
       "5         1278381   CDTLIVTL   \n",
       "\n",
       "                                Nombre de la empresa Unnamed: 3  \\\n",
       "1                       BODEGA LIVERPOOL TLANEPANTLA   CDTLIVTL   \n",
       "2                            BOD LIVERPOOL TULTITLAN   BODCUA03   \n",
       "3  PLAN LIVERPOOL (PLATAFORMA LOGÍSTICA ARCO NORT...   CDTLIVTL   \n",
       "4                            BOD LIVERPOOL TULTITLAN   BODCUA03   \n",
       "5                            BOD LIVERPOOL TULTITLAN   BODCUA03   \n",
       "\n",
       "                    Unnamed: 4 Unnamed: 5  \\\n",
       "1      BOD LIVERPOOL TULTITLAN   LIVERDED   \n",
       "2  BODEGA LIVERPOOL CUAUTITLAN   LIVERDED   \n",
       "3      BOD LIVERPOOL TULTITLAN   LIVERDED   \n",
       "4  BODEGA LIVERPOOL CUAUTITLAN   LIVERDED   \n",
       "5  BODEGA LIVERPOOL CUAUTITLAN   LIVERDED   \n",
       "\n",
       "                             Unnamed: 6               Unnamed: 7  \\\n",
       "1  DISTRIBUIDORA LIVERPOOL S.A. DE C.V.  CUAJIMALPA DE MORE,CDMX   \n",
       "2  DISTRIBUIDORA LIVERPOOL S.A. DE C.V.  CUAJIMALPA DE MORE,CDMX   \n",
       "3  DISTRIBUIDORA LIVERPOOL S.A. DE C.V.  CUAJIMALPA DE MORE,CDMX   \n",
       "4  DISTRIBUIDORA LIVERPOOL S.A. DE C.V.  CUAJIMALPA DE MORE,CDMX   \n",
       "5  DISTRIBUIDORA LIVERPOOL S.A. DE C.V.  CUAJIMALPA DE MORE,CDMX   \n",
       "\n",
       "  Cliente que paga                            Unnamed: 9  ... Unnamed: 65  \\\n",
       "1         LIVERDED  DISTRIBUIDORA LIVERPOOL S.A. DE C.V.  ...         NaN   \n",
       "2         LIVERDED  DISTRIBUIDORA LIVERPOOL S.A. DE C.V.  ...         NaN   \n",
       "3         LIVERDED  DISTRIBUIDORA LIVERPOOL S.A. DE C.V.  ...         NaN   \n",
       "4         LIVERDED  DISTRIBUIDORA LIVERPOOL S.A. DE C.V.  ...         NaN   \n",
       "5         LIVERDED  DISTRIBUIDORA LIVERPOOL S.A. DE C.V.  ...         NaN   \n",
       "\n",
       "  Unnamed: 66 Unnamed: 67 Unnamed: 68 Unnamed: 69 Unnamed: 70 Unnamed: 71  \\\n",
       "1         NaN         NaN         NaN         NaN         NaN           0   \n",
       "2         NaN         NaN         NaN         NaN         NaN           0   \n",
       "3         NaN         NaN         NaN         NaN         NaN           0   \n",
       "4         NaN         NaN         NaN         NaN         NaN           0   \n",
       "5         NaN         NaN         NaN         NaN         NaN           0   \n",
       "\n",
       "  Unnamed: 72 Unnamed: 73 Unnamed: 74  \n",
       "1           0           0           0  \n",
       "2           0           0           0  \n",
       "3           0           0           0  \n",
       "4           0           0           0  \n",
       "5           0           0           0  \n",
       "\n",
       "[5 rows x 75 columns]"
      ]
     },
     "execution_count": 15,
     "metadata": {},
     "output_type": "execute_result"
    }
   ],
   "source": [
    "df = pd.read_excel(\"BD_TR.xlsx\", sheet_name=\"Casetas\")\n",
    "df2 = pd.read_excel(\"Scroll_columnas_clave.xlsx\")\n",
    "df2.drop(0, axis=0, inplace= True)\n",
    "\n",
    "df2.head()"
   ]
  },
  {
   "cell_type": "code",
   "execution_count": 20,
   "metadata": {},
   "outputs": [
    {
     "name": "stdout",
     "output_type": "stream",
     "text": [
      "Media del costo caseta:  357.56955469662705\n",
      "Mediana del costo caseta:  316.0\n",
      "Moda del costo caseta:  0    444.0\n",
      "Name: Costo Caseta, dtype: float64\n",
      "\n",
      "Media de kilómetros totales:  285.0919191919192\n",
      "Mediana de kilómetros totales:  120.0\n",
      "Moda de kilómetros totales: 0    36\n",
      "Name: km totales, dtype: object\n"
     ]
    }
   ],
   "source": [
    "\n",
    "\n",
    "media = df[\"Costo Caseta\"].mean()\n",
    "mediana = df[\"Costo Caseta\"].median()\n",
    "moda = df[\"Costo Caseta\"].mode()\n",
    "\n",
    "mediaKm = df2[\"km totales\"].mean()\n",
    "medianaKm = df2[\"km totales\"].median()\n",
    "modaKm = df2[\"km totales\"].mode()\n",
    "\n",
    "print (\"Media del costo caseta: \", media)\n",
    "print(\"Mediana del costo caseta: \", mediana)\n",
    "print(\"Moda del costo caseta: \", moda)\n",
    "\n",
    "print(\"\")\n",
    "\n",
    "print (\"Media de kilómetros totales: \", mediaKm)\n",
    "print(\"Mediana de kilómetros totales: \", medianaKm)\n",
    "print(\"Moda de kilómetros totales:\", modaKm)\n",
    "\n"
   ]
  },
  {
   "cell_type": "code",
   "execution_count": 24,
   "metadata": {},
   "outputs": [
    {
     "name": "stdout",
     "output_type": "stream",
     "text": [
      "Rango =  13\n",
      "Varianza =  23.22959183673469\n",
      "Desviación típica =  4.819708687953526\n",
      "Coeficiente de variación =  0.2946546796128793\n",
      "Coeficiente de variación =  0.2946546796128793\n"
     ]
    }
   ],
   "source": [
    "Prueba = pd.Series([10, 11, 11, 11, 12, 14, 15, 16, 20, 20, 20, 23, 23, 23])\n",
    "\n",
    "print(\"Rango = \", Prueba.max()-Prueba.min())\n",
    "print(\"Varianza = \", Prueba.var(ddof=0))\n",
    "print(\"Desviación típica = \", Prueba.std(ddof=0))\n",
    "print(\"Coeficiente de variación = \", Prueba.std(ddof=0)/Prueba.mean())\n",
    "print (\"Coeficiente de variación = \", ss.variation(Prueba))"
   ]
  },
  {
   "cell_type": "code",
   "execution_count": 29,
   "metadata": {},
   "outputs": [
    {
     "name": "stdout",
     "output_type": "stream",
     "text": [
      "357.56955469662705\n",
      "2425.0\n",
      "0.0\n"
     ]
    },
    {
     "data": {
      "text/plain": [
       "count    80462.000000\n",
       "mean       357.569555\n",
       "std        217.719546\n",
       "min          0.000000\n",
       "25%        205.000000\n",
       "50%        316.000000\n",
       "75%        449.000000\n",
       "max       2425.000000\n",
       "Name: Costo Caseta, dtype: float64"
      ]
     },
     "execution_count": 29,
     "metadata": {},
     "output_type": "execute_result"
    }
   ],
   "source": [
    "print(df[\"Costo Caseta\"].mean())\n",
    "print(df[\"Costo Caseta\"].max())\n",
    "print(df[\"Costo Caseta\"].min())\n",
    "df[\"Costo Caseta\"].describe()"
   ]
  },
  {
   "cell_type": "code",
   "execution_count": 41,
   "metadata": {},
   "outputs": [
    {
     "data": {
      "text/plain": [
       "<Axes: xlabel='Costo Caseta', ylabel='Count'>"
      ]
     },
     "execution_count": 41,
     "metadata": {},
     "output_type": "execute_result"
    },
    {
     "data": {
      "image/png": "[encoded data removed]",
      "text/plain": [
       "<Figure size 640x480 with 1 Axes>"
      ]
     },
     "metadata": {},
     "output_type": "display_data"
    }
   ],
   "source": [
    "bins = [0,100,200,300,485, 970,1455,1974,2425]\n",
    "sns.histplot(data=df, x=\"Costo Caseta\", bins=bins)"
   ]
  },
  {
   "cell_type": "code",
   "execution_count": null,
   "metadata": {},
   "outputs": [],
   "source": []
  }
 ],
 "metadata": {
  "kernelspec": {
   "display_name": "Python 3",
   "language": "python",
   "name": "python3"
  },
  "language_info": {
   "codemirror_mode": {
    "name": "ipython",
    "version": 3
   },
   "file_extension": ".py",
   "mimetype": "text/x-python",
   "name": "python",
   "nbconvert_exporter": "python",
   "pygments_lexer": "ipython3",
   "version": "3.11.6"
  }
 },
 "nbformat": 4,
 "nbformat_minor": 2
}
