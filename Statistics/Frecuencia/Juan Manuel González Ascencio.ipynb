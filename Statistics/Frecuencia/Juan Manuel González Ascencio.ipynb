{
 "cells": [
  {
   "cell_type": "markdown",
   "metadata": {},
   "source": [
    "# Distribución de frecuencias\n",
    "## Juan Manuel González AScencio - A00572003\n"
   ]
  },
  {
   "cell_type": "code",
   "execution_count": 1,
   "metadata": {},
   "outputs": [],
   "source": [
    "import pandas as pd"
   ]
  },
  {
   "cell_type": "code",
   "execution_count": 2,
   "metadata": {},
   "outputs": [
    {
     "data": {
      "text/html": [
       "<div>\n",
       "<style scoped>\n",
       "    .dataframe tbody tr th:only-of-type {\n",
       "        vertical-align: middle;\n",
       "    }\n",
       "\n",
       "    .dataframe tbody tr th {\n",
       "        vertical-align: top;\n",
       "    }\n",
       "\n",
       "    .dataframe thead th {\n",
       "        text-align: right;\n",
       "    }\n",
       "</style>\n",
       "<table border=\"1\" class=\"dataframe\">\n",
       "  <thead>\n",
       "    <tr style=\"text-align: right;\">\n",
       "      <th></th>\n",
       "      <th>Peso</th>\n",
       "    </tr>\n",
       "  </thead>\n",
       "  <tbody>\n",
       "    <tr>\n",
       "      <th>0</th>\n",
       "      <td>60</td>\n",
       "    </tr>\n",
       "    <tr>\n",
       "      <th>1</th>\n",
       "      <td>66</td>\n",
       "    </tr>\n",
       "    <tr>\n",
       "      <th>2</th>\n",
       "      <td>77</td>\n",
       "    </tr>\n",
       "    <tr>\n",
       "      <th>3</th>\n",
       "      <td>70</td>\n",
       "    </tr>\n",
       "    <tr>\n",
       "      <th>4</th>\n",
       "      <td>66</td>\n",
       "    </tr>\n",
       "  </tbody>\n",
       "</table>\n",
       "</div>"
      ],
      "text/plain": [
       "   Peso\n",
       "0    60\n",
       "1    66\n",
       "2    77\n",
       "3    70\n",
       "4    66"
      ]
     },
     "execution_count": 2,
     "metadata": {},
     "output_type": "execute_result"
    }
   ],
   "source": [
    "#Leemos el archivo \n",
    "\n",
    "pesos = pd.read_csv(\"pesos.csv\")\n",
    "pesos.head()"
   ]
  },
  {
   "cell_type": "code",
   "execution_count": 43,
   "metadata": {},
   "outputs": [],
   "source": [
    "#crea una tabla de distribución de frecuencias por intervalo de amplitud de clase 5. \n",
    "\n",
    "pesos.max()\n",
    "pesos.min()\n",
    "\n",
    "#Va del 52 al 83 en 5 bins\n",
    "\n",
    "tabla = pd.cut(pesos['Peso'], bins = [50,55,60,65,70,75,80,85])\n",
    "df=tabla.value_counts()\n",
    "df\n",
    "\n",
    "\n",
    "df = pd.DataFrame(df)\n",
    "df.shape\n",
    "\n",
    "#Calcula lo siguiente: punto medio por rango, freciencia absoluta de rango, frecuencia relativa del rango, frecuencia acumulada del rango y frecuencia acumulada relativa.\n",
    "\n",
    "df['Punto medio'] = [52.5,57.5,62.5,67.5,72.5,77.5,82.5]\n",
    "\n",
    "#Exportamos a excel\n",
    "\n",
    "\n",
    "df.to_excel('tabla.xlsx')"
   ]
  }
 ],
 "metadata": {
  "kernelspec": {
   "display_name": "Python 3",
   "language": "python",
   "name": "python3"
  },
  "language_info": {
   "codemirror_mode": {
    "name": "ipython",
    "version": 3
   },
   "file_extension": ".py",
   "mimetype": "text/x-python",
   "name": "python",
   "nbconvert_exporter": "python",
   "pygments_lexer": "ipython3",
   "version": "3.11.6"
  }
 },
 "nbformat": 4,
 "nbformat_minor": 2
}
