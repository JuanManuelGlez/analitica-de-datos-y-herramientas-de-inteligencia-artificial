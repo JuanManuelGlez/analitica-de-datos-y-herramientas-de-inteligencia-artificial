{
  "cells": [
    {
      "cell_type": "markdown",
      "metadata": {
        "id": "Ded4ZWbHmJBE"
      },
      "source": [
        "### **Análisis de varianza - ANOVA**\n",
        "En estadística, el análisis de la varianza (ANOVA por sus sigloides en inglés, ANalysis Of VAriance) es una colección de modelos estadísticos y sus procedimientos asociados, en el cual la varianza está particionada en ciertos componentes debidos a diferentes variables explicativas.\n",
        "\n",
        "La base de datos de esta aplicación se encuentra en el siguiente [enlace.](https://www.kaggle.com/heesoo37/120-years-of-olympic-history-athletes-and-results)"
      ]
    },
    {
      "cell_type": "markdown",
      "metadata": {
        "id": "HaPg3iTBnWo0"
      },
      "source": [
        "## **Base de datos**\n",
        "ID - Identificador por atleta\n",
        "\n",
        "1. Name - Nombre del atleta\n",
        "\n",
        "2. Sex - Genero **M**asculino o **F**emenino\n",
        "\n",
        "3. Age - Edad\n",
        "\n",
        "4. Height - Altura en centimetros\n",
        "\n",
        "5. Weight - Peso en kilogramos\n",
        "\n",
        "6. Team - Nombre del equipo\n",
        "\n",
        "7. NOC -  Código de 3 letras\n",
        "\n",
        "8. Games - Año y estación\n",
        "\n",
        "9. Year - Año de evento\n",
        "\n",
        "10. Season - Verano o Invierno\n",
        "\n",
        "11. City - Ciudad de los juegos\n",
        "\n",
        "12. Sport - Deporte\n",
        "\n",
        "13. Event - Evento\n",
        "\n",
        "14. Medal - Oro, Plata, Bronce, o NA"
      ]
    },
    {
      "cell_type": "code",
      "execution_count": 33,
      "metadata": {
        "id": "_BdTft9dlB0i"
      },
      "outputs": [],
      "source": [
        "import pandas as pd"
      ]
    },
    {
      "cell_type": "code",
      "execution_count": 34,
      "metadata": {
        "id": "Gba4aSwCogPE"
      },
      "outputs": [],
      "source": [
        "datos =  pd.read_csv(\"athlete_events.csv\")"
      ]
    },
    {
      "cell_type": "code",
      "execution_count": 35,
      "metadata": {
        "id": "kLaIuMg-onpu"
      },
      "outputs": [
        {
          "data": {
            "text/html": [
              "<div>\n",
              "<style scoped>\n",
              "    .dataframe tbody tr th:only-of-type {\n",
              "        vertical-align: middle;\n",
              "    }\n",
              "\n",
              "    .dataframe tbody tr th {\n",
              "        vertical-align: top;\n",
              "    }\n",
              "\n",
              "    .dataframe thead th {\n",
              "        text-align: right;\n",
              "    }\n",
              "</style>\n",
              "<table border=\"1\" class=\"dataframe\">\n",
              "  <thead>\n",
              "    <tr style=\"text-align: right;\">\n",
              "      <th></th>\n",
              "      <th>ID</th>\n",
              "      <th>Name</th>\n",
              "      <th>Sex</th>\n",
              "      <th>Age</th>\n",
              "      <th>Height</th>\n",
              "      <th>Weight</th>\n",
              "      <th>Team</th>\n",
              "      <th>NOC</th>\n",
              "      <th>Games</th>\n",
              "      <th>Year</th>\n",
              "      <th>Season</th>\n",
              "      <th>City</th>\n",
              "      <th>Sport</th>\n",
              "      <th>Event</th>\n",
              "      <th>Medal</th>\n",
              "    </tr>\n",
              "  </thead>\n",
              "  <tbody>\n",
              "    <tr>\n",
              "      <th>0</th>\n",
              "      <td>1</td>\n",
              "      <td>A Dijiang</td>\n",
              "      <td>M</td>\n",
              "      <td>24.0</td>\n",
              "      <td>180.0</td>\n",
              "      <td>80.0</td>\n",
              "      <td>China</td>\n",
              "      <td>CHN</td>\n",
              "      <td>1992 Summer</td>\n",
              "      <td>1992</td>\n",
              "      <td>Summer</td>\n",
              "      <td>Barcelona</td>\n",
              "      <td>Basketball</td>\n",
              "      <td>Basketball Men's Basketball</td>\n",
              "      <td>NaN</td>\n",
              "    </tr>\n",
              "    <tr>\n",
              "      <th>1</th>\n",
              "      <td>2</td>\n",
              "      <td>A Lamusi</td>\n",
              "      <td>M</td>\n",
              "      <td>23.0</td>\n",
              "      <td>170.0</td>\n",
              "      <td>60.0</td>\n",
              "      <td>China</td>\n",
              "      <td>CHN</td>\n",
              "      <td>2012 Summer</td>\n",
              "      <td>2012</td>\n",
              "      <td>Summer</td>\n",
              "      <td>London</td>\n",
              "      <td>Judo</td>\n",
              "      <td>Judo Men's Extra-Lightweight</td>\n",
              "      <td>NaN</td>\n",
              "    </tr>\n",
              "    <tr>\n",
              "      <th>2</th>\n",
              "      <td>3</td>\n",
              "      <td>Gunnar Nielsen Aaby</td>\n",
              "      <td>M</td>\n",
              "      <td>24.0</td>\n",
              "      <td>NaN</td>\n",
              "      <td>NaN</td>\n",
              "      <td>Denmark</td>\n",
              "      <td>DEN</td>\n",
              "      <td>1920 Summer</td>\n",
              "      <td>1920</td>\n",
              "      <td>Summer</td>\n",
              "      <td>Antwerpen</td>\n",
              "      <td>Football</td>\n",
              "      <td>Football Men's Football</td>\n",
              "      <td>NaN</td>\n",
              "    </tr>\n",
              "    <tr>\n",
              "      <th>3</th>\n",
              "      <td>4</td>\n",
              "      <td>Edgar Lindenau Aabye</td>\n",
              "      <td>M</td>\n",
              "      <td>34.0</td>\n",
              "      <td>NaN</td>\n",
              "      <td>NaN</td>\n",
              "      <td>Denmark/Sweden</td>\n",
              "      <td>DEN</td>\n",
              "      <td>1900 Summer</td>\n",
              "      <td>1900</td>\n",
              "      <td>Summer</td>\n",
              "      <td>Paris</td>\n",
              "      <td>Tug-Of-War</td>\n",
              "      <td>Tug-Of-War Men's Tug-Of-War</td>\n",
              "      <td>Gold</td>\n",
              "    </tr>\n",
              "    <tr>\n",
              "      <th>4</th>\n",
              "      <td>5</td>\n",
              "      <td>Christine Jacoba Aaftink</td>\n",
              "      <td>F</td>\n",
              "      <td>21.0</td>\n",
              "      <td>185.0</td>\n",
              "      <td>82.0</td>\n",
              "      <td>Netherlands</td>\n",
              "      <td>NED</td>\n",
              "      <td>1988 Winter</td>\n",
              "      <td>1988</td>\n",
              "      <td>Winter</td>\n",
              "      <td>Calgary</td>\n",
              "      <td>Speed Skating</td>\n",
              "      <td>Speed Skating Women's 500 metres</td>\n",
              "      <td>NaN</td>\n",
              "    </tr>\n",
              "  </tbody>\n",
              "</table>\n",
              "</div>"
            ],
            "text/plain": [
              "   ID                      Name Sex   Age  Height  Weight            Team  \\\n",
              "0   1                 A Dijiang   M  24.0   180.0    80.0           China   \n",
              "1   2                  A Lamusi   M  23.0   170.0    60.0           China   \n",
              "2   3       Gunnar Nielsen Aaby   M  24.0     NaN     NaN         Denmark   \n",
              "3   4      Edgar Lindenau Aabye   M  34.0     NaN     NaN  Denmark/Sweden   \n",
              "4   5  Christine Jacoba Aaftink   F  21.0   185.0    82.0     Netherlands   \n",
              "\n",
              "   NOC        Games  Year  Season       City          Sport  \\\n",
              "0  CHN  1992 Summer  1992  Summer  Barcelona     Basketball   \n",
              "1  CHN  2012 Summer  2012  Summer     London           Judo   \n",
              "2  DEN  1920 Summer  1920  Summer  Antwerpen       Football   \n",
              "3  DEN  1900 Summer  1900  Summer      Paris     Tug-Of-War   \n",
              "4  NED  1988 Winter  1988  Winter    Calgary  Speed Skating   \n",
              "\n",
              "                              Event Medal  \n",
              "0       Basketball Men's Basketball   NaN  \n",
              "1      Judo Men's Extra-Lightweight   NaN  \n",
              "2           Football Men's Football   NaN  \n",
              "3       Tug-Of-War Men's Tug-Of-War  Gold  \n",
              "4  Speed Skating Women's 500 metres   NaN  "
            ]
          },
          "execution_count": 35,
          "metadata": {},
          "output_type": "execute_result"
        }
      ],
      "source": [
        "datos.head()"
      ]
    },
    {
      "cell_type": "code",
      "execution_count": 36,
      "metadata": {
        "id": "jfBVJOJyoqKp"
      },
      "outputs": [
        {
          "data": {
            "text/plain": [
              "ID             0\n",
              "Name           0\n",
              "Sex            0\n",
              "Age         9474\n",
              "Height     60171\n",
              "Weight     62875\n",
              "Team           0\n",
              "NOC            0\n",
              "Games          0\n",
              "Year           0\n",
              "Season         0\n",
              "City           0\n",
              "Sport          0\n",
              "Event          0\n",
              "Medal     231333\n",
              "dtype: int64"
            ]
          },
          "execution_count": 36,
          "metadata": {},
          "output_type": "execute_result"
        }
      ],
      "source": [
        "datos.isna().sum()"
      ]
    },
    {
      "cell_type": "code",
      "execution_count": 37,
      "metadata": {},
      "outputs": [],
      "source": [
        "#eliminar filas con valores nulos\n",
        "datos = datos.dropna()\n"
      ]
    },
    {
      "cell_type": "code",
      "execution_count": 38,
      "metadata": {
        "id": "BW-SU7MdozQ6"
      },
      "outputs": [
        {
          "data": {
            "text/plain": [
              "(30181, 15)"
            ]
          },
          "execution_count": 38,
          "metadata": {},
          "output_type": "execute_result"
        }
      ],
      "source": [
        "datos.shape"
      ]
    },
    {
      "cell_type": "code",
      "execution_count": 39,
      "metadata": {
        "id": "ht-TLwTbo6SK"
      },
      "outputs": [],
      "source": [
        "datos = datos.dropna()"
      ]
    },
    {
      "cell_type": "code",
      "execution_count": 40,
      "metadata": {
        "id": "9-5uIaCUqgxC"
      },
      "outputs": [
        {
          "data": {
            "text/plain": [
              "(30181, 15)"
            ]
          },
          "execution_count": 40,
          "metadata": {},
          "output_type": "execute_result"
        }
      ],
      "source": [
        "datos.shape"
      ]
    },
    {
      "cell_type": "markdown",
      "metadata": {
        "id": "40yD0gfAqQXL"
      },
      "source": [
        "## **ANOVA de una vía**\n",
        "Caso especial del análisis de varianza en el cual se considera un factor ([más información](https://en.wikipedia.org/wiki/One-way_analysis_of_variance))."
      ]
    },
    {
      "cell_type": "code",
      "execution_count": 41,
      "metadata": {
        "id": "7xWIevz2rHXa"
      },
      "outputs": [],
      "source": [
        "PesoColombia = datos.Weight[datos.Team ==\"Colombia\"]\n",
        "PesoRusia = datos.Weight[datos.Team =='Russia']\n",
        "PesoPeru = datos.Weight[datos.Team =='Peru']\n"
      ]
    },
    {
      "cell_type": "markdown",
      "metadata": {
        "id": "ojHcjPh4Iq1H"
      },
      "source": [
        "Calcula la ANOVA y describe tus conclusiones"
      ]
    },
    {
      "cell_type": "code",
      "execution_count": 42,
      "metadata": {
        "colab": {
          "base_uri": "https://localhost:8080/"
        },
        "id": "1TrtCwH-reXt",
        "outputId": "578eda6c-ae48-4b31-ab67-547c2bb281b9"
      },
      "outputs": [
        {
          "data": {
            "text/plain": [
              "F_onewayResult(statistic=4.408406092866227, pvalue=0.012384845550063571)"
            ]
          },
          "execution_count": 42,
          "metadata": {},
          "output_type": "execute_result"
        }
      ],
      "source": [
        "from scipy import stats\n",
        "anova = stats.f_oneway(PesoColombia, PesoRusia, PesoPeru)\n",
        "anova"
      ]
    },
    {
      "cell_type": "code",
      "execution_count": 43,
      "metadata": {},
      "outputs": [
        {
          "name": "stdout",
          "output_type": "stream",
          "text": [
            "61.888888888888886\n",
            "72.05270394133822\n",
            "69.71428571428571\n"
          ]
        }
      ],
      "source": [
        "#Observa las medias de cada uno de los grupos de pesos\n",
        "print(PesoColombia.mean())\n",
        "print(PesoRusia.mean())\n",
        "print(PesoPeru.mean())"
      ]
    },
    {
      "cell_type": "code",
      "execution_count": 44,
      "metadata": {},
      "outputs": [
        {
          "name": "stdout",
          "output_type": "stream",
          "text": [
            "27\n",
            "1091\n",
            "14\n"
          ]
        }
      ],
      "source": [
        "#Observa la cantidad de datos por grupo. \n",
        "print(PesoColombia.count())\n",
        "print(PesoRusia.count())\n",
        "print(PesoPeru.count())\n"
      ]
    },
    {
      "cell_type": "markdown",
      "metadata": {
        "id": "sjWnM9u6I1Zz"
      },
      "source": [
        "Tus Observaciones/ conclusiones aquí\n",
        "\n",
        "Observa el p-value. No se acepta la hipótesis H0, debido a que es menos a0.5.\n",
        "\n",
        "Observa las medias de cada uno de los grupos. Podemos ver que el peso de rusia es el mas elevado de los tres, con un promedio de 72\n",
        "\n",
        "Observa la cantidad de datos por grupo. Tambien podemos ver que tenemos una cantidad mucha mayor de datos de Rusia"
      ]
    },
    {
      "cell_type": "markdown",
      "metadata": {
        "id": "5zODSHVeJbvE"
      },
      "source": [
        "Lista los equipos que existen y selecciona 3 diferentes a los usados  anteriormente. Calcula la ANOVA, busca que el p-value sea mayor o igual a 0.05. Observa la media, cantidad de elementos de los grupos. Anota tus comentarios y conclusiones."
      ]
    },
    {
      "cell_type": "code",
      "execution_count": 47,
      "metadata": {
        "id": "ghS7CYzEJhbb"
      },
      "outputs": [
        {
          "data": {
            "text/plain": [
              "F_onewayResult(statistic=5.127509385748204, pvalue=0.006089032477791564)"
            ]
          },
          "execution_count": 47,
          "metadata": {},
          "output_type": "execute_result"
        }
      ],
      "source": [
        "# Tu código aquí\n",
        "\n",
        "#Lista los equipos que existen y selecciona 3 diferentes a los usados  anteriormente. Calcula la ANOVA, busca que el p-value sea mayor o igual a 0.05. Observa la media, cantidad de elementos de los grupos. Anota tus comentarios y conclusiones.\n",
        "\n",
        "#Lista los equipos que existen\n",
        "\n",
        "datos.Team.unique()\n",
        "\n",
        "#Elegimos Mexico, China y Chile\n",
        "\n",
        "PesoMexico = datos.Weight[datos.Team ==\"Mexico\"]\n",
        "PesoChina = datos.Weight[datos.Team =='China']\n",
        "PesoChile = datos.Weight[datos.Team =='Chile']\n",
        "\n",
        "anova = stats.f_oneway(PesoMexico, PesoChina, PesoChile)\n",
        "anova\n",
        "\n"
      ]
    },
    {
      "cell_type": "code",
      "execution_count": 49,
      "metadata": {},
      "outputs": [
        {
          "name": "stdout",
          "output_type": "stream",
          "text": [
            "76\n",
            "897\n",
            "25\n"
          ]
        }
      ],
      "source": [
        "#Observa la cantidad de datos por grupo. \n",
        "print(PesoMexico.count())\n",
        "print(PesoChina.count())\n",
        "print(PesoChile.count())"
      ]
    },
    {
      "cell_type": "code",
      "execution_count": 48,
      "metadata": {},
      "outputs": [
        {
          "name": "stdout",
          "output_type": "stream",
          "text": [
            "63.81578947368421\n",
            "63.89520624303233\n",
            "72.48\n"
          ]
        }
      ],
      "source": [
        "#Sacamos la media de cada grupo\n",
        "print(PesoMexico.mean())\n",
        "print(PesoChina.mean())\n",
        "print(PesoChile.mean())\n"
      ]
    },
    {
      "cell_type": "markdown",
      "metadata": {
        "id": "jvlRd_yLOTyp"
      },
      "source": [
        "Tus comentarios y observaciones aquí\n",
        "\n",
        "Vemos que H0 se rechaza una vez mas debido a que es menor a 0.05, el país con mas datos que tiene es China y Chile es el que tiene el promedio mas alto, curiosamente México y China tienen un promedio casi idéntico."
      ]
    }
  ],
  "metadata": {
    "colab": {
      "provenance": []
    },
    "kernelspec": {
      "display_name": "Python 3",
      "name": "python3"
    },
    "language_info": {
      "codemirror_mode": {
        "name": "ipython",
        "version": 3
      },
      "file_extension": ".py",
      "mimetype": "text/x-python",
      "name": "python",
      "nbconvert_exporter": "python",
      "pygments_lexer": "ipython3",
      "version": "3.11.6"
    }
  },
  "nbformat": 4,
  "nbformat_minor": 0
}
