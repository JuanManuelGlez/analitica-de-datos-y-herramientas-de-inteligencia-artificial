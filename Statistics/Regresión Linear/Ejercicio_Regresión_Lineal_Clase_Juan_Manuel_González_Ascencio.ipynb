{
  "cells": [
    {
      "cell_type": "markdown",
      "metadata": {
        "id": "ev0-7weGKs2n"
      },
      "source": [
        "# Ejercicio en clase de regresión lineal.\n",
        "\n",
        "**Paso 1. Cargar en colab un dataset o conjunto de datos, para esto podemos recurri al sitio Kaggle.com, el cual entre otras cosas ofrece datasets abiertos.**\n",
        "\n",
        "En este caso usaremos el dataset kc_house_data, el cual contiene datos de distintas casas en Washington, EEUU.\n",
        "\n",
        "Puedes descargar el conjunto de datos desde este enlace desde la carpeta compartida de la Clase7\n"
      ]
    },
    {
      "cell_type": "code",
      "execution_count": 17,
      "metadata": {
        "id": "xuR4cRwJ05JX"
      },
      "outputs": [],
      "source": [
        "#importa pandas y carga el archivo data.csv en la variable df\n",
        "import pandas as pd\n",
        "df = pd.read_csv('data.csv')"
      ]
    },
    {
      "cell_type": "markdown",
      "metadata": {
        "id": "RAUiBCy3BH6Z"
      },
      "source": [
        "**Paso 2. Explora tu dataset. Antes de hacer cualquier otra cosa es importante examinar y entender el dataset, por eso se utilizaran algunas funciones de ejemplo. Como describe, head, shape y dtypes**\n",
        "\n"
      ]
    },
    {
      "cell_type": "code",
      "execution_count": 18,
      "metadata": {
        "id": "06xl81Q51lty"
      },
      "outputs": [
        {
          "data": {
            "text/html": [
              "<div>\n",
              "<style scoped>\n",
              "    .dataframe tbody tr th:only-of-type {\n",
              "        vertical-align: middle;\n",
              "    }\n",
              "\n",
              "    .dataframe tbody tr th {\n",
              "        vertical-align: top;\n",
              "    }\n",
              "\n",
              "    .dataframe thead th {\n",
              "        text-align: right;\n",
              "    }\n",
              "</style>\n",
              "<table border=\"1\" class=\"dataframe\">\n",
              "  <thead>\n",
              "    <tr style=\"text-align: right;\">\n",
              "      <th></th>\n",
              "      <th>price</th>\n",
              "      <th>bedrooms</th>\n",
              "      <th>bathrooms</th>\n",
              "      <th>sqft_living</th>\n",
              "      <th>sqft_lot</th>\n",
              "      <th>floors</th>\n",
              "      <th>waterfront</th>\n",
              "      <th>view</th>\n",
              "      <th>condition</th>\n",
              "      <th>sqft_above</th>\n",
              "      <th>sqft_basement</th>\n",
              "      <th>yr_built</th>\n",
              "      <th>yr_renovated</th>\n",
              "    </tr>\n",
              "  </thead>\n",
              "  <tbody>\n",
              "    <tr>\n",
              "      <th>count</th>\n",
              "      <td>4.600000e+03</td>\n",
              "      <td>4600.000000</td>\n",
              "      <td>4600.000000</td>\n",
              "      <td>4600.000000</td>\n",
              "      <td>4.600000e+03</td>\n",
              "      <td>4600.000000</td>\n",
              "      <td>4600.000000</td>\n",
              "      <td>4600.000000</td>\n",
              "      <td>4600.000000</td>\n",
              "      <td>4600.000000</td>\n",
              "      <td>4600.000000</td>\n",
              "      <td>4600.000000</td>\n",
              "      <td>4600.000000</td>\n",
              "    </tr>\n",
              "    <tr>\n",
              "      <th>mean</th>\n",
              "      <td>5.519630e+05</td>\n",
              "      <td>3.400870</td>\n",
              "      <td>2.160815</td>\n",
              "      <td>2139.346957</td>\n",
              "      <td>1.485252e+04</td>\n",
              "      <td>1.512065</td>\n",
              "      <td>0.007174</td>\n",
              "      <td>0.240652</td>\n",
              "      <td>3.451739</td>\n",
              "      <td>1827.265435</td>\n",
              "      <td>312.081522</td>\n",
              "      <td>1970.786304</td>\n",
              "      <td>808.608261</td>\n",
              "    </tr>\n",
              "    <tr>\n",
              "      <th>std</th>\n",
              "      <td>5.638347e+05</td>\n",
              "      <td>0.908848</td>\n",
              "      <td>0.783781</td>\n",
              "      <td>963.206916</td>\n",
              "      <td>3.588444e+04</td>\n",
              "      <td>0.538288</td>\n",
              "      <td>0.084404</td>\n",
              "      <td>0.778405</td>\n",
              "      <td>0.677230</td>\n",
              "      <td>862.168977</td>\n",
              "      <td>464.137228</td>\n",
              "      <td>29.731848</td>\n",
              "      <td>979.414536</td>\n",
              "    </tr>\n",
              "    <tr>\n",
              "      <th>min</th>\n",
              "      <td>0.000000e+00</td>\n",
              "      <td>0.000000</td>\n",
              "      <td>0.000000</td>\n",
              "      <td>370.000000</td>\n",
              "      <td>6.380000e+02</td>\n",
              "      <td>1.000000</td>\n",
              "      <td>0.000000</td>\n",
              "      <td>0.000000</td>\n",
              "      <td>1.000000</td>\n",
              "      <td>370.000000</td>\n",
              "      <td>0.000000</td>\n",
              "      <td>1900.000000</td>\n",
              "      <td>0.000000</td>\n",
              "    </tr>\n",
              "    <tr>\n",
              "      <th>25%</th>\n",
              "      <td>3.228750e+05</td>\n",
              "      <td>3.000000</td>\n",
              "      <td>1.750000</td>\n",
              "      <td>1460.000000</td>\n",
              "      <td>5.000750e+03</td>\n",
              "      <td>1.000000</td>\n",
              "      <td>0.000000</td>\n",
              "      <td>0.000000</td>\n",
              "      <td>3.000000</td>\n",
              "      <td>1190.000000</td>\n",
              "      <td>0.000000</td>\n",
              "      <td>1951.000000</td>\n",
              "      <td>0.000000</td>\n",
              "    </tr>\n",
              "    <tr>\n",
              "      <th>50%</th>\n",
              "      <td>4.609435e+05</td>\n",
              "      <td>3.000000</td>\n",
              "      <td>2.250000</td>\n",
              "      <td>1980.000000</td>\n",
              "      <td>7.683000e+03</td>\n",
              "      <td>1.500000</td>\n",
              "      <td>0.000000</td>\n",
              "      <td>0.000000</td>\n",
              "      <td>3.000000</td>\n",
              "      <td>1590.000000</td>\n",
              "      <td>0.000000</td>\n",
              "      <td>1976.000000</td>\n",
              "      <td>0.000000</td>\n",
              "    </tr>\n",
              "    <tr>\n",
              "      <th>75%</th>\n",
              "      <td>6.549625e+05</td>\n",
              "      <td>4.000000</td>\n",
              "      <td>2.500000</td>\n",
              "      <td>2620.000000</td>\n",
              "      <td>1.100125e+04</td>\n",
              "      <td>2.000000</td>\n",
              "      <td>0.000000</td>\n",
              "      <td>0.000000</td>\n",
              "      <td>4.000000</td>\n",
              "      <td>2300.000000</td>\n",
              "      <td>610.000000</td>\n",
              "      <td>1997.000000</td>\n",
              "      <td>1999.000000</td>\n",
              "    </tr>\n",
              "    <tr>\n",
              "      <th>max</th>\n",
              "      <td>2.659000e+07</td>\n",
              "      <td>9.000000</td>\n",
              "      <td>8.000000</td>\n",
              "      <td>13540.000000</td>\n",
              "      <td>1.074218e+06</td>\n",
              "      <td>3.500000</td>\n",
              "      <td>1.000000</td>\n",
              "      <td>4.000000</td>\n",
              "      <td>5.000000</td>\n",
              "      <td>9410.000000</td>\n",
              "      <td>4820.000000</td>\n",
              "      <td>2014.000000</td>\n",
              "      <td>2014.000000</td>\n",
              "    </tr>\n",
              "  </tbody>\n",
              "</table>\n",
              "</div>"
            ],
            "text/plain": [
              "              price     bedrooms    bathrooms   sqft_living      sqft_lot  \\\n",
              "count  4.600000e+03  4600.000000  4600.000000   4600.000000  4.600000e+03   \n",
              "mean   5.519630e+05     3.400870     2.160815   2139.346957  1.485252e+04   \n",
              "std    5.638347e+05     0.908848     0.783781    963.206916  3.588444e+04   \n",
              "min    0.000000e+00     0.000000     0.000000    370.000000  6.380000e+02   \n",
              "25%    3.228750e+05     3.000000     1.750000   1460.000000  5.000750e+03   \n",
              "50%    4.609435e+05     3.000000     2.250000   1980.000000  7.683000e+03   \n",
              "75%    6.549625e+05     4.000000     2.500000   2620.000000  1.100125e+04   \n",
              "max    2.659000e+07     9.000000     8.000000  13540.000000  1.074218e+06   \n",
              "\n",
              "            floors   waterfront         view    condition   sqft_above  \\\n",
              "count  4600.000000  4600.000000  4600.000000  4600.000000  4600.000000   \n",
              "mean      1.512065     0.007174     0.240652     3.451739  1827.265435   \n",
              "std       0.538288     0.084404     0.778405     0.677230   862.168977   \n",
              "min       1.000000     0.000000     0.000000     1.000000   370.000000   \n",
              "25%       1.000000     0.000000     0.000000     3.000000  1190.000000   \n",
              "50%       1.500000     0.000000     0.000000     3.000000  1590.000000   \n",
              "75%       2.000000     0.000000     0.000000     4.000000  2300.000000   \n",
              "max       3.500000     1.000000     4.000000     5.000000  9410.000000   \n",
              "\n",
              "       sqft_basement     yr_built  yr_renovated  \n",
              "count    4600.000000  4600.000000   4600.000000  \n",
              "mean      312.081522  1970.786304    808.608261  \n",
              "std       464.137228    29.731848    979.414536  \n",
              "min         0.000000  1900.000000      0.000000  \n",
              "25%         0.000000  1951.000000      0.000000  \n",
              "50%         0.000000  1976.000000      0.000000  \n",
              "75%       610.000000  1997.000000   1999.000000  \n",
              "max      4820.000000  2014.000000   2014.000000  "
            ]
          },
          "execution_count": 18,
          "metadata": {},
          "output_type": "execute_result"
        }
      ],
      "source": [
        "#Usa la funcion describe para mostrar el resumen del dataset\n",
        "df.describe()"
      ]
    },
    {
      "cell_type": "code",
      "execution_count": 19,
      "metadata": {
        "id": "QWJA68ry1xpV"
      },
      "outputs": [
        {
          "data": {
            "text/html": [
              "<div>\n",
              "<style scoped>\n",
              "    .dataframe tbody tr th:only-of-type {\n",
              "        vertical-align: middle;\n",
              "    }\n",
              "\n",
              "    .dataframe tbody tr th {\n",
              "        vertical-align: top;\n",
              "    }\n",
              "\n",
              "    .dataframe thead th {\n",
              "        text-align: right;\n",
              "    }\n",
              "</style>\n",
              "<table border=\"1\" class=\"dataframe\">\n",
              "  <thead>\n",
              "    <tr style=\"text-align: right;\">\n",
              "      <th></th>\n",
              "      <th>date</th>\n",
              "      <th>price</th>\n",
              "      <th>bedrooms</th>\n",
              "      <th>bathrooms</th>\n",
              "      <th>sqft_living</th>\n",
              "      <th>sqft_lot</th>\n",
              "      <th>floors</th>\n",
              "      <th>waterfront</th>\n",
              "      <th>view</th>\n",
              "      <th>condition</th>\n",
              "      <th>sqft_above</th>\n",
              "      <th>sqft_basement</th>\n",
              "      <th>yr_built</th>\n",
              "      <th>yr_renovated</th>\n",
              "      <th>street</th>\n",
              "      <th>city</th>\n",
              "      <th>statezip</th>\n",
              "      <th>country</th>\n",
              "    </tr>\n",
              "  </thead>\n",
              "  <tbody>\n",
              "    <tr>\n",
              "      <th>0</th>\n",
              "      <td>2014-05-02 00:00:00</td>\n",
              "      <td>313000.0</td>\n",
              "      <td>3.0</td>\n",
              "      <td>1.50</td>\n",
              "      <td>1340</td>\n",
              "      <td>7912</td>\n",
              "      <td>1.5</td>\n",
              "      <td>0</td>\n",
              "      <td>0</td>\n",
              "      <td>3</td>\n",
              "      <td>1340</td>\n",
              "      <td>0</td>\n",
              "      <td>1955</td>\n",
              "      <td>2005</td>\n",
              "      <td>18810 Densmore Ave N</td>\n",
              "      <td>Shoreline</td>\n",
              "      <td>WA 98133</td>\n",
              "      <td>USA</td>\n",
              "    </tr>\n",
              "    <tr>\n",
              "      <th>1</th>\n",
              "      <td>2014-05-02 00:00:00</td>\n",
              "      <td>2384000.0</td>\n",
              "      <td>5.0</td>\n",
              "      <td>2.50</td>\n",
              "      <td>3650</td>\n",
              "      <td>9050</td>\n",
              "      <td>2.0</td>\n",
              "      <td>0</td>\n",
              "      <td>4</td>\n",
              "      <td>5</td>\n",
              "      <td>3370</td>\n",
              "      <td>280</td>\n",
              "      <td>1921</td>\n",
              "      <td>0</td>\n",
              "      <td>709 W Blaine St</td>\n",
              "      <td>Seattle</td>\n",
              "      <td>WA 98119</td>\n",
              "      <td>USA</td>\n",
              "    </tr>\n",
              "    <tr>\n",
              "      <th>2</th>\n",
              "      <td>2014-05-02 00:00:00</td>\n",
              "      <td>342000.0</td>\n",
              "      <td>3.0</td>\n",
              "      <td>2.00</td>\n",
              "      <td>1930</td>\n",
              "      <td>11947</td>\n",
              "      <td>1.0</td>\n",
              "      <td>0</td>\n",
              "      <td>0</td>\n",
              "      <td>4</td>\n",
              "      <td>1930</td>\n",
              "      <td>0</td>\n",
              "      <td>1966</td>\n",
              "      <td>0</td>\n",
              "      <td>26206-26214 143rd Ave SE</td>\n",
              "      <td>Kent</td>\n",
              "      <td>WA 98042</td>\n",
              "      <td>USA</td>\n",
              "    </tr>\n",
              "    <tr>\n",
              "      <th>3</th>\n",
              "      <td>2014-05-02 00:00:00</td>\n",
              "      <td>420000.0</td>\n",
              "      <td>3.0</td>\n",
              "      <td>2.25</td>\n",
              "      <td>2000</td>\n",
              "      <td>8030</td>\n",
              "      <td>1.0</td>\n",
              "      <td>0</td>\n",
              "      <td>0</td>\n",
              "      <td>4</td>\n",
              "      <td>1000</td>\n",
              "      <td>1000</td>\n",
              "      <td>1963</td>\n",
              "      <td>0</td>\n",
              "      <td>857 170th Pl NE</td>\n",
              "      <td>Bellevue</td>\n",
              "      <td>WA 98008</td>\n",
              "      <td>USA</td>\n",
              "    </tr>\n",
              "    <tr>\n",
              "      <th>4</th>\n",
              "      <td>2014-05-02 00:00:00</td>\n",
              "      <td>550000.0</td>\n",
              "      <td>4.0</td>\n",
              "      <td>2.50</td>\n",
              "      <td>1940</td>\n",
              "      <td>10500</td>\n",
              "      <td>1.0</td>\n",
              "      <td>0</td>\n",
              "      <td>0</td>\n",
              "      <td>4</td>\n",
              "      <td>1140</td>\n",
              "      <td>800</td>\n",
              "      <td>1976</td>\n",
              "      <td>1992</td>\n",
              "      <td>9105 170th Ave NE</td>\n",
              "      <td>Redmond</td>\n",
              "      <td>WA 98052</td>\n",
              "      <td>USA</td>\n",
              "    </tr>\n",
              "  </tbody>\n",
              "</table>\n",
              "</div>"
            ],
            "text/plain": [
              "                  date      price  bedrooms  bathrooms  sqft_living  sqft_lot  \\\n",
              "0  2014-05-02 00:00:00   313000.0       3.0       1.50         1340      7912   \n",
              "1  2014-05-02 00:00:00  2384000.0       5.0       2.50         3650      9050   \n",
              "2  2014-05-02 00:00:00   342000.0       3.0       2.00         1930     11947   \n",
              "3  2014-05-02 00:00:00   420000.0       3.0       2.25         2000      8030   \n",
              "4  2014-05-02 00:00:00   550000.0       4.0       2.50         1940     10500   \n",
              "\n",
              "   floors  waterfront  view  condition  sqft_above  sqft_basement  yr_built  \\\n",
              "0     1.5           0     0          3        1340              0      1955   \n",
              "1     2.0           0     4          5        3370            280      1921   \n",
              "2     1.0           0     0          4        1930              0      1966   \n",
              "3     1.0           0     0          4        1000           1000      1963   \n",
              "4     1.0           0     0          4        1140            800      1976   \n",
              "\n",
              "   yr_renovated                    street       city  statezip country  \n",
              "0          2005      18810 Densmore Ave N  Shoreline  WA 98133     USA  \n",
              "1             0           709 W Blaine St    Seattle  WA 98119     USA  \n",
              "2             0  26206-26214 143rd Ave SE       Kent  WA 98042     USA  \n",
              "3             0           857 170th Pl NE   Bellevue  WA 98008     USA  \n",
              "4          1992         9105 170th Ave NE    Redmond  WA 98052     USA  "
            ]
          },
          "execution_count": 19,
          "metadata": {},
          "output_type": "execute_result"
        }
      ],
      "source": [
        "#Usa la funcion head para mostrar los primeros 5 elementos del dataset\n",
        "df.head()"
      ]
    },
    {
      "cell_type": "code",
      "execution_count": 20,
      "metadata": {
        "id": "9MFZiELsHh2q"
      },
      "outputs": [
        {
          "name": "stdout",
          "output_type": "stream",
          "text": [
            "(4600, 18)\n"
          ]
        }
      ],
      "source": [
        "#Usa la funcion shape para ver la forma del dataset en este formato (Cantidad de filas, cantidad de columnas)\n",
        "print(df.shape)\n",
        "\n",
        "#Las cantidad de filas representa la cantidad de casas del dataset 4600\n",
        "#La cantidad de columnas representa la cantidad de atributos o datos que tiene cada casa del dataset 18"
      ]
    },
    {
      "cell_type": "code",
      "execution_count": 21,
      "metadata": {
        "id": "8sT6d24I18Qm"
      },
      "outputs": [
        {
          "data": {
            "text/plain": [
              "date              object\n",
              "price            float64\n",
              "bedrooms         float64\n",
              "bathrooms        float64\n",
              "sqft_living        int64\n",
              "sqft_lot           int64\n",
              "floors           float64\n",
              "waterfront         int64\n",
              "view               int64\n",
              "condition          int64\n",
              "sqft_above         int64\n",
              "sqft_basement      int64\n",
              "yr_built           int64\n",
              "yr_renovated       int64\n",
              "street            object\n",
              "city              object\n",
              "statezip          object\n",
              "country           object\n",
              "dtype: object"
            ]
          },
          "execution_count": 21,
          "metadata": {},
          "output_type": "execute_result"
        }
      ],
      "source": [
        "#Usa la funcion dtypes para mostrar los tipos de variables del dataset, podemos ver que la mayoria son numeros enteros\n",
        "df.dtypes"
      ]
    },
    {
      "cell_type": "code",
      "execution_count": 22,
      "metadata": {
        "id": "2tKmwknYJUeG"
      },
      "outputs": [
        {
          "name": "stdout",
          "output_type": "stream",
          "text": [
            "price            1.000000\n",
            "bedrooms         0.200336\n",
            "bathrooms        0.327110\n",
            "sqft_living      0.430410\n",
            "sqft_lot         0.050451\n",
            "floors           0.151461\n",
            "waterfront       0.135648\n",
            "view             0.228504\n",
            "condition        0.034915\n",
            "sqft_above       0.367570\n",
            "sqft_basement    0.210427\n",
            "yr_built         0.021857\n",
            "yr_renovated    -0.028774\n",
            "Name: price, dtype: float64\n"
          ]
        }
      ],
      "source": [
        "#Elegimos unicamente las columnas numéricas \n",
        "df = df.select_dtypes(include=['int64', 'float64'])\n",
        "correlations = df.corr()['price']\n",
        "\n",
        "# la funcion corr nos permite obtener las correlaciones entre las distintas variables\n",
        "# En este caso selecionamos del dataframe la variable \"price\" (precio), por lo cual\n",
        "# obtendremos las relaciones entre esta variable y las demas\n",
        "# Entre mas cercano a 1 sea el valor mayor es la correlacion y mejor es la variable para predecir \"price\"\n",
        "\n",
        "print(correlations) # imprimimos los valores\n",
        "\n",
        "#sqft_living (pies cuadrados de la vivienda) deberia dar el valor de mayor correlacion con el precio de la casa\n"
      ]
    },
    {
      "cell_type": "markdown",
      "metadata": {
        "id": "Of3RQ1GBAoNO"
      },
      "source": [
        "**AQUI TUS OBSERVACIONES SOBRE LAS CORRELACIONES DE LA VARIABLE \"PRICE\" CON RESPECTO A LAS DEMÁS\"**\n",
        "\n",
        "Podemos ver que la convinación de las variables es el motivo del presio de la vivienda, pero hay factores que influyen mas que otros. El factor que mas influye es el los pies cuadrados, lo cual tiene sentido, ya que entre mas grande sea un lugar, usualemente es mas caro. Esto tiene una correlación de 43, por lo que podemos afirmar que es una correlación baja segun pearson. Sumando esta variable con las demas podemos calcular el precio de la vivienda."
      ]
    },
    {
      "cell_type": "markdown",
      "metadata": {
        "id": "S04SOLnnKHkK"
      },
      "source": [
        "**Paso 4. Crea una muestra de 15 elementos, crea un scatterplot y obtén un modelo de regresión lineal entre las variables price (y) y sqft_living (x).**\n",
        "\n"
      ]
    },
    {
      "cell_type": "markdown",
      "metadata": {
        "id": "EVTWDMOwHZvu"
      },
      "source": [
        "Al usar la función shape la consola debería haber mostrado que el dataset contiene 21613, lo cual puede ser una cantidad incomoda para visualizar en gráficas como haremos más adelante. Por este motivo en el siguiente bloque de codigo vamos a \"achicar el dataset\", dejando solo 15 casas para analizar. Más adelante usaremos todo el dataset y podremos comparar resultados."
      ]
    },
    {
      "cell_type": "code",
      "execution_count": 23,
      "metadata": {
        "id": "WsG72x0UdT42"
      },
      "outputs": [
        {
          "name": "stdout",
          "output_type": "stream",
          "text": [
            "3193    2650\n",
            "4043    1260\n",
            "56      2190\n",
            "216     1420\n",
            "3831    1470\n",
            "4195    1730\n",
            "874     1120\n",
            "2510    1384\n",
            "2320    1430\n",
            "1950    1460\n",
            "1661    2780\n",
            "4166    1970\n",
            "1171    3600\n",
            "2561    3030\n",
            "824     2370\n",
            "Name: sqft_living, dtype: int64\n",
            "[[2650]\n",
            " [1260]\n",
            " [2190]\n",
            " [1420]\n",
            " [1470]\n",
            " [1730]\n",
            " [1120]\n",
            " [1384]\n",
            " [1430]\n",
            " [1460]\n",
            " [2780]\n",
            " [1970]\n",
            " [3600]\n",
            " [3030]\n",
            " [2370]]\n"
          ]
        }
      ],
      "source": [
        "df_min = df.sample(15, random_state=9) #creamos un nuevo dataset al cual copiamos 15 valores del dataset original\n",
        "# random_state=10 es un valor que deberias mantener igual si quieres obtener las mismas graficas, es basicamente la forma de asegurarse de que los 15 datos que seleccionamos sean los mismos\n",
        "# si pongo otro valor como random state el conjunto de 15 datos seria diferente\n",
        "\n",
        "from sklearn.linear_model import LinearRegression # Sklearn es la libreria de machine leaarning que estaremos usando, por ahora solo usaremos su funcion de Regresion lineal\n",
        "X = df_min['sqft_living'].values.reshape(-1,1) # Definimos como X los valores de la columna que contiene el área de la vivienda en pies cuadrados\n",
        "# \".values.reshape(-1,1)\" es necesario para luego utilizar la funcion fit, es sencillamente algo relacionado a ajustar el formato del Array. Le decimos que todos los datos deben de formatearse en un array de una dimensión\n",
        "\n",
        "y = df_min['price'].values.reshape(-1,1)  # Definimos como Y la columna que contiene los precios de las viviendas\n",
        "\n",
        "#Imprime los valores para ver las diferencias entre las estructuras de datos\n",
        "print(df_min['sqft_living'])\n",
        "print(X)\n"
      ]
    },
    {
      "cell_type": "code",
      "execution_count": 24,
      "metadata": {
        "id": "kgWHG1H9Fyzw"
      },
      "outputs": [
        {
          "data": {
            "text/plain": [
              "Text(0.5, 0, 'Superficie en pies cuadrados')"
            ]
          },
          "execution_count": 24,
          "metadata": {},
          "output_type": "execute_result"
        },
        {
          "data": {
            "image/png": "[encoded data removed]",
            "text/plain": [
              "<Figure size 640x480 with 1 Axes>"
            ]
          },
          "metadata": {},
          "output_type": "display_data"
        }
      ],
      "source": [
        "import matplotlib.pyplot as plt # Esta libreria tiene herramientas para graficar\n",
        "\n",
        "\n",
        "# Ahora que tenemos un conjunto de datos mas pequeño deberia ser facil graficarlo\n",
        "\n",
        "plt.scatter(X,y) # Genera una grafica de puntos\n",
        "\n",
        "plt.title('Demostración de Regresión Lineal') # Agrego un titulo\n",
        "plt.ylabel('Valor de las casas') # defino un nombre del eje y\n",
        "plt.xlabel('Superficie en pies cuadrados') # defino un nombre del eje x"
      ]
    },
    {
      "cell_type": "code",
      "execution_count": 25,
      "metadata": {
        "id": "BQw_tNg3e23H"
      },
      "outputs": [
        {
          "name": "stdout",
          "output_type": "stream",
          "text": [
            "[8830.95032006]\n",
            "[[267.71483208]]\n"
          ]
        }
      ],
      "source": [
        "reg = LinearRegression().fit(X,y)\n",
        "# La funcion fit relaciona los valores de X e y, mientras que Linear Regression calcula la recta\n",
        "# la recta (y = mx + b) obtenida se guarda en la variable reg\n",
        "print(reg.intercept_) # La intersección con el eje de las y's\n",
        "print(reg.coef_) # La pendiente"
      ]
    },
    {
      "cell_type": "markdown",
      "metadata": {
        "id": "pBohDTaDEY8k"
      },
      "source": [
        "Matematicamente, los valores obtenidos a través de la recta se representan matemáticamente así: *ŷ*, para diferenciarlo de la *y* común, la cual en este caso contiene los valores de precios. Como a *ŷ* se le suele decir \"y con sombrero\" (en inglés \"hat\" es \"sombrero\") llamaremos a la variable que contiene los valores predecidos y_hat, lo cual seria como llamarla y_con_sombrero"
      ]
    },
    {
      "cell_type": "code",
      "execution_count": 26,
      "metadata": {
        "colab": {
          "base_uri": "https://localhost:8080/"
        },
        "id": "uTxjuUYlFmEg",
        "outputId": "f42175bd-0a86-441c-9464-04bab5428d07"
      },
      "outputs": [
        {
          "name": "stdout",
          "output_type": "stream",
          "text": [
            "[[718275.25532869]\n",
            " [346151.63873925]\n",
            " [595126.43257247]\n",
            " [388986.01187185]\n",
            " [402371.75347579]\n",
            " [471977.60981626]\n",
            " [308671.56224823]\n",
            " [379348.27791702]\n",
            " [391663.16019264]\n",
            " [399694.605155  ]\n",
            " [753078.18349892]\n",
            " [536229.16951515]\n",
            " [972604.34580348]\n",
            " [820006.8915186 ]\n",
            " [643315.10234664]]\n"
          ]
        }
      ],
      "source": [
        "y_hat = reg.predict(X) # Sustituimos en la recta (y = mx + b) nuestros valores iniciales de X\n",
        "print(y_hat) # guardamos los resultados en y_hat"
      ]
    },
    {
      "cell_type": "code",
      "execution_count": 27,
      "metadata": {
        "id": "iB1oUM8ifpzA"
      },
      "outputs": [
        {
          "data": {
            "text/plain": [
              "Text(0.5, 0, 'Superficie en pies cuadrados')"
            ]
          },
          "execution_count": 27,
          "metadata": {},
          "output_type": "execute_result"
        },
        {
          "data": {
            "image/png": "[encoded data removed]",
            "text/plain": [
              "<Figure size 640x480 with 1 Axes>"
            ]
          },
          "metadata": {},
          "output_type": "display_data"
        }
      ],
      "source": [
        "import matplotlib.pyplot as plt # Esta libreria tiene herramientas para graficar\n",
        "\n",
        "# Recreamos la misma grafica pero ahora se muestra la recta obtenida\n",
        "\n",
        "plt.scatter(X,y)\n",
        "plt.plot(X, y_hat, color='green')\n",
        "\n",
        "plt.title('Demostración de Regresión Lineal') # Agrego un titulo\n",
        "plt.ylabel('Valor de las casas') # defino un nombre del eje y\n",
        "plt.xlabel('Superficie en pies cuadrados') # defino un nombre del eje x"
      ]
    },
    {
      "cell_type": "code",
      "execution_count": 28,
      "metadata": {
        "id": "1ijlu5bu3uYf"
      },
      "outputs": [
        {
          "data": {
            "image/png": "[encoded data removed]",
            "text/plain": [
              "<Figure size 640x480 with 1 Axes>"
            ]
          },
          "metadata": {},
          "output_type": "display_data"
        }
      ],
      "source": [
        "import matplotlib.pyplot as plt # Esta libreria tiene herramientas para graficar\n",
        "\n",
        "# Recreamos la misma grafica pero ahora se muestra la recta obtenida\n",
        "\n",
        "plt.scatter(X,y) # Grafica de dispersion, muestra los puntos iniciales\n",
        "\n",
        "plt.scatter(X,y_hat, color='red')\n",
        "\n",
        "# grafica de dispersion, muestra los puntos que se obtienen al sustituir nuestros valores iniciales de X en la ecuacion y = mx + b obtenida mediante regresion\n",
        "\n",
        "plt.plot(X, y_hat, color='green') # Dibuja la linea de regresion\n",
        "\n",
        "\n",
        "plt.title('Demostración de Regresión Lineal') # asigna titulo a la grafica\n",
        "plt.ylabel('Valor de las casas') # asigna nombre al eje y de la grafica\n",
        "plt.xlabel('Superficie en pies cuadrados') # asigna nombre al eje x de la grafica\n",
        "\n",
        "# No preocuparse demasiado por esta parte, al igual que las otras graficas no es necesaria\n",
        "# pero ayuda a visualizar que esta pasando\n",
        "\n",
        "# Esto es un loop, el cual recorre todos los valores de los conjuntos X, y, y_hat\n",
        "# a medida que los recorre va dibujando lineas punteadas para ilustrar el error de la regresion\n",
        "for i in range(0, len(X)):\n",
        "  point1 = [X[i], y[i]]\n",
        "  point2 = [X[i], y_hat[i]]\n",
        "\n",
        "  x_values = [point1[0], point2[0]]\n",
        "  y_values = [point1[1], point2[1]]\n",
        "\n",
        "  plt.plot(x_values, y_values, color='red', linestyle='dashed')\n",
        "\n"
      ]
    },
    {
      "cell_type": "markdown",
      "metadata": {
        "id": "fWkeUhd_HaT8"
      },
      "source": [
        "En este momento en la variable y tenemos los valores de precios originales, mientras que en y_hat tenemos los valores de precios obtenidos mediante la regresión lineal. Si comparamos la diferencia entre estos valores podemos obtener el R2 de la recta.\n"
      ]
    },
    {
      "cell_type": "code",
      "execution_count": 29,
      "metadata": {
        "colab": {
          "base_uri": "https://localhost:8080/"
        },
        "id": "0gVxAjjkiC1i",
        "outputId": "7abfb982-43dd-43a4-d591-669f48169d8e"
      },
      "outputs": [
        {
          "data": {
            "text/plain": [
              "0.795264826878469"
            ]
          },
          "execution_count": 29,
          "metadata": {},
          "output_type": "execute_result"
        }
      ],
      "source": [
        "from sklearn.metrics import r2_score\n",
        "r2_score(y, y_hat)\n",
        "# |\n",
        "# |\n",
        "# | Deberia aparecer el r2 una vez ejecutes este codigo\n",
        "# |\n",
        "# ↓"
      ]
    },
    {
      "cell_type": "markdown",
      "metadata": {
        "id": "Bc1CrxRGIFEI"
      },
      "source": [
        "Al momento de escribir este texto el R2 obtenido es de 0.7952, o sea, un buen modelo. :)\n",
        "Pero es momento de recordar que de los miles de datos del dataset utilizamos solo 15. ¿Qué sucede si los usamos todos?"
      ]
    },
    {
      "cell_type": "code",
      "execution_count": 30,
      "metadata": {
        "colab": {
          "base_uri": "https://localhost:8080/",
          "height": 489
        },
        "id": "rAMOkfX9iTil",
        "outputId": "ec1d3613-f565-4685-8431-c87e13cfc970"
      },
      "outputs": [
        {
          "data": {
            "text/plain": [
              "Text(0.5, 0, 'Superficie en pies cuadrados')"
            ]
          },
          "execution_count": 30,
          "metadata": {},
          "output_type": "execute_result"
        },
        {
          "data": {
            "image/png": "[encoded data removed]",
            "text/plain": [
              "<Figure size 640x480 with 1 Axes>"
            ]
          },
          "metadata": {},
          "output_type": "display_data"
        }
      ],
      "source": [
        "# Defino nuevos valores de X e y pero con un 1 al final para no repetir nombres de variables\n",
        "\n",
        "X1 = df['sqft_living'].values.reshape(-1,1)\n",
        "y1 = df['price'].values.reshape(-1,1)\n",
        "\n",
        "# vuelvo a usar las herramientas de regresion\n",
        "\n",
        "reg = LinearRegression().fit(X1,y1)\n",
        "y_hat1 = reg.predict(X1)\n",
        "\n",
        "# Y grafico nuevamente\n",
        "plt.scatter(X1,y1)\n",
        "plt.plot(X1, y_hat1, color='green')\n",
        "plt.title('Demostración de Regresión Lineal')\n",
        "plt.ylabel('Valor de las casas')\n",
        "plt.xlabel('Superficie en pies cuadrados')"
      ]
    },
    {
      "cell_type": "markdown",
      "metadata": {
        "id": "z-J9CuF5IjQT"
      },
      "source": [
        "Ahora que tengo todos los datos la recta ya no parece tan representativa, ¿No?\n",
        "\n",
        "Veamos su valor de R2"
      ]
    },
    {
      "cell_type": "code",
      "execution_count": 31,
      "metadata": {
        "colab": {
          "base_uri": "https://localhost:8080/"
        },
        "id": "M0IRiXzkDItk",
        "outputId": "ffe7bf62-fbf0-46b8-a043-5bdf0bdad5f3"
      },
      "outputs": [
        {
          "data": {
            "text/plain": [
              "0.18525278999291528"
            ]
          },
          "execution_count": 31,
          "metadata": {},
          "output_type": "execute_result"
        }
      ],
      "source": [
        "r2_score(y1, y_hat1)\n",
        "# |\n",
        "# |\n",
        "# | Deberia aparecer el r2 una vez ejecutes este codigo\n",
        "# |\n",
        "# ↓"
      ]
    },
    {
      "cell_type": "markdown",
      "metadata": {
        "id": "j60cKvfVIw1J"
      },
      "source": [
        "El valor de R2 obtenido deberia ser de 0.1852, un valor mucho menor y no muy útil. ¿Por qué sucede esto?\n",
        "La respuesta es bastante sencilla, con el primer conjunto de datos tuvimos \"suerte\" de que los pocos valores caian cerca de la recta. Pero al utilizar todos los datos del dataset se mostró que una recta que considera solo dos variables no es suficiente para predecir de forma adecuada el valor de las casas, resulta que hay muchos otros factores que afectan."
      ]
    },
    {
      "cell_type": "markdown",
      "metadata": {
        "id": "D-nLMfXeJUQ2"
      },
      "source": [
        "AQUI TUS OBSERVACIONES CONCLUSINES SOBRE EL ANÁLISIS REALIZADO\n",
        "\n",
        "Podmeos ver que es mas sencillo de comprender el modelo cuando usamos una cantidad de datos. La grafica con toda la población de datos es útil, sin embargo, hay algunos outliers que hacen que la escala se agrande mucho, lo que dificulta el entendimiento de la grafica.\n",
        "\n",
        "En cambio, en la grafica con una menor cantidad de datos nos podemos dar una mejor idea y puede ser mas entendible para personas sin conocimiento técnico.\n",
        "\n",
        "Hay que tener en mente que el tener menos datos no siempre es mejor, en este caso para presentar y grafuicar si, pero es importante siempre hacerlo con la población de datos completa."
      ]
    }
  ],
  "metadata": {
    "colab": {
      "provenance": []
    },
    "kernelspec": {
      "display_name": "Python 3",
      "name": "python3"
    },
    "language_info": {
      "codemirror_mode": {
        "name": "ipython",
        "version": 3
      },
      "file_extension": ".py",
      "mimetype": "text/x-python",
      "name": "python",
      "nbconvert_exporter": "python",
      "pygments_lexer": "ipython3",
      "version": "3.11.6"
    }
  },
  "nbformat": 4,
  "nbformat_minor": 0
}
