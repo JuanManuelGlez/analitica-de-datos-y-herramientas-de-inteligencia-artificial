{
 "cells": [
  {
   "cell_type": "markdown",
   "metadata": {},
   "source": [
    "# Actividad en clase: Lectura de BDs relacionales a Pandas con SQL"
   ]
  },
  {
   "cell_type": "code",
   "execution_count": 8,
   "metadata": {},
   "outputs": [],
   "source": [
    "#Creamos una conexión con la base de datos\n",
    "\n",
    "import pandas as pd\n",
    "import sqlite3\n",
    "\n",
    "#Creamos una conexión con la base de datos\n",
    "conexion = sqlite3.connect(\"shop.sqlite\")\n"
   ]
  },
  {
   "cell_type": "code",
   "execution_count": 9,
   "metadata": {},
   "outputs": [
    {
     "name": "stdout",
     "output_type": "stream",
     "text": [
      "    ProductID                      ProductName  SupplierID  CategoryID  \\\n",
      "0           1                            Chais           1           1   \n",
      "1           7  Uncle Bob's Organic Dried Pears           3           7   \n",
      "2           8       Northwoods Cranberry Sauce           3           2   \n",
      "3          10                            Ikura           4           8   \n",
      "4          12        Queso Manchego La Pastora           5           4   \n",
      "5          17                     Alice Mutton           7           6   \n",
      "6          26              Gumbär Gummibärchen          11           3   \n",
      "7          27               Schoggi Schokolade          11           3   \n",
      "8          28                Rössle Sauerkraut          12           7   \n",
      "9          32               Mascarpone Fabioli          14           4   \n",
      "10         43                      Ipoh Coffee          20           1   \n",
      "11         51            Manjimup Dried Apples          24           7   \n",
      "12         53                    Perth Pasties          24           6   \n",
      "13         56           Gnocchi di nonna Alice          26           5   \n",
      "14         59             Raclette Courdavault          28           4   \n",
      "15         60                Camembert Pierrot          28           4   \n",
      "16         62                   Tarte au sucre          29           3   \n",
      "17         63                     Vegie-spread           7           2   \n",
      "18         64        Wimmers gute Semmelknödel          12           5   \n",
      "19         69                 Gudbrandsdalsost          15           4   \n",
      "20         72           Mozzarella di Giovanni          14           4   \n",
      "\n",
      "                  Unit  Price  \n",
      "0   10 boxes x 20 bags  31.00  \n",
      "1      12 - 1 lb pkgs.  30.00  \n",
      "2      12 - 12 oz jars  40.00  \n",
      "3     12 - 200 ml jars  31.00  \n",
      "4     10 - 500 g pkgs.  38.00  \n",
      "5       20 - 1 kg tins  39.00  \n",
      "6     100 - 250 g bags  31.23  \n",
      "7   100 - 100 g pieces  43.90  \n",
      "8      25 - 825 g cans  45.60  \n",
      "9     24 - 200 g pkgs.  32.00  \n",
      "10     16 - 500 g tins  46.00  \n",
      "11    50 - 300 g pkgs.  53.00  \n",
      "12           48 pieces  32.80  \n",
      "13    24 - 250 g pkgs.  38.00  \n",
      "14           5 kg pkg.  55.00  \n",
      "15   15 - 300 g rounds  34.00  \n",
      "16             48 pies  49.30  \n",
      "17     15 - 625 g jars  43.90  \n",
      "18  20 bags x 4 pieces  33.25  \n",
      "19          10 kg pkg.  36.00  \n",
      "20    24 - 200 g pkgs.  34.80  \n"
     ]
    }
   ],
   "source": [
    "#Despliega los productos vendidos por kilogramos con precio entre $30 y $60.\n",
    "query = \"SELECT * FROM products WHERE price BETWEEN 30 AND 60\"\n",
    "df = pd.read_sql_query(query, conexion)\n",
    "print(df)\n"
   ]
  },
  {
   "cell_type": "code",
   "execution_count": 12,
   "metadata": {},
   "outputs": [
    {
     "name": "stdout",
     "output_type": "stream",
     "text": [
      "   EmployeeID   LastName FirstName   BirthDate       Photo  \\\n",
      "0           1    Davolio     Nancy  1968-12-08  EmpID1.pic   \n",
      "1           2     Fuller    Andrew  1952-02-19  EmpID2.pic   \n",
      "2           3  Leverling     Janet  1963-08-30  EmpID3.pic   \n",
      "3           4    Peacock  Margaret  1958-09-19  EmpID4.pic   \n",
      "4           5   Buchanan    Steven  1955-03-04  EmpID5.pic   \n",
      "5           6     Suyama   Michael  1963-07-02  EmpID6.pic   \n",
      "6           7       King    Robert  1960-05-29  EmpID7.pic   \n",
      "7           8   Callahan     Laura  1958-01-09  EmpID8.pic   \n",
      "8           9  Dodsworth      Anne  1969-07-02  EmpID9.pic   \n",
      "\n",
      "                                               Notes  \n",
      "0  Education includes a BA in psychology from Col...  \n",
      "1  Andrew received his BTS commercial and a Ph.D....  \n",
      "2  Janet has a BS degree in chemistry from Boston...  \n",
      "3  Margaret holds a BA in English literature from...  \n",
      "4  Steven Buchanan graduated from St. Andrews Uni...  \n",
      "5  Michael is a graduate of Sussex University (MA...  \n",
      "6  Robert King served in the Peace Corps and trav...  \n",
      "7  Laura received a BA in psychology from the Uni...  \n",
      "8  Anne has a BA degree in English from St. Lawre...  \n"
     ]
    }
   ],
   "source": [
    "#Muestre los empleados nacidos entre 1950 y 1980 con Ph.D.\n",
    "query = \"SELECT * FROM Employees WHERE BirthDate BETWEEN '1950-01-01' AND '1980-12-31' \"\n",
    "\n",
    "df = pd.read_sql_query(query, conexion)\n",
    "print(df)"
   ]
  }
 ],
 "metadata": {
  "kernelspec": {
   "display_name": "Python 3",
   "language": "python",
   "name": "python3"
  },
  "language_info": {
   "codemirror_mode": {
    "name": "ipython",
    "version": 3
   },
   "file_extension": ".py",
   "mimetype": "text/x-python",
   "name": "python",
   "nbconvert_exporter": "python",
   "pygments_lexer": "ipython3",
   "version": "3.11.6"
  }
 },
 "nbformat": 4,
 "nbformat_minor": 2
}
